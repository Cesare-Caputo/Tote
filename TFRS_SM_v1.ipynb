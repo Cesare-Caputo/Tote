{
  "nbformat": 4,
  "nbformat_minor": 0,
  "metadata": {
    "colab": {
      "provenance": [],
      "toc_visible": true,
      "authorship_tag": "ABX9TyM78GcOk2GCt8z8hpmIt0yz",
      "include_colab_link": true
    },
    "kernelspec": {
      "name": "python3",
      "display_name": "Python 3"
    },
    "language_info": {
      "name": "python"
    }
  },
  "cells": [
    {
      "cell_type": "markdown",
      "metadata": {
        "id": "view-in-github",
        "colab_type": "text"
      },
      "source": [
        "<a href=\"https://colab.research.google.com/github/Cesare-Caputo/Tote/blob/main/TFRS_SM_v1.ipynb\" target=\"_parent\"><img src=\"https://colab.research.google.com/assets/colab-badge.svg\" alt=\"Open In Colab\"/></a>"
      ]
    },
    {
      "cell_type": "code",
      "metadata": {
        "id": "izYBLiFjq27S",
        "colab": {
          "base_uri": "https://localhost:8080/"
        },
        "outputId": "3c2d0dac-d19b-4c6a-c017-a4b4106bbfaf"
      },
      "source": [
        "!pip install -q tensorflow-recommenders\n",
        "!pip install -q --upgrade tensorflow-datasets\n",
        "!pip install -q scann"
      ],
      "execution_count": null,
      "outputs": [
        {
          "output_type": "stream",
          "name": "stdout",
          "text": [
            "\u001b[K     |████████████████████████████████| 85 kB 1.7 MB/s \n",
            "\u001b[K     |████████████████████████████████| 4.0 MB 5.5 MB/s \n",
            "\u001b[K     |████████████████████████████████| 10.6 MB 65 kB/s \n",
            "\u001b[?25h"
          ]
        }
      ]
    },
    {
      "cell_type": "code",
      "metadata": {
        "id": "fmkbosOdSKUw"
      },
      "source": [
        "#!pip install tensorflowjs\n",
        "#%tensorflow_version 2.x"
      ],
      "execution_count": null,
      "outputs": []
    },
    {
      "cell_type": "code",
      "metadata": {
        "id": "4XA4pNx-q7t7"
      },
      "source": [
        "import os\n",
        "import pprint\n",
        "import tempfile\n",
        "\n",
        "from typing import Dict, Text\n",
        "\n",
        "import numpy as np\n",
        "import tensorflow as tf\n",
        "import tensorflow_datasets as tfds\n",
        "import tensorflow_recommenders as tfrs"
      ],
      "execution_count": null,
      "outputs": []
    },
    {
      "cell_type": "code",
      "metadata": {
        "id": "Kx5GM-j-nlFC",
        "colab": {
          "base_uri": "https://localhost:8080/"
        },
        "outputId": "6424496b-2cfb-4a4d-eb79-83cfd9dc329a"
      },
      "source": [
        "# imports\n",
        "import json\n",
        "import matplotlib.pyplot as plt\n",
        "import pandas as pd\n",
        "import numpy as np\n",
        "from IPython.display import Image, display\n",
        "\n",
        "from google.colab import drive\n",
        "drive.mount('/content/gdrive', force_remount=True)\n",
        "root_dir = \"/content/gdrive/My Drive/Content-Based/dataframes/\"\n"
      ],
      "execution_count": null,
      "outputs": [
        {
          "output_type": "stream",
          "name": "stdout",
          "text": [
            "Mounted at /content/gdrive\n"
          ]
        }
      ]
    },
    {
      "cell_type": "code",
      "metadata": {
        "id": "yeJmV6xNSyo7"
      },
      "source": [
        "import json\n",
        "from bson.json_util import dumps\n",
        "#from pymongo import MongoClient"
      ],
      "execution_count": null,
      "outputs": []
    },
    {
      "cell_type": "code",
      "metadata": {
        "id": "xNQn24AmKGiJ"
      },
      "source": [
        "#Gallery for Visualization\n",
        "from IPython.display import HTML, Image\n",
        "\n",
        "def _src_from_data(data):\n",
        "    \"\"\"Base64 encodes image bytes for inclusion in an HTML img element\"\"\"\n",
        "    img_obj = Image(data=data)\n",
        "    for bundle in img_obj._repr_mimebundle_():\n",
        "        for mimetype, b64value in bundle.items():\n",
        "            if mimetype.startswith('image/'):\n",
        "                return f'data:{mimetype};base64,{b64value}'\n",
        "\n",
        "def gallery(images, row_height='auto'):\n",
        "    \"\"\"Shows a set of images in a gallery that flexes with the width of the notebook.\n",
        "\n",
        "    Parameters\n",
        "    ----------\n",
        "    images: list of str or bytes\n",
        "        URLs or bytes of images to display\n",
        "\n",
        "    row_height: str\n",
        "        CSS height value to assign to all images. Set to 'auto' by default to show images\n",
        "        with their native dimensions. Set to a value like '250px' to make all rows\n",
        "        in the gallery equal height.\n",
        "    \"\"\"\n",
        "    figures = []\n",
        "    for image in images:\n",
        "        if isinstance(image, bytes):\n",
        "            src = _src_from_data(image)\n",
        "            caption = ''\n",
        "        else:\n",
        "            src = image\n",
        "            caption = f'<figcaption style=\"font-size: 0.6em\">{image}</figcaption>'\n",
        "        figures.append(f'''\n",
        "            <figure style=\"margin: 5px !important;\">\n",
        "              <img src=\"{src}\" style=\"height: {row_height}\">\n",
        "            </figure>\n",
        "        ''')\n",
        "    return HTML(data=f'''\n",
        "        <div style=\"display: flex; flex-flow: row wrap; text-align: center;\">\n",
        "        {''.join(figures)}\n",
        "        </div>\n",
        "    ''')\n",
        "\n",
        "\n",
        "\n"
      ],
      "execution_count": null,
      "outputs": []
    },
    {
      "cell_type": "markdown",
      "metadata": {
        "id": "qvFOjLabS3Uo"
      },
      "source": [
        "#Import tagged items from Mongo DB"
      ]
    },
    {
      "cell_type": "code",
      "metadata": {
        "id": "cIxuX5kXUbFX"
      },
      "source": [
        "# list them as individual dictionaries to access info later\n",
        "full_items = []\n",
        "items = []\n",
        "item_ids= []\n",
        "for line in open(root_dir + 'taggedItems.json', 'r'):\n",
        "    data = json.loads(line)\n",
        "    for item in range(len(data)):\n",
        "        items.append(data[item])\n",
        "        full_items.append(data[item])\n",
        "        item_ids.append(data[item]['_id']['$oid'])\n",
        "\n",
        "\n",
        "# list untagged items too to find them as individual dictionaries to access info later\n",
        "untagged_items = []\n",
        "for line in open(root_dir + 'NottaggedItems.json', 'r'):\n",
        "    data = json.loads(line)\n",
        "    for item in range(len(data)):\n",
        "        full_items.append(data[item])\n",
        "        untagged_items.append(data[item]['_id']['$oid'])"
      ],
      "execution_count": null,
      "outputs": []
    },
    {
      "cell_type": "code",
      "metadata": {
        "id": "bN_bP1C6WO3H"
      },
      "source": [
        "# Define find_item() function\n",
        "def find_item(id):\n",
        " return next(item for item in full_items if item[\"_id\"][\"$oid\"] == id)\n",
        "# return list of unique items , useful for debuggin mostly\n",
        "def unpack_unique_reccs(idx):\n",
        "  s = []\n",
        "  for i in range(len(idx)):\n",
        "    s.append(idx[i])\n",
        "  return list(set(s))\n",
        "\n",
        "# function to flaten nested list of tags to input into DF\n",
        "def flatten(A):\n",
        "    rt = []\n",
        "    for i in A:\n",
        "        if isinstance(i,list): rt.extend(flatten(i))\n",
        "        else: rt.append(i)\n",
        "    return rt\n",
        "\n",
        "\n",
        "\n",
        "def list_of_tags_from_df(df):\n",
        "  all_tags_nested_list = []\n",
        "  for c in df.columns:\n",
        "    all_tags_nested_list.append(unpack_unique_reccs(df[c].value_counts().index))\n",
        "  all_tags_list = flatten(all_tags_nested_list)\n",
        "  return all_tags_list"
      ],
      "execution_count": null,
      "outputs": []
    },
    {
      "cell_type": "code",
      "metadata": {
        "id": "uL75O4SFWBj8",
        "colab": {
          "base_uri": "https://localhost:8080/",
          "height": 202
        },
        "outputId": "5d730a0c-53f3-4049-f3b1-765ae66dea60"
      },
      "source": [
        "interactions_dataset_df.head()"
      ],
      "execution_count": null,
      "outputs": [
        {
          "output_type": "execute_result",
          "data": {
            "text/html": [
              "<div>\n",
              "<style scoped>\n",
              "    .dataframe tbody tr th:only-of-type {\n",
              "        vertical-align: middle;\n",
              "    }\n",
              "\n",
              "    .dataframe tbody tr th {\n",
              "        vertical-align: top;\n",
              "    }\n",
              "\n",
              "    .dataframe thead th {\n",
              "        text-align: right;\n",
              "    }\n",
              "</style>\n",
              "<table border=\"1\" class=\"dataframe\">\n",
              "  <thead>\n",
              "    <tr style=\"text-align: right;\">\n",
              "      <th></th>\n",
              "      <th>USER_ID</th>\n",
              "      <th>ITEM_ID</th>\n",
              "      <th>TIMESTAMP</th>\n",
              "      <th>EVENT_TYPE</th>\n",
              "    </tr>\n",
              "  </thead>\n",
              "  <tbody>\n",
              "    <tr>\n",
              "      <th>0</th>\n",
              "      <td>5eb6d78a737d8c0017edc801</td>\n",
              "      <td>5e92133978f479914f162ad8</td>\n",
              "      <td>1.589150e+12</td>\n",
              "      <td>WISH</td>\n",
              "    </tr>\n",
              "    <tr>\n",
              "      <th>1</th>\n",
              "      <td>5eb6d78a737d8c0017edc801</td>\n",
              "      <td>5e92133878f479914f1629d9</td>\n",
              "      <td>1.589150e+12</td>\n",
              "      <td>WISH</td>\n",
              "    </tr>\n",
              "    <tr>\n",
              "      <th>2</th>\n",
              "      <td>5eb6d78a737d8c0017edc801</td>\n",
              "      <td>5e92154f78f479914f169b93</td>\n",
              "      <td>1.589150e+12</td>\n",
              "      <td>WISH</td>\n",
              "    </tr>\n",
              "    <tr>\n",
              "      <th>3</th>\n",
              "      <td>5eb6d78a737d8c0017edc801</td>\n",
              "      <td>5e92135378f479914f163b80</td>\n",
              "      <td>1.589150e+12</td>\n",
              "      <td>WISH</td>\n",
              "    </tr>\n",
              "    <tr>\n",
              "      <th>4</th>\n",
              "      <td>5eb6d78a737d8c0017edc801</td>\n",
              "      <td>5e92133878f479914f162a3a</td>\n",
              "      <td>1.589150e+12</td>\n",
              "      <td>WISH</td>\n",
              "    </tr>\n",
              "  </tbody>\n",
              "</table>\n",
              "</div>"
            ],
            "text/plain": [
              "                    USER_ID                   ITEM_ID     TIMESTAMP EVENT_TYPE\n",
              "0  5eb6d78a737d8c0017edc801  5e92133978f479914f162ad8  1.589150e+12       WISH\n",
              "1  5eb6d78a737d8c0017edc801  5e92133878f479914f1629d9  1.589150e+12       WISH\n",
              "2  5eb6d78a737d8c0017edc801  5e92154f78f479914f169b93  1.589150e+12       WISH\n",
              "3  5eb6d78a737d8c0017edc801  5e92135378f479914f163b80  1.589150e+12       WISH\n",
              "4  5eb6d78a737d8c0017edc801  5e92133878f479914f162a3a  1.589150e+12       WISH"
            ]
          },
          "metadata": {
            "tags": []
          },
          "execution_count": 190
        }
      ]
    },
    {
      "cell_type": "code",
      "metadata": {
        "id": "w0miL4DaAahk"
      },
      "source": [
        "full_item_df = pd.read_csv(root_dir + 'full_item_df.csv') # tags and description\n",
        "item_tag_df = pd.read_csv(root_dir + 'item_tag_df.csv') # string tags\n",
        "user_id_interaction_df = pd.read_csv(root_dir + 'user_id_interaction_df.csv') # user id index based interaction df\n",
        "full_item_df.set_index(['item'], inplace = True)\n",
        "item_tag_df.set_index(['item'], inplace = True)\n",
        "user_id_interaction_df.set_index(['user_id'], inplace = True)"
      ],
      "execution_count": null,
      "outputs": []
    },
    {
      "cell_type": "code",
      "metadata": {
        "colab": {
          "base_uri": "https://localhost:8080/",
          "height": 352
        },
        "id": "b1uoi4yIBEu-",
        "outputId": "b4a8e055-4892-41ec-d202-a3603dab1dad"
      },
      "source": [
        "item_tag_df.head()"
      ],
      "execution_count": null,
      "outputs": [
        {
          "output_type": "execute_result",
          "data": {
            "text/html": [
              "<div>\n",
              "<style scoped>\n",
              "    .dataframe tbody tr th:only-of-type {\n",
              "        vertical-align: middle;\n",
              "    }\n",
              "\n",
              "    .dataframe tbody tr th {\n",
              "        vertical-align: top;\n",
              "    }\n",
              "\n",
              "    .dataframe thead th {\n",
              "        text-align: right;\n",
              "    }\n",
              "</style>\n",
              "<table border=\"1\" class=\"dataframe\">\n",
              "  <thead>\n",
              "    <tr style=\"text-align: right;\">\n",
              "      <th></th>\n",
              "      <th>category</th>\n",
              "      <th>primaryColor</th>\n",
              "      <th>primaryPattern</th>\n",
              "      <th>primaryTheme</th>\n",
              "      <th>rawMaterial</th>\n",
              "      <th>article</th>\n",
              "      <th>length</th>\n",
              "      <th>frontOpening</th>\n",
              "      <th>waistRiseLevels</th>\n",
              "      <th>neckline</th>\n",
              "      <th>sleeveLength</th>\n",
              "      <th>armHole</th>\n",
              "      <th>roundNecklineSubsection</th>\n",
              "      <th>sleeveType</th>\n",
              "      <th>cuff</th>\n",
              "      <th>secondaryColor</th>\n",
              "      <th>hemFinish</th>\n",
              "      <th>buttonClosureSubsection</th>\n",
              "      <th>hemline</th>\n",
              "      <th>backNeckline</th>\n",
              "      <th>closedSubsection</th>\n",
              "      <th>halter</th>\n",
              "      <th>strapWidth</th>\n",
              "      <th>squareNecklineSubsection</th>\n",
              "      <th>fullnessSkirt</th>\n",
              "      <th>hood</th>\n",
              "      <th>scoopNecklineSubsection</th>\n",
              "      <th>vNeckSubsection</th>\n",
              "      <th>sweetheartNecklineSubsection</th>\n",
              "      <th>tiedClosureSubsection</th>\n",
              "      <th>subArticle</th>\n",
              "      <th>locationOfTheme</th>\n",
              "      <th>pockets</th>\n",
              "      <th>patchPocketSubsection</th>\n",
              "      <th>collar</th>\n",
              "      <th>traditionalMenswearCollarSubsection</th>\n",
              "      <th>secondaryPattern</th>\n",
              "      <th>thirdColor</th>\n",
              "      <th>customerFacing</th>\n",
              "      <th>hardware</th>\n",
              "      <th>zipperClosureSubsection</th>\n",
              "      <th>closureZippersSubsection</th>\n",
              "      <th>weltPocketSubsection</th>\n",
              "      <th>closureButtonsSubsection</th>\n",
              "      <th>foldOverCollarSubsection</th>\n",
              "      <th>fabrics</th>\n",
              "      <th>highNecklineSubsection</th>\n",
              "      <th>standCollarSubsection</th>\n",
              "      <th>knitSubsection</th>\n",
              "      <th>openSubsection</th>\n",
              "      <th>lining</th>\n",
              "      <th>fourthColor</th>\n",
              "      <th>buttCoverage</th>\n",
              "      <th>legCoverage</th>\n",
              "      <th>rayonSubsection</th>\n",
              "    </tr>\n",
              "    <tr>\n",
              "      <th>item</th>\n",
              "      <th></th>\n",
              "      <th></th>\n",
              "      <th></th>\n",
              "      <th></th>\n",
              "      <th></th>\n",
              "      <th></th>\n",
              "      <th></th>\n",
              "      <th></th>\n",
              "      <th></th>\n",
              "      <th></th>\n",
              "      <th></th>\n",
              "      <th></th>\n",
              "      <th></th>\n",
              "      <th></th>\n",
              "      <th></th>\n",
              "      <th></th>\n",
              "      <th></th>\n",
              "      <th></th>\n",
              "      <th></th>\n",
              "      <th></th>\n",
              "      <th></th>\n",
              "      <th></th>\n",
              "      <th></th>\n",
              "      <th></th>\n",
              "      <th></th>\n",
              "      <th></th>\n",
              "      <th></th>\n",
              "      <th></th>\n",
              "      <th></th>\n",
              "      <th></th>\n",
              "      <th></th>\n",
              "      <th></th>\n",
              "      <th></th>\n",
              "      <th></th>\n",
              "      <th></th>\n",
              "      <th></th>\n",
              "      <th></th>\n",
              "      <th></th>\n",
              "      <th></th>\n",
              "      <th></th>\n",
              "      <th></th>\n",
              "      <th></th>\n",
              "      <th></th>\n",
              "      <th></th>\n",
              "      <th></th>\n",
              "      <th></th>\n",
              "      <th></th>\n",
              "      <th></th>\n",
              "      <th></th>\n",
              "      <th></th>\n",
              "      <th></th>\n",
              "      <th></th>\n",
              "      <th></th>\n",
              "      <th></th>\n",
              "      <th></th>\n",
              "    </tr>\n",
              "  </thead>\n",
              "  <tbody>\n",
              "    <tr>\n",
              "      <th>5f29685f65f956545839cf5f</th>\n",
              "      <td>tops</td>\n",
              "      <td>beige</td>\n",
              "      <td>stripes</td>\n",
              "      <td>NaN</td>\n",
              "      <td>linen</td>\n",
              "      <td>t-shirts</td>\n",
              "      <td>regular</td>\n",
              "      <td>NaN</td>\n",
              "      <td>NaN</td>\n",
              "      <td>round neckline</td>\n",
              "      <td>short sleeve</td>\n",
              "      <td>drop shoulder</td>\n",
              "      <td>round</td>\n",
              "      <td>plain sleeve</td>\n",
              "      <td>NaN</td>\n",
              "      <td>black</td>\n",
              "      <td>NaN</td>\n",
              "      <td>NaN</td>\n",
              "      <td>NaN</td>\n",
              "      <td>NaN</td>\n",
              "      <td>NaN</td>\n",
              "      <td>NaN</td>\n",
              "      <td>NaN</td>\n",
              "      <td>NaN</td>\n",
              "      <td>NaN</td>\n",
              "      <td>NaN</td>\n",
              "      <td>NaN</td>\n",
              "      <td>NaN</td>\n",
              "      <td>NaN</td>\n",
              "      <td>NaN</td>\n",
              "      <td>NaN</td>\n",
              "      <td>NaN</td>\n",
              "      <td>NaN</td>\n",
              "      <td>NaN</td>\n",
              "      <td>NaN</td>\n",
              "      <td>NaN</td>\n",
              "      <td>NaN</td>\n",
              "      <td>NaN</td>\n",
              "      <td>NaN</td>\n",
              "      <td>NaN</td>\n",
              "      <td>NaN</td>\n",
              "      <td>NaN</td>\n",
              "      <td>NaN</td>\n",
              "      <td>NaN</td>\n",
              "      <td>NaN</td>\n",
              "      <td>NaN</td>\n",
              "      <td>NaN</td>\n",
              "      <td>NaN</td>\n",
              "      <td>NaN</td>\n",
              "      <td>NaN</td>\n",
              "      <td>NaN</td>\n",
              "      <td>NaN</td>\n",
              "      <td>NaN</td>\n",
              "      <td>NaN</td>\n",
              "      <td>NaN</td>\n",
              "    </tr>\n",
              "    <tr>\n",
              "      <th>5f29685f65f956545839d227</th>\n",
              "      <td>bottoms</td>\n",
              "      <td>dark gray</td>\n",
              "      <td>solid</td>\n",
              "      <td>NaN</td>\n",
              "      <td>cotton</td>\n",
              "      <td>pants</td>\n",
              "      <td>mid-thigh length</td>\n",
              "      <td>button closure</td>\n",
              "      <td>natural waist</td>\n",
              "      <td>NaN</td>\n",
              "      <td>NaN</td>\n",
              "      <td>NaN</td>\n",
              "      <td>NaN</td>\n",
              "      <td>NaN</td>\n",
              "      <td>NaN</td>\n",
              "      <td>NaN</td>\n",
              "      <td>turned up</td>\n",
              "      <td>placket</td>\n",
              "      <td>NaN</td>\n",
              "      <td>NaN</td>\n",
              "      <td>NaN</td>\n",
              "      <td>NaN</td>\n",
              "      <td>NaN</td>\n",
              "      <td>NaN</td>\n",
              "      <td>NaN</td>\n",
              "      <td>NaN</td>\n",
              "      <td>NaN</td>\n",
              "      <td>NaN</td>\n",
              "      <td>NaN</td>\n",
              "      <td>NaN</td>\n",
              "      <td>NaN</td>\n",
              "      <td>NaN</td>\n",
              "      <td>NaN</td>\n",
              "      <td>NaN</td>\n",
              "      <td>NaN</td>\n",
              "      <td>NaN</td>\n",
              "      <td>NaN</td>\n",
              "      <td>NaN</td>\n",
              "      <td>NaN</td>\n",
              "      <td>NaN</td>\n",
              "      <td>NaN</td>\n",
              "      <td>NaN</td>\n",
              "      <td>NaN</td>\n",
              "      <td>NaN</td>\n",
              "      <td>NaN</td>\n",
              "      <td>NaN</td>\n",
              "      <td>NaN</td>\n",
              "      <td>NaN</td>\n",
              "      <td>NaN</td>\n",
              "      <td>NaN</td>\n",
              "      <td>NaN</td>\n",
              "      <td>NaN</td>\n",
              "      <td>NaN</td>\n",
              "      <td>NaN</td>\n",
              "      <td>NaN</td>\n",
              "    </tr>\n",
              "    <tr>\n",
              "      <th>5f29685f65f956545839cfe6</th>\n",
              "      <td>tops</td>\n",
              "      <td>coral</td>\n",
              "      <td>solid</td>\n",
              "      <td>conversational</td>\n",
              "      <td>cotton</td>\n",
              "      <td>t-shirts</td>\n",
              "      <td>regular</td>\n",
              "      <td>NaN</td>\n",
              "      <td>NaN</td>\n",
              "      <td>round neckline</td>\n",
              "      <td>short sleeve</td>\n",
              "      <td>set-in</td>\n",
              "      <td>crew</td>\n",
              "      <td>plain sleeve</td>\n",
              "      <td>NaN</td>\n",
              "      <td>NaN</td>\n",
              "      <td>NaN</td>\n",
              "      <td>NaN</td>\n",
              "      <td>straight</td>\n",
              "      <td>closed</td>\n",
              "      <td>closed</td>\n",
              "      <td>NaN</td>\n",
              "      <td>NaN</td>\n",
              "      <td>NaN</td>\n",
              "      <td>NaN</td>\n",
              "      <td>NaN</td>\n",
              "      <td>NaN</td>\n",
              "      <td>NaN</td>\n",
              "      <td>NaN</td>\n",
              "      <td>NaN</td>\n",
              "      <td>NaN</td>\n",
              "      <td>NaN</td>\n",
              "      <td>NaN</td>\n",
              "      <td>NaN</td>\n",
              "      <td>NaN</td>\n",
              "      <td>NaN</td>\n",
              "      <td>NaN</td>\n",
              "      <td>NaN</td>\n",
              "      <td>NaN</td>\n",
              "      <td>NaN</td>\n",
              "      <td>NaN</td>\n",
              "      <td>NaN</td>\n",
              "      <td>NaN</td>\n",
              "      <td>NaN</td>\n",
              "      <td>NaN</td>\n",
              "      <td>NaN</td>\n",
              "      <td>NaN</td>\n",
              "      <td>NaN</td>\n",
              "      <td>NaN</td>\n",
              "      <td>NaN</td>\n",
              "      <td>NaN</td>\n",
              "      <td>NaN</td>\n",
              "      <td>NaN</td>\n",
              "      <td>NaN</td>\n",
              "      <td>NaN</td>\n",
              "    </tr>\n",
              "    <tr>\n",
              "      <th>5f29685f65f956545839d059</th>\n",
              "      <td>tops</td>\n",
              "      <td>light blue</td>\n",
              "      <td>solid</td>\n",
              "      <td>NaN</td>\n",
              "      <td>cotton</td>\n",
              "      <td>t-shirts</td>\n",
              "      <td>regular</td>\n",
              "      <td>NaN</td>\n",
              "      <td>NaN</td>\n",
              "      <td>round neckline</td>\n",
              "      <td>sleeveless</td>\n",
              "      <td>set-in</td>\n",
              "      <td>round</td>\n",
              "      <td>NaN</td>\n",
              "      <td>NaN</td>\n",
              "      <td>NaN</td>\n",
              "      <td>NaN</td>\n",
              "      <td>NaN</td>\n",
              "      <td>NaN</td>\n",
              "      <td>NaN</td>\n",
              "      <td>NaN</td>\n",
              "      <td>no halter</td>\n",
              "      <td>wide straps</td>\n",
              "      <td>NaN</td>\n",
              "      <td>NaN</td>\n",
              "      <td>NaN</td>\n",
              "      <td>NaN</td>\n",
              "      <td>NaN</td>\n",
              "      <td>NaN</td>\n",
              "      <td>NaN</td>\n",
              "      <td>NaN</td>\n",
              "      <td>NaN</td>\n",
              "      <td>NaN</td>\n",
              "      <td>NaN</td>\n",
              "      <td>NaN</td>\n",
              "      <td>NaN</td>\n",
              "      <td>NaN</td>\n",
              "      <td>NaN</td>\n",
              "      <td>NaN</td>\n",
              "      <td>NaN</td>\n",
              "      <td>NaN</td>\n",
              "      <td>NaN</td>\n",
              "      <td>NaN</td>\n",
              "      <td>NaN</td>\n",
              "      <td>NaN</td>\n",
              "      <td>NaN</td>\n",
              "      <td>NaN</td>\n",
              "      <td>NaN</td>\n",
              "      <td>NaN</td>\n",
              "      <td>NaN</td>\n",
              "      <td>NaN</td>\n",
              "      <td>NaN</td>\n",
              "      <td>NaN</td>\n",
              "      <td>NaN</td>\n",
              "      <td>NaN</td>\n",
              "    </tr>\n",
              "    <tr>\n",
              "      <th>5f29685f65f956545839d09a</th>\n",
              "      <td>tops</td>\n",
              "      <td>black</td>\n",
              "      <td>stripes</td>\n",
              "      <td>NaN</td>\n",
              "      <td>cotton</td>\n",
              "      <td>t-shirts</td>\n",
              "      <td>regular</td>\n",
              "      <td>NaN</td>\n",
              "      <td>NaN</td>\n",
              "      <td>square neckline</td>\n",
              "      <td>sleeveless</td>\n",
              "      <td>set-in</td>\n",
              "      <td>NaN</td>\n",
              "      <td>NaN</td>\n",
              "      <td>NaN</td>\n",
              "      <td>dark gray</td>\n",
              "      <td>NaN</td>\n",
              "      <td>NaN</td>\n",
              "      <td>tie</td>\n",
              "      <td>NaN</td>\n",
              "      <td>NaN</td>\n",
              "      <td>no halter</td>\n",
              "      <td>wide straps</td>\n",
              "      <td>square</td>\n",
              "      <td>NaN</td>\n",
              "      <td>NaN</td>\n",
              "      <td>NaN</td>\n",
              "      <td>NaN</td>\n",
              "      <td>NaN</td>\n",
              "      <td>NaN</td>\n",
              "      <td>NaN</td>\n",
              "      <td>NaN</td>\n",
              "      <td>NaN</td>\n",
              "      <td>NaN</td>\n",
              "      <td>NaN</td>\n",
              "      <td>NaN</td>\n",
              "      <td>NaN</td>\n",
              "      <td>NaN</td>\n",
              "      <td>NaN</td>\n",
              "      <td>NaN</td>\n",
              "      <td>NaN</td>\n",
              "      <td>NaN</td>\n",
              "      <td>NaN</td>\n",
              "      <td>NaN</td>\n",
              "      <td>NaN</td>\n",
              "      <td>NaN</td>\n",
              "      <td>NaN</td>\n",
              "      <td>NaN</td>\n",
              "      <td>NaN</td>\n",
              "      <td>NaN</td>\n",
              "      <td>NaN</td>\n",
              "      <td>NaN</td>\n",
              "      <td>NaN</td>\n",
              "      <td>NaN</td>\n",
              "      <td>NaN</td>\n",
              "    </tr>\n",
              "  </tbody>\n",
              "</table>\n",
              "</div>"
            ],
            "text/plain": [
              "                         category primaryColor  ... legCoverage rayonSubsection\n",
              "item                                            ...                            \n",
              "5f29685f65f956545839cf5f     tops        beige  ...         NaN             NaN\n",
              "5f29685f65f956545839d227  bottoms    dark gray  ...         NaN             NaN\n",
              "5f29685f65f956545839cfe6     tops        coral  ...         NaN             NaN\n",
              "5f29685f65f956545839d059     tops   light blue  ...         NaN             NaN\n",
              "5f29685f65f956545839d09a     tops        black  ...         NaN             NaN\n",
              "\n",
              "[5 rows x 55 columns]"
            ]
          },
          "metadata": {},
          "execution_count": 23
        }
      ]
    },
    {
      "cell_type": "markdown",
      "metadata": {
        "id": "uQyD4s0yLhMU"
      },
      "source": []
    },
    {
      "cell_type": "code",
      "metadata": {
        "colab": {
          "base_uri": "https://localhost:8080/",
          "height": 252
        },
        "id": "-SynPQB9Lhhx",
        "outputId": "58c8aac1-d696-4dea-fcd5-b77f96d6a4a5"
      },
      "source": [
        "untagged_item_tag_df = pd.DataFrame(index = untagged_items , columns = list(item_tag_df.columns))\n",
        "untagged_item_tag_df.index.name = 'item'\n",
        "untagged_item_tag_df.head()"
      ],
      "execution_count": null,
      "outputs": [
        {
          "output_type": "execute_result",
          "data": {
            "text/html": [
              "<div>\n",
              "<style scoped>\n",
              "    .dataframe tbody tr th:only-of-type {\n",
              "        vertical-align: middle;\n",
              "    }\n",
              "\n",
              "    .dataframe tbody tr th {\n",
              "        vertical-align: top;\n",
              "    }\n",
              "\n",
              "    .dataframe thead th {\n",
              "        text-align: right;\n",
              "    }\n",
              "</style>\n",
              "<table border=\"1\" class=\"dataframe\">\n",
              "  <thead>\n",
              "    <tr style=\"text-align: right;\">\n",
              "      <th></th>\n",
              "      <th>category</th>\n",
              "      <th>primaryColor</th>\n",
              "      <th>primaryPattern</th>\n",
              "      <th>primaryTheme</th>\n",
              "      <th>rawMaterial</th>\n",
              "      <th>article</th>\n",
              "      <th>length</th>\n",
              "      <th>frontOpening</th>\n",
              "      <th>waistRiseLevels</th>\n",
              "      <th>neckline</th>\n",
              "      <th>sleeveLength</th>\n",
              "      <th>armHole</th>\n",
              "      <th>roundNecklineSubsection</th>\n",
              "      <th>sleeveType</th>\n",
              "      <th>cuff</th>\n",
              "      <th>secondaryColor</th>\n",
              "      <th>hemFinish</th>\n",
              "      <th>buttonClosureSubsection</th>\n",
              "      <th>hemline</th>\n",
              "      <th>backNeckline</th>\n",
              "      <th>closedSubsection</th>\n",
              "      <th>halter</th>\n",
              "      <th>strapWidth</th>\n",
              "      <th>squareNecklineSubsection</th>\n",
              "      <th>fullnessSkirt</th>\n",
              "      <th>hood</th>\n",
              "      <th>scoopNecklineSubsection</th>\n",
              "      <th>vNeckSubsection</th>\n",
              "      <th>sweetheartNecklineSubsection</th>\n",
              "      <th>tiedClosureSubsection</th>\n",
              "      <th>subArticle</th>\n",
              "      <th>locationOfTheme</th>\n",
              "      <th>pockets</th>\n",
              "      <th>patchPocketSubsection</th>\n",
              "      <th>collar</th>\n",
              "      <th>traditionalMenswearCollarSubsection</th>\n",
              "      <th>secondaryPattern</th>\n",
              "      <th>thirdColor</th>\n",
              "      <th>customerFacing</th>\n",
              "      <th>hardware</th>\n",
              "      <th>zipperClosureSubsection</th>\n",
              "      <th>closureZippersSubsection</th>\n",
              "      <th>weltPocketSubsection</th>\n",
              "      <th>closureButtonsSubsection</th>\n",
              "      <th>foldOverCollarSubsection</th>\n",
              "      <th>fabrics</th>\n",
              "      <th>highNecklineSubsection</th>\n",
              "      <th>standCollarSubsection</th>\n",
              "      <th>knitSubsection</th>\n",
              "      <th>openSubsection</th>\n",
              "      <th>lining</th>\n",
              "      <th>fourthColor</th>\n",
              "      <th>buttCoverage</th>\n",
              "      <th>legCoverage</th>\n",
              "      <th>rayonSubsection</th>\n",
              "    </tr>\n",
              "    <tr>\n",
              "      <th>item</th>\n",
              "      <th></th>\n",
              "      <th></th>\n",
              "      <th></th>\n",
              "      <th></th>\n",
              "      <th></th>\n",
              "      <th></th>\n",
              "      <th></th>\n",
              "      <th></th>\n",
              "      <th></th>\n",
              "      <th></th>\n",
              "      <th></th>\n",
              "      <th></th>\n",
              "      <th></th>\n",
              "      <th></th>\n",
              "      <th></th>\n",
              "      <th></th>\n",
              "      <th></th>\n",
              "      <th></th>\n",
              "      <th></th>\n",
              "      <th></th>\n",
              "      <th></th>\n",
              "      <th></th>\n",
              "      <th></th>\n",
              "      <th></th>\n",
              "      <th></th>\n",
              "      <th></th>\n",
              "      <th></th>\n",
              "      <th></th>\n",
              "      <th></th>\n",
              "      <th></th>\n",
              "      <th></th>\n",
              "      <th></th>\n",
              "      <th></th>\n",
              "      <th></th>\n",
              "      <th></th>\n",
              "      <th></th>\n",
              "      <th></th>\n",
              "      <th></th>\n",
              "      <th></th>\n",
              "      <th></th>\n",
              "      <th></th>\n",
              "      <th></th>\n",
              "      <th></th>\n",
              "      <th></th>\n",
              "      <th></th>\n",
              "      <th></th>\n",
              "      <th></th>\n",
              "      <th></th>\n",
              "      <th></th>\n",
              "      <th></th>\n",
              "      <th></th>\n",
              "      <th></th>\n",
              "      <th></th>\n",
              "      <th></th>\n",
              "      <th></th>\n",
              "    </tr>\n",
              "  </thead>\n",
              "  <tbody>\n",
              "    <tr>\n",
              "      <th>60ac190268efbb12cc7a7a05</th>\n",
              "      <td>NaN</td>\n",
              "      <td>NaN</td>\n",
              "      <td>NaN</td>\n",
              "      <td>NaN</td>\n",
              "      <td>NaN</td>\n",
              "      <td>NaN</td>\n",
              "      <td>NaN</td>\n",
              "      <td>NaN</td>\n",
              "      <td>NaN</td>\n",
              "      <td>NaN</td>\n",
              "      <td>NaN</td>\n",
              "      <td>NaN</td>\n",
              "      <td>NaN</td>\n",
              "      <td>NaN</td>\n",
              "      <td>NaN</td>\n",
              "      <td>NaN</td>\n",
              "      <td>NaN</td>\n",
              "      <td>NaN</td>\n",
              "      <td>NaN</td>\n",
              "      <td>NaN</td>\n",
              "      <td>NaN</td>\n",
              "      <td>NaN</td>\n",
              "      <td>NaN</td>\n",
              "      <td>NaN</td>\n",
              "      <td>NaN</td>\n",
              "      <td>NaN</td>\n",
              "      <td>NaN</td>\n",
              "      <td>NaN</td>\n",
              "      <td>NaN</td>\n",
              "      <td>NaN</td>\n",
              "      <td>NaN</td>\n",
              "      <td>NaN</td>\n",
              "      <td>NaN</td>\n",
              "      <td>NaN</td>\n",
              "      <td>NaN</td>\n",
              "      <td>NaN</td>\n",
              "      <td>NaN</td>\n",
              "      <td>NaN</td>\n",
              "      <td>NaN</td>\n",
              "      <td>NaN</td>\n",
              "      <td>NaN</td>\n",
              "      <td>NaN</td>\n",
              "      <td>NaN</td>\n",
              "      <td>NaN</td>\n",
              "      <td>NaN</td>\n",
              "      <td>NaN</td>\n",
              "      <td>NaN</td>\n",
              "      <td>NaN</td>\n",
              "      <td>NaN</td>\n",
              "      <td>NaN</td>\n",
              "      <td>NaN</td>\n",
              "      <td>NaN</td>\n",
              "      <td>NaN</td>\n",
              "      <td>NaN</td>\n",
              "      <td>NaN</td>\n",
              "    </tr>\n",
              "    <tr>\n",
              "      <th>5f29685f65f956545839ced6</th>\n",
              "      <td>NaN</td>\n",
              "      <td>NaN</td>\n",
              "      <td>NaN</td>\n",
              "      <td>NaN</td>\n",
              "      <td>NaN</td>\n",
              "      <td>NaN</td>\n",
              "      <td>NaN</td>\n",
              "      <td>NaN</td>\n",
              "      <td>NaN</td>\n",
              "      <td>NaN</td>\n",
              "      <td>NaN</td>\n",
              "      <td>NaN</td>\n",
              "      <td>NaN</td>\n",
              "      <td>NaN</td>\n",
              "      <td>NaN</td>\n",
              "      <td>NaN</td>\n",
              "      <td>NaN</td>\n",
              "      <td>NaN</td>\n",
              "      <td>NaN</td>\n",
              "      <td>NaN</td>\n",
              "      <td>NaN</td>\n",
              "      <td>NaN</td>\n",
              "      <td>NaN</td>\n",
              "      <td>NaN</td>\n",
              "      <td>NaN</td>\n",
              "      <td>NaN</td>\n",
              "      <td>NaN</td>\n",
              "      <td>NaN</td>\n",
              "      <td>NaN</td>\n",
              "      <td>NaN</td>\n",
              "      <td>NaN</td>\n",
              "      <td>NaN</td>\n",
              "      <td>NaN</td>\n",
              "      <td>NaN</td>\n",
              "      <td>NaN</td>\n",
              "      <td>NaN</td>\n",
              "      <td>NaN</td>\n",
              "      <td>NaN</td>\n",
              "      <td>NaN</td>\n",
              "      <td>NaN</td>\n",
              "      <td>NaN</td>\n",
              "      <td>NaN</td>\n",
              "      <td>NaN</td>\n",
              "      <td>NaN</td>\n",
              "      <td>NaN</td>\n",
              "      <td>NaN</td>\n",
              "      <td>NaN</td>\n",
              "      <td>NaN</td>\n",
              "      <td>NaN</td>\n",
              "      <td>NaN</td>\n",
              "      <td>NaN</td>\n",
              "      <td>NaN</td>\n",
              "      <td>NaN</td>\n",
              "      <td>NaN</td>\n",
              "      <td>NaN</td>\n",
              "    </tr>\n",
              "    <tr>\n",
              "      <th>5f29685f65f956545839ceef</th>\n",
              "      <td>NaN</td>\n",
              "      <td>NaN</td>\n",
              "      <td>NaN</td>\n",
              "      <td>NaN</td>\n",
              "      <td>NaN</td>\n",
              "      <td>NaN</td>\n",
              "      <td>NaN</td>\n",
              "      <td>NaN</td>\n",
              "      <td>NaN</td>\n",
              "      <td>NaN</td>\n",
              "      <td>NaN</td>\n",
              "      <td>NaN</td>\n",
              "      <td>NaN</td>\n",
              "      <td>NaN</td>\n",
              "      <td>NaN</td>\n",
              "      <td>NaN</td>\n",
              "      <td>NaN</td>\n",
              "      <td>NaN</td>\n",
              "      <td>NaN</td>\n",
              "      <td>NaN</td>\n",
              "      <td>NaN</td>\n",
              "      <td>NaN</td>\n",
              "      <td>NaN</td>\n",
              "      <td>NaN</td>\n",
              "      <td>NaN</td>\n",
              "      <td>NaN</td>\n",
              "      <td>NaN</td>\n",
              "      <td>NaN</td>\n",
              "      <td>NaN</td>\n",
              "      <td>NaN</td>\n",
              "      <td>NaN</td>\n",
              "      <td>NaN</td>\n",
              "      <td>NaN</td>\n",
              "      <td>NaN</td>\n",
              "      <td>NaN</td>\n",
              "      <td>NaN</td>\n",
              "      <td>NaN</td>\n",
              "      <td>NaN</td>\n",
              "      <td>NaN</td>\n",
              "      <td>NaN</td>\n",
              "      <td>NaN</td>\n",
              "      <td>NaN</td>\n",
              "      <td>NaN</td>\n",
              "      <td>NaN</td>\n",
              "      <td>NaN</td>\n",
              "      <td>NaN</td>\n",
              "      <td>NaN</td>\n",
              "      <td>NaN</td>\n",
              "      <td>NaN</td>\n",
              "      <td>NaN</td>\n",
              "      <td>NaN</td>\n",
              "      <td>NaN</td>\n",
              "      <td>NaN</td>\n",
              "      <td>NaN</td>\n",
              "      <td>NaN</td>\n",
              "    </tr>\n",
              "    <tr>\n",
              "      <th>5f29685f65f956545839cf2d</th>\n",
              "      <td>NaN</td>\n",
              "      <td>NaN</td>\n",
              "      <td>NaN</td>\n",
              "      <td>NaN</td>\n",
              "      <td>NaN</td>\n",
              "      <td>NaN</td>\n",
              "      <td>NaN</td>\n",
              "      <td>NaN</td>\n",
              "      <td>NaN</td>\n",
              "      <td>NaN</td>\n",
              "      <td>NaN</td>\n",
              "      <td>NaN</td>\n",
              "      <td>NaN</td>\n",
              "      <td>NaN</td>\n",
              "      <td>NaN</td>\n",
              "      <td>NaN</td>\n",
              "      <td>NaN</td>\n",
              "      <td>NaN</td>\n",
              "      <td>NaN</td>\n",
              "      <td>NaN</td>\n",
              "      <td>NaN</td>\n",
              "      <td>NaN</td>\n",
              "      <td>NaN</td>\n",
              "      <td>NaN</td>\n",
              "      <td>NaN</td>\n",
              "      <td>NaN</td>\n",
              "      <td>NaN</td>\n",
              "      <td>NaN</td>\n",
              "      <td>NaN</td>\n",
              "      <td>NaN</td>\n",
              "      <td>NaN</td>\n",
              "      <td>NaN</td>\n",
              "      <td>NaN</td>\n",
              "      <td>NaN</td>\n",
              "      <td>NaN</td>\n",
              "      <td>NaN</td>\n",
              "      <td>NaN</td>\n",
              "      <td>NaN</td>\n",
              "      <td>NaN</td>\n",
              "      <td>NaN</td>\n",
              "      <td>NaN</td>\n",
              "      <td>NaN</td>\n",
              "      <td>NaN</td>\n",
              "      <td>NaN</td>\n",
              "      <td>NaN</td>\n",
              "      <td>NaN</td>\n",
              "      <td>NaN</td>\n",
              "      <td>NaN</td>\n",
              "      <td>NaN</td>\n",
              "      <td>NaN</td>\n",
              "      <td>NaN</td>\n",
              "      <td>NaN</td>\n",
              "      <td>NaN</td>\n",
              "      <td>NaN</td>\n",
              "      <td>NaN</td>\n",
              "    </tr>\n",
              "    <tr>\n",
              "      <th>5f29685f65f956545839cf6e</th>\n",
              "      <td>NaN</td>\n",
              "      <td>NaN</td>\n",
              "      <td>NaN</td>\n",
              "      <td>NaN</td>\n",
              "      <td>NaN</td>\n",
              "      <td>NaN</td>\n",
              "      <td>NaN</td>\n",
              "      <td>NaN</td>\n",
              "      <td>NaN</td>\n",
              "      <td>NaN</td>\n",
              "      <td>NaN</td>\n",
              "      <td>NaN</td>\n",
              "      <td>NaN</td>\n",
              "      <td>NaN</td>\n",
              "      <td>NaN</td>\n",
              "      <td>NaN</td>\n",
              "      <td>NaN</td>\n",
              "      <td>NaN</td>\n",
              "      <td>NaN</td>\n",
              "      <td>NaN</td>\n",
              "      <td>NaN</td>\n",
              "      <td>NaN</td>\n",
              "      <td>NaN</td>\n",
              "      <td>NaN</td>\n",
              "      <td>NaN</td>\n",
              "      <td>NaN</td>\n",
              "      <td>NaN</td>\n",
              "      <td>NaN</td>\n",
              "      <td>NaN</td>\n",
              "      <td>NaN</td>\n",
              "      <td>NaN</td>\n",
              "      <td>NaN</td>\n",
              "      <td>NaN</td>\n",
              "      <td>NaN</td>\n",
              "      <td>NaN</td>\n",
              "      <td>NaN</td>\n",
              "      <td>NaN</td>\n",
              "      <td>NaN</td>\n",
              "      <td>NaN</td>\n",
              "      <td>NaN</td>\n",
              "      <td>NaN</td>\n",
              "      <td>NaN</td>\n",
              "      <td>NaN</td>\n",
              "      <td>NaN</td>\n",
              "      <td>NaN</td>\n",
              "      <td>NaN</td>\n",
              "      <td>NaN</td>\n",
              "      <td>NaN</td>\n",
              "      <td>NaN</td>\n",
              "      <td>NaN</td>\n",
              "      <td>NaN</td>\n",
              "      <td>NaN</td>\n",
              "      <td>NaN</td>\n",
              "      <td>NaN</td>\n",
              "      <td>NaN</td>\n",
              "    </tr>\n",
              "  </tbody>\n",
              "</table>\n",
              "</div>"
            ],
            "text/plain": [
              "                         category primaryColor  ... legCoverage rayonSubsection\n",
              "item                                            ...                            \n",
              "60ac190268efbb12cc7a7a05      NaN          NaN  ...         NaN             NaN\n",
              "5f29685f65f956545839ced6      NaN          NaN  ...         NaN             NaN\n",
              "5f29685f65f956545839ceef      NaN          NaN  ...         NaN             NaN\n",
              "5f29685f65f956545839cf2d      NaN          NaN  ...         NaN             NaN\n",
              "5f29685f65f956545839cf6e      NaN          NaN  ...         NaN             NaN\n",
              "\n",
              "[5 rows x 55 columns]"
            ]
          },
          "metadata": {},
          "execution_count": 63
        }
      ]
    },
    {
      "cell_type": "code",
      "metadata": {
        "colab": {
          "base_uri": "https://localhost:8080/",
          "height": 322
        },
        "id": "LiIAW-cpCqqx",
        "outputId": "996ebf02-7ec0-4e22-f78d-4675110e5bc4"
      },
      "source": [
        "full_tax_df = pd.concat([item_tag_df, untagged_item_tag_df])\n",
        "t_items = full_tax_df.reset_index()\n",
        "t_items.head()"
      ],
      "execution_count": null,
      "outputs": [
        {
          "output_type": "execute_result",
          "data": {
            "text/html": [
              "<div>\n",
              "<style scoped>\n",
              "    .dataframe tbody tr th:only-of-type {\n",
              "        vertical-align: middle;\n",
              "    }\n",
              "\n",
              "    .dataframe tbody tr th {\n",
              "        vertical-align: top;\n",
              "    }\n",
              "\n",
              "    .dataframe thead th {\n",
              "        text-align: right;\n",
              "    }\n",
              "</style>\n",
              "<table border=\"1\" class=\"dataframe\">\n",
              "  <thead>\n",
              "    <tr style=\"text-align: right;\">\n",
              "      <th></th>\n",
              "      <th>item</th>\n",
              "      <th>category</th>\n",
              "      <th>primaryColor</th>\n",
              "      <th>primaryPattern</th>\n",
              "      <th>primaryTheme</th>\n",
              "      <th>rawMaterial</th>\n",
              "      <th>article</th>\n",
              "      <th>length</th>\n",
              "      <th>frontOpening</th>\n",
              "      <th>waistRiseLevels</th>\n",
              "      <th>neckline</th>\n",
              "      <th>sleeveLength</th>\n",
              "      <th>armHole</th>\n",
              "      <th>roundNecklineSubsection</th>\n",
              "      <th>sleeveType</th>\n",
              "      <th>cuff</th>\n",
              "      <th>secondaryColor</th>\n",
              "      <th>hemFinish</th>\n",
              "      <th>buttonClosureSubsection</th>\n",
              "      <th>hemline</th>\n",
              "      <th>backNeckline</th>\n",
              "      <th>closedSubsection</th>\n",
              "      <th>halter</th>\n",
              "      <th>strapWidth</th>\n",
              "      <th>squareNecklineSubsection</th>\n",
              "      <th>fullnessSkirt</th>\n",
              "      <th>hood</th>\n",
              "      <th>scoopNecklineSubsection</th>\n",
              "      <th>vNeckSubsection</th>\n",
              "      <th>sweetheartNecklineSubsection</th>\n",
              "      <th>tiedClosureSubsection</th>\n",
              "      <th>subArticle</th>\n",
              "      <th>locationOfTheme</th>\n",
              "      <th>pockets</th>\n",
              "      <th>patchPocketSubsection</th>\n",
              "      <th>collar</th>\n",
              "      <th>traditionalMenswearCollarSubsection</th>\n",
              "      <th>secondaryPattern</th>\n",
              "      <th>thirdColor</th>\n",
              "      <th>customerFacing</th>\n",
              "      <th>hardware</th>\n",
              "      <th>zipperClosureSubsection</th>\n",
              "      <th>closureZippersSubsection</th>\n",
              "      <th>weltPocketSubsection</th>\n",
              "      <th>closureButtonsSubsection</th>\n",
              "      <th>foldOverCollarSubsection</th>\n",
              "      <th>fabrics</th>\n",
              "      <th>highNecklineSubsection</th>\n",
              "      <th>standCollarSubsection</th>\n",
              "      <th>knitSubsection</th>\n",
              "      <th>openSubsection</th>\n",
              "      <th>lining</th>\n",
              "      <th>fourthColor</th>\n",
              "      <th>buttCoverage</th>\n",
              "      <th>legCoverage</th>\n",
              "      <th>rayonSubsection</th>\n",
              "    </tr>\n",
              "  </thead>\n",
              "  <tbody>\n",
              "    <tr>\n",
              "      <th>0</th>\n",
              "      <td>5f29685f65f956545839cf5f</td>\n",
              "      <td>tops</td>\n",
              "      <td>beige</td>\n",
              "      <td>stripes</td>\n",
              "      <td>NaN</td>\n",
              "      <td>linen</td>\n",
              "      <td>t-shirts</td>\n",
              "      <td>regular</td>\n",
              "      <td>NaN</td>\n",
              "      <td>NaN</td>\n",
              "      <td>round neckline</td>\n",
              "      <td>short sleeve</td>\n",
              "      <td>drop shoulder</td>\n",
              "      <td>round</td>\n",
              "      <td>plain sleeve</td>\n",
              "      <td>NaN</td>\n",
              "      <td>black</td>\n",
              "      <td>NaN</td>\n",
              "      <td>NaN</td>\n",
              "      <td>NaN</td>\n",
              "      <td>NaN</td>\n",
              "      <td>NaN</td>\n",
              "      <td>NaN</td>\n",
              "      <td>NaN</td>\n",
              "      <td>NaN</td>\n",
              "      <td>NaN</td>\n",
              "      <td>NaN</td>\n",
              "      <td>NaN</td>\n",
              "      <td>NaN</td>\n",
              "      <td>NaN</td>\n",
              "      <td>NaN</td>\n",
              "      <td>NaN</td>\n",
              "      <td>NaN</td>\n",
              "      <td>NaN</td>\n",
              "      <td>NaN</td>\n",
              "      <td>NaN</td>\n",
              "      <td>NaN</td>\n",
              "      <td>NaN</td>\n",
              "      <td>NaN</td>\n",
              "      <td>NaN</td>\n",
              "      <td>NaN</td>\n",
              "      <td>NaN</td>\n",
              "      <td>NaN</td>\n",
              "      <td>NaN</td>\n",
              "      <td>NaN</td>\n",
              "      <td>NaN</td>\n",
              "      <td>NaN</td>\n",
              "      <td>NaN</td>\n",
              "      <td>NaN</td>\n",
              "      <td>NaN</td>\n",
              "      <td>NaN</td>\n",
              "      <td>NaN</td>\n",
              "      <td>NaN</td>\n",
              "      <td>NaN</td>\n",
              "      <td>NaN</td>\n",
              "      <td>NaN</td>\n",
              "    </tr>\n",
              "    <tr>\n",
              "      <th>1</th>\n",
              "      <td>5f29685f65f956545839d227</td>\n",
              "      <td>bottoms</td>\n",
              "      <td>dark gray</td>\n",
              "      <td>solid</td>\n",
              "      <td>NaN</td>\n",
              "      <td>cotton</td>\n",
              "      <td>pants</td>\n",
              "      <td>mid-thigh length</td>\n",
              "      <td>button closure</td>\n",
              "      <td>natural waist</td>\n",
              "      <td>NaN</td>\n",
              "      <td>NaN</td>\n",
              "      <td>NaN</td>\n",
              "      <td>NaN</td>\n",
              "      <td>NaN</td>\n",
              "      <td>NaN</td>\n",
              "      <td>NaN</td>\n",
              "      <td>turned up</td>\n",
              "      <td>placket</td>\n",
              "      <td>NaN</td>\n",
              "      <td>NaN</td>\n",
              "      <td>NaN</td>\n",
              "      <td>NaN</td>\n",
              "      <td>NaN</td>\n",
              "      <td>NaN</td>\n",
              "      <td>NaN</td>\n",
              "      <td>NaN</td>\n",
              "      <td>NaN</td>\n",
              "      <td>NaN</td>\n",
              "      <td>NaN</td>\n",
              "      <td>NaN</td>\n",
              "      <td>NaN</td>\n",
              "      <td>NaN</td>\n",
              "      <td>NaN</td>\n",
              "      <td>NaN</td>\n",
              "      <td>NaN</td>\n",
              "      <td>NaN</td>\n",
              "      <td>NaN</td>\n",
              "      <td>NaN</td>\n",
              "      <td>NaN</td>\n",
              "      <td>NaN</td>\n",
              "      <td>NaN</td>\n",
              "      <td>NaN</td>\n",
              "      <td>NaN</td>\n",
              "      <td>NaN</td>\n",
              "      <td>NaN</td>\n",
              "      <td>NaN</td>\n",
              "      <td>NaN</td>\n",
              "      <td>NaN</td>\n",
              "      <td>NaN</td>\n",
              "      <td>NaN</td>\n",
              "      <td>NaN</td>\n",
              "      <td>NaN</td>\n",
              "      <td>NaN</td>\n",
              "      <td>NaN</td>\n",
              "      <td>NaN</td>\n",
              "    </tr>\n",
              "    <tr>\n",
              "      <th>2</th>\n",
              "      <td>5f29685f65f956545839cfe6</td>\n",
              "      <td>tops</td>\n",
              "      <td>coral</td>\n",
              "      <td>solid</td>\n",
              "      <td>conversational</td>\n",
              "      <td>cotton</td>\n",
              "      <td>t-shirts</td>\n",
              "      <td>regular</td>\n",
              "      <td>NaN</td>\n",
              "      <td>NaN</td>\n",
              "      <td>round neckline</td>\n",
              "      <td>short sleeve</td>\n",
              "      <td>set-in</td>\n",
              "      <td>crew</td>\n",
              "      <td>plain sleeve</td>\n",
              "      <td>NaN</td>\n",
              "      <td>NaN</td>\n",
              "      <td>NaN</td>\n",
              "      <td>NaN</td>\n",
              "      <td>straight</td>\n",
              "      <td>closed</td>\n",
              "      <td>closed</td>\n",
              "      <td>NaN</td>\n",
              "      <td>NaN</td>\n",
              "      <td>NaN</td>\n",
              "      <td>NaN</td>\n",
              "      <td>NaN</td>\n",
              "      <td>NaN</td>\n",
              "      <td>NaN</td>\n",
              "      <td>NaN</td>\n",
              "      <td>NaN</td>\n",
              "      <td>NaN</td>\n",
              "      <td>NaN</td>\n",
              "      <td>NaN</td>\n",
              "      <td>NaN</td>\n",
              "      <td>NaN</td>\n",
              "      <td>NaN</td>\n",
              "      <td>NaN</td>\n",
              "      <td>NaN</td>\n",
              "      <td>NaN</td>\n",
              "      <td>NaN</td>\n",
              "      <td>NaN</td>\n",
              "      <td>NaN</td>\n",
              "      <td>NaN</td>\n",
              "      <td>NaN</td>\n",
              "      <td>NaN</td>\n",
              "      <td>NaN</td>\n",
              "      <td>NaN</td>\n",
              "      <td>NaN</td>\n",
              "      <td>NaN</td>\n",
              "      <td>NaN</td>\n",
              "      <td>NaN</td>\n",
              "      <td>NaN</td>\n",
              "      <td>NaN</td>\n",
              "      <td>NaN</td>\n",
              "      <td>NaN</td>\n",
              "    </tr>\n",
              "    <tr>\n",
              "      <th>3</th>\n",
              "      <td>5f29685f65f956545839d059</td>\n",
              "      <td>tops</td>\n",
              "      <td>light blue</td>\n",
              "      <td>solid</td>\n",
              "      <td>NaN</td>\n",
              "      <td>cotton</td>\n",
              "      <td>t-shirts</td>\n",
              "      <td>regular</td>\n",
              "      <td>NaN</td>\n",
              "      <td>NaN</td>\n",
              "      <td>round neckline</td>\n",
              "      <td>sleeveless</td>\n",
              "      <td>set-in</td>\n",
              "      <td>round</td>\n",
              "      <td>NaN</td>\n",
              "      <td>NaN</td>\n",
              "      <td>NaN</td>\n",
              "      <td>NaN</td>\n",
              "      <td>NaN</td>\n",
              "      <td>NaN</td>\n",
              "      <td>NaN</td>\n",
              "      <td>NaN</td>\n",
              "      <td>no halter</td>\n",
              "      <td>wide straps</td>\n",
              "      <td>NaN</td>\n",
              "      <td>NaN</td>\n",
              "      <td>NaN</td>\n",
              "      <td>NaN</td>\n",
              "      <td>NaN</td>\n",
              "      <td>NaN</td>\n",
              "      <td>NaN</td>\n",
              "      <td>NaN</td>\n",
              "      <td>NaN</td>\n",
              "      <td>NaN</td>\n",
              "      <td>NaN</td>\n",
              "      <td>NaN</td>\n",
              "      <td>NaN</td>\n",
              "      <td>NaN</td>\n",
              "      <td>NaN</td>\n",
              "      <td>NaN</td>\n",
              "      <td>NaN</td>\n",
              "      <td>NaN</td>\n",
              "      <td>NaN</td>\n",
              "      <td>NaN</td>\n",
              "      <td>NaN</td>\n",
              "      <td>NaN</td>\n",
              "      <td>NaN</td>\n",
              "      <td>NaN</td>\n",
              "      <td>NaN</td>\n",
              "      <td>NaN</td>\n",
              "      <td>NaN</td>\n",
              "      <td>NaN</td>\n",
              "      <td>NaN</td>\n",
              "      <td>NaN</td>\n",
              "      <td>NaN</td>\n",
              "      <td>NaN</td>\n",
              "    </tr>\n",
              "    <tr>\n",
              "      <th>4</th>\n",
              "      <td>5f29685f65f956545839d09a</td>\n",
              "      <td>tops</td>\n",
              "      <td>black</td>\n",
              "      <td>stripes</td>\n",
              "      <td>NaN</td>\n",
              "      <td>cotton</td>\n",
              "      <td>t-shirts</td>\n",
              "      <td>regular</td>\n",
              "      <td>NaN</td>\n",
              "      <td>NaN</td>\n",
              "      <td>square neckline</td>\n",
              "      <td>sleeveless</td>\n",
              "      <td>set-in</td>\n",
              "      <td>NaN</td>\n",
              "      <td>NaN</td>\n",
              "      <td>NaN</td>\n",
              "      <td>dark gray</td>\n",
              "      <td>NaN</td>\n",
              "      <td>NaN</td>\n",
              "      <td>tie</td>\n",
              "      <td>NaN</td>\n",
              "      <td>NaN</td>\n",
              "      <td>no halter</td>\n",
              "      <td>wide straps</td>\n",
              "      <td>square</td>\n",
              "      <td>NaN</td>\n",
              "      <td>NaN</td>\n",
              "      <td>NaN</td>\n",
              "      <td>NaN</td>\n",
              "      <td>NaN</td>\n",
              "      <td>NaN</td>\n",
              "      <td>NaN</td>\n",
              "      <td>NaN</td>\n",
              "      <td>NaN</td>\n",
              "      <td>NaN</td>\n",
              "      <td>NaN</td>\n",
              "      <td>NaN</td>\n",
              "      <td>NaN</td>\n",
              "      <td>NaN</td>\n",
              "      <td>NaN</td>\n",
              "      <td>NaN</td>\n",
              "      <td>NaN</td>\n",
              "      <td>NaN</td>\n",
              "      <td>NaN</td>\n",
              "      <td>NaN</td>\n",
              "      <td>NaN</td>\n",
              "      <td>NaN</td>\n",
              "      <td>NaN</td>\n",
              "      <td>NaN</td>\n",
              "      <td>NaN</td>\n",
              "      <td>NaN</td>\n",
              "      <td>NaN</td>\n",
              "      <td>NaN</td>\n",
              "      <td>NaN</td>\n",
              "      <td>NaN</td>\n",
              "      <td>NaN</td>\n",
              "    </tr>\n",
              "  </tbody>\n",
              "</table>\n",
              "</div>"
            ],
            "text/plain": [
              "                       item category  ... legCoverage rayonSubsection\n",
              "0  5f29685f65f956545839cf5f     tops  ...         NaN             NaN\n",
              "1  5f29685f65f956545839d227  bottoms  ...         NaN             NaN\n",
              "2  5f29685f65f956545839cfe6     tops  ...         NaN             NaN\n",
              "3  5f29685f65f956545839d059     tops  ...         NaN             NaN\n",
              "4  5f29685f65f956545839d09a     tops  ...         NaN             NaN\n",
              "\n",
              "[5 rows x 56 columns]"
            ]
          },
          "metadata": {},
          "execution_count": 64
        }
      ]
    },
    {
      "cell_type": "code",
      "metadata": {
        "colab": {
          "base_uri": "https://localhost:8080/",
          "height": 534
        },
        "id": "A5roGS5hBlaf",
        "outputId": "74aca7a7-03b5-483e-9eff-c64fc859b129"
      },
      "source": [
        "#t_items.astype('str')\n",
        "t_items"
      ],
      "execution_count": null,
      "outputs": [
        {
          "output_type": "execute_result",
          "data": {
            "text/html": [
              "<div>\n",
              "<style scoped>\n",
              "    .dataframe tbody tr th:only-of-type {\n",
              "        vertical-align: middle;\n",
              "    }\n",
              "\n",
              "    .dataframe tbody tr th {\n",
              "        vertical-align: top;\n",
              "    }\n",
              "\n",
              "    .dataframe thead th {\n",
              "        text-align: right;\n",
              "    }\n",
              "</style>\n",
              "<table border=\"1\" class=\"dataframe\">\n",
              "  <thead>\n",
              "    <tr style=\"text-align: right;\">\n",
              "      <th></th>\n",
              "      <th>item</th>\n",
              "      <th>category</th>\n",
              "      <th>primaryColor</th>\n",
              "      <th>primaryPattern</th>\n",
              "      <th>primaryTheme</th>\n",
              "      <th>rawMaterial</th>\n",
              "      <th>article</th>\n",
              "      <th>length</th>\n",
              "      <th>frontOpening</th>\n",
              "      <th>waistRiseLevels</th>\n",
              "      <th>neckline</th>\n",
              "      <th>sleeveLength</th>\n",
              "      <th>armHole</th>\n",
              "      <th>roundNecklineSubsection</th>\n",
              "      <th>sleeveType</th>\n",
              "      <th>cuff</th>\n",
              "      <th>secondaryColor</th>\n",
              "      <th>hemFinish</th>\n",
              "      <th>buttonClosureSubsection</th>\n",
              "      <th>hemline</th>\n",
              "      <th>backNeckline</th>\n",
              "      <th>closedSubsection</th>\n",
              "      <th>halter</th>\n",
              "      <th>strapWidth</th>\n",
              "      <th>squareNecklineSubsection</th>\n",
              "      <th>fullnessSkirt</th>\n",
              "      <th>hood</th>\n",
              "      <th>scoopNecklineSubsection</th>\n",
              "      <th>vNeckSubsection</th>\n",
              "      <th>sweetheartNecklineSubsection</th>\n",
              "      <th>tiedClosureSubsection</th>\n",
              "      <th>subArticle</th>\n",
              "      <th>locationOfTheme</th>\n",
              "      <th>pockets</th>\n",
              "      <th>patchPocketSubsection</th>\n",
              "      <th>collar</th>\n",
              "      <th>traditionalMenswearCollarSubsection</th>\n",
              "      <th>secondaryPattern</th>\n",
              "      <th>thirdColor</th>\n",
              "      <th>customerFacing</th>\n",
              "      <th>hardware</th>\n",
              "      <th>zipperClosureSubsection</th>\n",
              "      <th>closureZippersSubsection</th>\n",
              "      <th>weltPocketSubsection</th>\n",
              "      <th>closureButtonsSubsection</th>\n",
              "      <th>foldOverCollarSubsection</th>\n",
              "      <th>fabrics</th>\n",
              "      <th>highNecklineSubsection</th>\n",
              "      <th>standCollarSubsection</th>\n",
              "      <th>knitSubsection</th>\n",
              "      <th>openSubsection</th>\n",
              "      <th>lining</th>\n",
              "      <th>fourthColor</th>\n",
              "      <th>buttCoverage</th>\n",
              "      <th>legCoverage</th>\n",
              "      <th>rayonSubsection</th>\n",
              "    </tr>\n",
              "  </thead>\n",
              "  <tbody>\n",
              "    <tr>\n",
              "      <th>0</th>\n",
              "      <td>5f29685f65f956545839cf5f</td>\n",
              "      <td>tops</td>\n",
              "      <td>beige</td>\n",
              "      <td>stripes</td>\n",
              "      <td>NaN</td>\n",
              "      <td>linen</td>\n",
              "      <td>t-shirts</td>\n",
              "      <td>regular</td>\n",
              "      <td>NaN</td>\n",
              "      <td>NaN</td>\n",
              "      <td>round neckline</td>\n",
              "      <td>short sleeve</td>\n",
              "      <td>drop shoulder</td>\n",
              "      <td>round</td>\n",
              "      <td>plain sleeve</td>\n",
              "      <td>NaN</td>\n",
              "      <td>black</td>\n",
              "      <td>NaN</td>\n",
              "      <td>NaN</td>\n",
              "      <td>NaN</td>\n",
              "      <td>NaN</td>\n",
              "      <td>NaN</td>\n",
              "      <td>NaN</td>\n",
              "      <td>NaN</td>\n",
              "      <td>NaN</td>\n",
              "      <td>NaN</td>\n",
              "      <td>NaN</td>\n",
              "      <td>NaN</td>\n",
              "      <td>NaN</td>\n",
              "      <td>NaN</td>\n",
              "      <td>NaN</td>\n",
              "      <td>NaN</td>\n",
              "      <td>NaN</td>\n",
              "      <td>NaN</td>\n",
              "      <td>NaN</td>\n",
              "      <td>NaN</td>\n",
              "      <td>NaN</td>\n",
              "      <td>NaN</td>\n",
              "      <td>NaN</td>\n",
              "      <td>NaN</td>\n",
              "      <td>NaN</td>\n",
              "      <td>NaN</td>\n",
              "      <td>NaN</td>\n",
              "      <td>NaN</td>\n",
              "      <td>NaN</td>\n",
              "      <td>NaN</td>\n",
              "      <td>NaN</td>\n",
              "      <td>NaN</td>\n",
              "      <td>NaN</td>\n",
              "      <td>NaN</td>\n",
              "      <td>NaN</td>\n",
              "      <td>NaN</td>\n",
              "      <td>NaN</td>\n",
              "      <td>NaN</td>\n",
              "      <td>NaN</td>\n",
              "      <td>NaN</td>\n",
              "    </tr>\n",
              "    <tr>\n",
              "      <th>1</th>\n",
              "      <td>5f29685f65f956545839d227</td>\n",
              "      <td>bottoms</td>\n",
              "      <td>dark gray</td>\n",
              "      <td>solid</td>\n",
              "      <td>NaN</td>\n",
              "      <td>cotton</td>\n",
              "      <td>pants</td>\n",
              "      <td>mid-thigh length</td>\n",
              "      <td>button closure</td>\n",
              "      <td>natural waist</td>\n",
              "      <td>NaN</td>\n",
              "      <td>NaN</td>\n",
              "      <td>NaN</td>\n",
              "      <td>NaN</td>\n",
              "      <td>NaN</td>\n",
              "      <td>NaN</td>\n",
              "      <td>NaN</td>\n",
              "      <td>turned up</td>\n",
              "      <td>placket</td>\n",
              "      <td>NaN</td>\n",
              "      <td>NaN</td>\n",
              "      <td>NaN</td>\n",
              "      <td>NaN</td>\n",
              "      <td>NaN</td>\n",
              "      <td>NaN</td>\n",
              "      <td>NaN</td>\n",
              "      <td>NaN</td>\n",
              "      <td>NaN</td>\n",
              "      <td>NaN</td>\n",
              "      <td>NaN</td>\n",
              "      <td>NaN</td>\n",
              "      <td>NaN</td>\n",
              "      <td>NaN</td>\n",
              "      <td>NaN</td>\n",
              "      <td>NaN</td>\n",
              "      <td>NaN</td>\n",
              "      <td>NaN</td>\n",
              "      <td>NaN</td>\n",
              "      <td>NaN</td>\n",
              "      <td>NaN</td>\n",
              "      <td>NaN</td>\n",
              "      <td>NaN</td>\n",
              "      <td>NaN</td>\n",
              "      <td>NaN</td>\n",
              "      <td>NaN</td>\n",
              "      <td>NaN</td>\n",
              "      <td>NaN</td>\n",
              "      <td>NaN</td>\n",
              "      <td>NaN</td>\n",
              "      <td>NaN</td>\n",
              "      <td>NaN</td>\n",
              "      <td>NaN</td>\n",
              "      <td>NaN</td>\n",
              "      <td>NaN</td>\n",
              "      <td>NaN</td>\n",
              "      <td>NaN</td>\n",
              "    </tr>\n",
              "    <tr>\n",
              "      <th>2</th>\n",
              "      <td>5f29685f65f956545839cfe6</td>\n",
              "      <td>tops</td>\n",
              "      <td>coral</td>\n",
              "      <td>solid</td>\n",
              "      <td>conversational</td>\n",
              "      <td>cotton</td>\n",
              "      <td>t-shirts</td>\n",
              "      <td>regular</td>\n",
              "      <td>NaN</td>\n",
              "      <td>NaN</td>\n",
              "      <td>round neckline</td>\n",
              "      <td>short sleeve</td>\n",
              "      <td>set-in</td>\n",
              "      <td>crew</td>\n",
              "      <td>plain sleeve</td>\n",
              "      <td>NaN</td>\n",
              "      <td>NaN</td>\n",
              "      <td>NaN</td>\n",
              "      <td>NaN</td>\n",
              "      <td>straight</td>\n",
              "      <td>closed</td>\n",
              "      <td>closed</td>\n",
              "      <td>NaN</td>\n",
              "      <td>NaN</td>\n",
              "      <td>NaN</td>\n",
              "      <td>NaN</td>\n",
              "      <td>NaN</td>\n",
              "      <td>NaN</td>\n",
              "      <td>NaN</td>\n",
              "      <td>NaN</td>\n",
              "      <td>NaN</td>\n",
              "      <td>NaN</td>\n",
              "      <td>NaN</td>\n",
              "      <td>NaN</td>\n",
              "      <td>NaN</td>\n",
              "      <td>NaN</td>\n",
              "      <td>NaN</td>\n",
              "      <td>NaN</td>\n",
              "      <td>NaN</td>\n",
              "      <td>NaN</td>\n",
              "      <td>NaN</td>\n",
              "      <td>NaN</td>\n",
              "      <td>NaN</td>\n",
              "      <td>NaN</td>\n",
              "      <td>NaN</td>\n",
              "      <td>NaN</td>\n",
              "      <td>NaN</td>\n",
              "      <td>NaN</td>\n",
              "      <td>NaN</td>\n",
              "      <td>NaN</td>\n",
              "      <td>NaN</td>\n",
              "      <td>NaN</td>\n",
              "      <td>NaN</td>\n",
              "      <td>NaN</td>\n",
              "      <td>NaN</td>\n",
              "      <td>NaN</td>\n",
              "    </tr>\n",
              "    <tr>\n",
              "      <th>3</th>\n",
              "      <td>5f29685f65f956545839d059</td>\n",
              "      <td>tops</td>\n",
              "      <td>light blue</td>\n",
              "      <td>solid</td>\n",
              "      <td>NaN</td>\n",
              "      <td>cotton</td>\n",
              "      <td>t-shirts</td>\n",
              "      <td>regular</td>\n",
              "      <td>NaN</td>\n",
              "      <td>NaN</td>\n",
              "      <td>round neckline</td>\n",
              "      <td>sleeveless</td>\n",
              "      <td>set-in</td>\n",
              "      <td>round</td>\n",
              "      <td>NaN</td>\n",
              "      <td>NaN</td>\n",
              "      <td>NaN</td>\n",
              "      <td>NaN</td>\n",
              "      <td>NaN</td>\n",
              "      <td>NaN</td>\n",
              "      <td>NaN</td>\n",
              "      <td>NaN</td>\n",
              "      <td>no halter</td>\n",
              "      <td>wide straps</td>\n",
              "      <td>NaN</td>\n",
              "      <td>NaN</td>\n",
              "      <td>NaN</td>\n",
              "      <td>NaN</td>\n",
              "      <td>NaN</td>\n",
              "      <td>NaN</td>\n",
              "      <td>NaN</td>\n",
              "      <td>NaN</td>\n",
              "      <td>NaN</td>\n",
              "      <td>NaN</td>\n",
              "      <td>NaN</td>\n",
              "      <td>NaN</td>\n",
              "      <td>NaN</td>\n",
              "      <td>NaN</td>\n",
              "      <td>NaN</td>\n",
              "      <td>NaN</td>\n",
              "      <td>NaN</td>\n",
              "      <td>NaN</td>\n",
              "      <td>NaN</td>\n",
              "      <td>NaN</td>\n",
              "      <td>NaN</td>\n",
              "      <td>NaN</td>\n",
              "      <td>NaN</td>\n",
              "      <td>NaN</td>\n",
              "      <td>NaN</td>\n",
              "      <td>NaN</td>\n",
              "      <td>NaN</td>\n",
              "      <td>NaN</td>\n",
              "      <td>NaN</td>\n",
              "      <td>NaN</td>\n",
              "      <td>NaN</td>\n",
              "      <td>NaN</td>\n",
              "    </tr>\n",
              "    <tr>\n",
              "      <th>4</th>\n",
              "      <td>5f29685f65f956545839d09a</td>\n",
              "      <td>tops</td>\n",
              "      <td>black</td>\n",
              "      <td>stripes</td>\n",
              "      <td>NaN</td>\n",
              "      <td>cotton</td>\n",
              "      <td>t-shirts</td>\n",
              "      <td>regular</td>\n",
              "      <td>NaN</td>\n",
              "      <td>NaN</td>\n",
              "      <td>square neckline</td>\n",
              "      <td>sleeveless</td>\n",
              "      <td>set-in</td>\n",
              "      <td>NaN</td>\n",
              "      <td>NaN</td>\n",
              "      <td>NaN</td>\n",
              "      <td>dark gray</td>\n",
              "      <td>NaN</td>\n",
              "      <td>NaN</td>\n",
              "      <td>tie</td>\n",
              "      <td>NaN</td>\n",
              "      <td>NaN</td>\n",
              "      <td>no halter</td>\n",
              "      <td>wide straps</td>\n",
              "      <td>square</td>\n",
              "      <td>NaN</td>\n",
              "      <td>NaN</td>\n",
              "      <td>NaN</td>\n",
              "      <td>NaN</td>\n",
              "      <td>NaN</td>\n",
              "      <td>NaN</td>\n",
              "      <td>NaN</td>\n",
              "      <td>NaN</td>\n",
              "      <td>NaN</td>\n",
              "      <td>NaN</td>\n",
              "      <td>NaN</td>\n",
              "      <td>NaN</td>\n",
              "      <td>NaN</td>\n",
              "      <td>NaN</td>\n",
              "      <td>NaN</td>\n",
              "      <td>NaN</td>\n",
              "      <td>NaN</td>\n",
              "      <td>NaN</td>\n",
              "      <td>NaN</td>\n",
              "      <td>NaN</td>\n",
              "      <td>NaN</td>\n",
              "      <td>NaN</td>\n",
              "      <td>NaN</td>\n",
              "      <td>NaN</td>\n",
              "      <td>NaN</td>\n",
              "      <td>NaN</td>\n",
              "      <td>NaN</td>\n",
              "      <td>NaN</td>\n",
              "      <td>NaN</td>\n",
              "      <td>NaN</td>\n",
              "      <td>NaN</td>\n",
              "    </tr>\n",
              "    <tr>\n",
              "      <th>...</th>\n",
              "      <td>...</td>\n",
              "      <td>...</td>\n",
              "      <td>...</td>\n",
              "      <td>...</td>\n",
              "      <td>...</td>\n",
              "      <td>...</td>\n",
              "      <td>...</td>\n",
              "      <td>...</td>\n",
              "      <td>...</td>\n",
              "      <td>...</td>\n",
              "      <td>...</td>\n",
              "      <td>...</td>\n",
              "      <td>...</td>\n",
              "      <td>...</td>\n",
              "      <td>...</td>\n",
              "      <td>...</td>\n",
              "      <td>...</td>\n",
              "      <td>...</td>\n",
              "      <td>...</td>\n",
              "      <td>...</td>\n",
              "      <td>...</td>\n",
              "      <td>...</td>\n",
              "      <td>...</td>\n",
              "      <td>...</td>\n",
              "      <td>...</td>\n",
              "      <td>...</td>\n",
              "      <td>...</td>\n",
              "      <td>...</td>\n",
              "      <td>...</td>\n",
              "      <td>...</td>\n",
              "      <td>...</td>\n",
              "      <td>...</td>\n",
              "      <td>...</td>\n",
              "      <td>...</td>\n",
              "      <td>...</td>\n",
              "      <td>...</td>\n",
              "      <td>...</td>\n",
              "      <td>...</td>\n",
              "      <td>...</td>\n",
              "      <td>...</td>\n",
              "      <td>...</td>\n",
              "      <td>...</td>\n",
              "      <td>...</td>\n",
              "      <td>...</td>\n",
              "      <td>...</td>\n",
              "      <td>...</td>\n",
              "      <td>...</td>\n",
              "      <td>...</td>\n",
              "      <td>...</td>\n",
              "      <td>...</td>\n",
              "      <td>...</td>\n",
              "      <td>...</td>\n",
              "      <td>...</td>\n",
              "      <td>...</td>\n",
              "      <td>...</td>\n",
              "      <td>...</td>\n",
              "    </tr>\n",
              "    <tr>\n",
              "      <th>9441</th>\n",
              "      <td>6028885954a7af2cf4323a2f</td>\n",
              "      <td>NaN</td>\n",
              "      <td>NaN</td>\n",
              "      <td>NaN</td>\n",
              "      <td>NaN</td>\n",
              "      <td>NaN</td>\n",
              "      <td>NaN</td>\n",
              "      <td>NaN</td>\n",
              "      <td>NaN</td>\n",
              "      <td>NaN</td>\n",
              "      <td>NaN</td>\n",
              "      <td>NaN</td>\n",
              "      <td>NaN</td>\n",
              "      <td>NaN</td>\n",
              "      <td>NaN</td>\n",
              "      <td>NaN</td>\n",
              "      <td>NaN</td>\n",
              "      <td>NaN</td>\n",
              "      <td>NaN</td>\n",
              "      <td>NaN</td>\n",
              "      <td>NaN</td>\n",
              "      <td>NaN</td>\n",
              "      <td>NaN</td>\n",
              "      <td>NaN</td>\n",
              "      <td>NaN</td>\n",
              "      <td>NaN</td>\n",
              "      <td>NaN</td>\n",
              "      <td>NaN</td>\n",
              "      <td>NaN</td>\n",
              "      <td>NaN</td>\n",
              "      <td>NaN</td>\n",
              "      <td>NaN</td>\n",
              "      <td>NaN</td>\n",
              "      <td>NaN</td>\n",
              "      <td>NaN</td>\n",
              "      <td>NaN</td>\n",
              "      <td>NaN</td>\n",
              "      <td>NaN</td>\n",
              "      <td>NaN</td>\n",
              "      <td>NaN</td>\n",
              "      <td>NaN</td>\n",
              "      <td>NaN</td>\n",
              "      <td>NaN</td>\n",
              "      <td>NaN</td>\n",
              "      <td>NaN</td>\n",
              "      <td>NaN</td>\n",
              "      <td>NaN</td>\n",
              "      <td>NaN</td>\n",
              "      <td>NaN</td>\n",
              "      <td>NaN</td>\n",
              "      <td>NaN</td>\n",
              "      <td>NaN</td>\n",
              "      <td>NaN</td>\n",
              "      <td>NaN</td>\n",
              "      <td>NaN</td>\n",
              "      <td>NaN</td>\n",
              "    </tr>\n",
              "    <tr>\n",
              "      <th>9442</th>\n",
              "      <td>6028885954a7af2cf4323a2b</td>\n",
              "      <td>NaN</td>\n",
              "      <td>NaN</td>\n",
              "      <td>NaN</td>\n",
              "      <td>NaN</td>\n",
              "      <td>NaN</td>\n",
              "      <td>NaN</td>\n",
              "      <td>NaN</td>\n",
              "      <td>NaN</td>\n",
              "      <td>NaN</td>\n",
              "      <td>NaN</td>\n",
              "      <td>NaN</td>\n",
              "      <td>NaN</td>\n",
              "      <td>NaN</td>\n",
              "      <td>NaN</td>\n",
              "      <td>NaN</td>\n",
              "      <td>NaN</td>\n",
              "      <td>NaN</td>\n",
              "      <td>NaN</td>\n",
              "      <td>NaN</td>\n",
              "      <td>NaN</td>\n",
              "      <td>NaN</td>\n",
              "      <td>NaN</td>\n",
              "      <td>NaN</td>\n",
              "      <td>NaN</td>\n",
              "      <td>NaN</td>\n",
              "      <td>NaN</td>\n",
              "      <td>NaN</td>\n",
              "      <td>NaN</td>\n",
              "      <td>NaN</td>\n",
              "      <td>NaN</td>\n",
              "      <td>NaN</td>\n",
              "      <td>NaN</td>\n",
              "      <td>NaN</td>\n",
              "      <td>NaN</td>\n",
              "      <td>NaN</td>\n",
              "      <td>NaN</td>\n",
              "      <td>NaN</td>\n",
              "      <td>NaN</td>\n",
              "      <td>NaN</td>\n",
              "      <td>NaN</td>\n",
              "      <td>NaN</td>\n",
              "      <td>NaN</td>\n",
              "      <td>NaN</td>\n",
              "      <td>NaN</td>\n",
              "      <td>NaN</td>\n",
              "      <td>NaN</td>\n",
              "      <td>NaN</td>\n",
              "      <td>NaN</td>\n",
              "      <td>NaN</td>\n",
              "      <td>NaN</td>\n",
              "      <td>NaN</td>\n",
              "      <td>NaN</td>\n",
              "      <td>NaN</td>\n",
              "      <td>NaN</td>\n",
              "      <td>NaN</td>\n",
              "    </tr>\n",
              "    <tr>\n",
              "      <th>9443</th>\n",
              "      <td>6028885954a7af2cf4323a35</td>\n",
              "      <td>NaN</td>\n",
              "      <td>NaN</td>\n",
              "      <td>NaN</td>\n",
              "      <td>NaN</td>\n",
              "      <td>NaN</td>\n",
              "      <td>NaN</td>\n",
              "      <td>NaN</td>\n",
              "      <td>NaN</td>\n",
              "      <td>NaN</td>\n",
              "      <td>NaN</td>\n",
              "      <td>NaN</td>\n",
              "      <td>NaN</td>\n",
              "      <td>NaN</td>\n",
              "      <td>NaN</td>\n",
              "      <td>NaN</td>\n",
              "      <td>NaN</td>\n",
              "      <td>NaN</td>\n",
              "      <td>NaN</td>\n",
              "      <td>NaN</td>\n",
              "      <td>NaN</td>\n",
              "      <td>NaN</td>\n",
              "      <td>NaN</td>\n",
              "      <td>NaN</td>\n",
              "      <td>NaN</td>\n",
              "      <td>NaN</td>\n",
              "      <td>NaN</td>\n",
              "      <td>NaN</td>\n",
              "      <td>NaN</td>\n",
              "      <td>NaN</td>\n",
              "      <td>NaN</td>\n",
              "      <td>NaN</td>\n",
              "      <td>NaN</td>\n",
              "      <td>NaN</td>\n",
              "      <td>NaN</td>\n",
              "      <td>NaN</td>\n",
              "      <td>NaN</td>\n",
              "      <td>NaN</td>\n",
              "      <td>NaN</td>\n",
              "      <td>NaN</td>\n",
              "      <td>NaN</td>\n",
              "      <td>NaN</td>\n",
              "      <td>NaN</td>\n",
              "      <td>NaN</td>\n",
              "      <td>NaN</td>\n",
              "      <td>NaN</td>\n",
              "      <td>NaN</td>\n",
              "      <td>NaN</td>\n",
              "      <td>NaN</td>\n",
              "      <td>NaN</td>\n",
              "      <td>NaN</td>\n",
              "      <td>NaN</td>\n",
              "      <td>NaN</td>\n",
              "      <td>NaN</td>\n",
              "      <td>NaN</td>\n",
              "      <td>NaN</td>\n",
              "    </tr>\n",
              "    <tr>\n",
              "      <th>9444</th>\n",
              "      <td>6028885954a7af2cf4323a37</td>\n",
              "      <td>NaN</td>\n",
              "      <td>NaN</td>\n",
              "      <td>NaN</td>\n",
              "      <td>NaN</td>\n",
              "      <td>NaN</td>\n",
              "      <td>NaN</td>\n",
              "      <td>NaN</td>\n",
              "      <td>NaN</td>\n",
              "      <td>NaN</td>\n",
              "      <td>NaN</td>\n",
              "      <td>NaN</td>\n",
              "      <td>NaN</td>\n",
              "      <td>NaN</td>\n",
              "      <td>NaN</td>\n",
              "      <td>NaN</td>\n",
              "      <td>NaN</td>\n",
              "      <td>NaN</td>\n",
              "      <td>NaN</td>\n",
              "      <td>NaN</td>\n",
              "      <td>NaN</td>\n",
              "      <td>NaN</td>\n",
              "      <td>NaN</td>\n",
              "      <td>NaN</td>\n",
              "      <td>NaN</td>\n",
              "      <td>NaN</td>\n",
              "      <td>NaN</td>\n",
              "      <td>NaN</td>\n",
              "      <td>NaN</td>\n",
              "      <td>NaN</td>\n",
              "      <td>NaN</td>\n",
              "      <td>NaN</td>\n",
              "      <td>NaN</td>\n",
              "      <td>NaN</td>\n",
              "      <td>NaN</td>\n",
              "      <td>NaN</td>\n",
              "      <td>NaN</td>\n",
              "      <td>NaN</td>\n",
              "      <td>NaN</td>\n",
              "      <td>NaN</td>\n",
              "      <td>NaN</td>\n",
              "      <td>NaN</td>\n",
              "      <td>NaN</td>\n",
              "      <td>NaN</td>\n",
              "      <td>NaN</td>\n",
              "      <td>NaN</td>\n",
              "      <td>NaN</td>\n",
              "      <td>NaN</td>\n",
              "      <td>NaN</td>\n",
              "      <td>NaN</td>\n",
              "      <td>NaN</td>\n",
              "      <td>NaN</td>\n",
              "      <td>NaN</td>\n",
              "      <td>NaN</td>\n",
              "      <td>NaN</td>\n",
              "      <td>NaN</td>\n",
              "    </tr>\n",
              "    <tr>\n",
              "      <th>9445</th>\n",
              "      <td>6028885954a7af2cf4323a31</td>\n",
              "      <td>NaN</td>\n",
              "      <td>NaN</td>\n",
              "      <td>NaN</td>\n",
              "      <td>NaN</td>\n",
              "      <td>NaN</td>\n",
              "      <td>NaN</td>\n",
              "      <td>NaN</td>\n",
              "      <td>NaN</td>\n",
              "      <td>NaN</td>\n",
              "      <td>NaN</td>\n",
              "      <td>NaN</td>\n",
              "      <td>NaN</td>\n",
              "      <td>NaN</td>\n",
              "      <td>NaN</td>\n",
              "      <td>NaN</td>\n",
              "      <td>NaN</td>\n",
              "      <td>NaN</td>\n",
              "      <td>NaN</td>\n",
              "      <td>NaN</td>\n",
              "      <td>NaN</td>\n",
              "      <td>NaN</td>\n",
              "      <td>NaN</td>\n",
              "      <td>NaN</td>\n",
              "      <td>NaN</td>\n",
              "      <td>NaN</td>\n",
              "      <td>NaN</td>\n",
              "      <td>NaN</td>\n",
              "      <td>NaN</td>\n",
              "      <td>NaN</td>\n",
              "      <td>NaN</td>\n",
              "      <td>NaN</td>\n",
              "      <td>NaN</td>\n",
              "      <td>NaN</td>\n",
              "      <td>NaN</td>\n",
              "      <td>NaN</td>\n",
              "      <td>NaN</td>\n",
              "      <td>NaN</td>\n",
              "      <td>NaN</td>\n",
              "      <td>NaN</td>\n",
              "      <td>NaN</td>\n",
              "      <td>NaN</td>\n",
              "      <td>NaN</td>\n",
              "      <td>NaN</td>\n",
              "      <td>NaN</td>\n",
              "      <td>NaN</td>\n",
              "      <td>NaN</td>\n",
              "      <td>NaN</td>\n",
              "      <td>NaN</td>\n",
              "      <td>NaN</td>\n",
              "      <td>NaN</td>\n",
              "      <td>NaN</td>\n",
              "      <td>NaN</td>\n",
              "      <td>NaN</td>\n",
              "      <td>NaN</td>\n",
              "      <td>NaN</td>\n",
              "    </tr>\n",
              "  </tbody>\n",
              "</table>\n",
              "<p>9446 rows × 56 columns</p>\n",
              "</div>"
            ],
            "text/plain": [
              "                          item category  ... legCoverage rayonSubsection\n",
              "0     5f29685f65f956545839cf5f     tops  ...         NaN             NaN\n",
              "1     5f29685f65f956545839d227  bottoms  ...         NaN             NaN\n",
              "2     5f29685f65f956545839cfe6     tops  ...         NaN             NaN\n",
              "3     5f29685f65f956545839d059     tops  ...         NaN             NaN\n",
              "4     5f29685f65f956545839d09a     tops  ...         NaN             NaN\n",
              "...                        ...      ...  ...         ...             ...\n",
              "9441  6028885954a7af2cf4323a2f      NaN  ...         NaN             NaN\n",
              "9442  6028885954a7af2cf4323a2b      NaN  ...         NaN             NaN\n",
              "9443  6028885954a7af2cf4323a35      NaN  ...         NaN             NaN\n",
              "9444  6028885954a7af2cf4323a37      NaN  ...         NaN             NaN\n",
              "9445  6028885954a7af2cf4323a31      NaN  ...         NaN             NaN\n",
              "\n",
              "[9446 rows x 56 columns]"
            ]
          },
          "metadata": {},
          "execution_count": 81
        }
      ]
    },
    {
      "cell_type": "code",
      "metadata": {
        "colab": {
          "base_uri": "https://localhost:8080/",
          "height": 202
        },
        "id": "yzga5VFrDLyX",
        "outputId": "bb5791e5-6bd9-4505-b664-4f4f56042e80"
      },
      "source": [
        "ratings_df = user_id_interaction_df.reset_index()\n",
        "ratings_df.rename(columns={'action': 'rating', 'createdAt':'timestamp'}, inplace = True)\n",
        "ratings_df.head()"
      ],
      "execution_count": null,
      "outputs": [
        {
          "output_type": "execute_result",
          "data": {
            "text/html": [
              "<div>\n",
              "<style scoped>\n",
              "    .dataframe tbody tr th:only-of-type {\n",
              "        vertical-align: middle;\n",
              "    }\n",
              "\n",
              "    .dataframe tbody tr th {\n",
              "        vertical-align: top;\n",
              "    }\n",
              "\n",
              "    .dataframe thead th {\n",
              "        text-align: right;\n",
              "    }\n",
              "</style>\n",
              "<table border=\"1\" class=\"dataframe\">\n",
              "  <thead>\n",
              "    <tr style=\"text-align: right;\">\n",
              "      <th></th>\n",
              "      <th>user_id</th>\n",
              "      <th>item</th>\n",
              "      <th>timestamp</th>\n",
              "      <th>rating</th>\n",
              "    </tr>\n",
              "  </thead>\n",
              "  <tbody>\n",
              "    <tr>\n",
              "      <th>0</th>\n",
              "      <td>60d4c275de93100017f054b4</td>\n",
              "      <td>5f29685f65f956545839d09a</td>\n",
              "      <td>1625380016029</td>\n",
              "      <td>1.0</td>\n",
              "    </tr>\n",
              "    <tr>\n",
              "      <th>1</th>\n",
              "      <td>60d4c275de93100017f054b4</td>\n",
              "      <td>5f33000efc074a35b09eeadb</td>\n",
              "      <td>1625380020007</td>\n",
              "      <td>1.0</td>\n",
              "    </tr>\n",
              "    <tr>\n",
              "      <th>2</th>\n",
              "      <td>60d4c275de93100017f054b4</td>\n",
              "      <td>60ac190268efbb12cc7a7a05</td>\n",
              "      <td>1626584513216</td>\n",
              "      <td>1.0</td>\n",
              "    </tr>\n",
              "    <tr>\n",
              "      <th>3</th>\n",
              "      <td>60d4c275de93100017f054b4</td>\n",
              "      <td>60ac190268efbb12cc7a7a05</td>\n",
              "      <td>1626584958680</td>\n",
              "      <td>-1.0</td>\n",
              "    </tr>\n",
              "    <tr>\n",
              "      <th>4</th>\n",
              "      <td>60d4c275de93100017f054b4</td>\n",
              "      <td>60ac190268efbb12cc7a7a05</td>\n",
              "      <td>1626585090459</td>\n",
              "      <td>2.0</td>\n",
              "    </tr>\n",
              "  </tbody>\n",
              "</table>\n",
              "</div>"
            ],
            "text/plain": [
              "                    user_id                      item      timestamp  rating\n",
              "0  60d4c275de93100017f054b4  5f29685f65f956545839d09a  1625380016029     1.0\n",
              "1  60d4c275de93100017f054b4  5f33000efc074a35b09eeadb  1625380020007     1.0\n",
              "2  60d4c275de93100017f054b4  60ac190268efbb12cc7a7a05  1626584513216     1.0\n",
              "3  60d4c275de93100017f054b4  60ac190268efbb12cc7a7a05  1626584958680    -1.0\n",
              "4  60d4c275de93100017f054b4  60ac190268efbb12cc7a7a05  1626585090459     2.0"
            ]
          },
          "metadata": {},
          "execution_count": 29
        }
      ]
    },
    {
      "cell_type": "markdown",
      "metadata": {
        "id": "BpBS7DSdrTlr"
      },
      "source": [
        "# Format inputs to be compatible with TFRS"
      ]
    },
    {
      "cell_type": "code",
      "metadata": {
        "id": "c8qlZK8fGhZ0"
      },
      "source": [
        "items_df = t_items\n",
        "tote = ratings_df.merge(items_df, on = 'item')"
      ],
      "execution_count": null,
      "outputs": []
    },
    {
      "cell_type": "code",
      "metadata": {
        "colab": {
          "base_uri": "https://localhost:8080/",
          "height": 238
        },
        "id": "SbUwJjFFGx1v",
        "outputId": "40fb9742-bb4c-4f16-d7df-ab9236b43c2e"
      },
      "source": [
        "tote.head()"
      ],
      "execution_count": null,
      "outputs": [
        {
          "output_type": "execute_result",
          "data": {
            "text/html": [
              "<div>\n",
              "<style scoped>\n",
              "    .dataframe tbody tr th:only-of-type {\n",
              "        vertical-align: middle;\n",
              "    }\n",
              "\n",
              "    .dataframe tbody tr th {\n",
              "        vertical-align: top;\n",
              "    }\n",
              "\n",
              "    .dataframe thead th {\n",
              "        text-align: right;\n",
              "    }\n",
              "</style>\n",
              "<table border=\"1\" class=\"dataframe\">\n",
              "  <thead>\n",
              "    <tr style=\"text-align: right;\">\n",
              "      <th></th>\n",
              "      <th>user_id</th>\n",
              "      <th>item</th>\n",
              "      <th>timestamp</th>\n",
              "      <th>rating</th>\n",
              "      <th>category</th>\n",
              "      <th>primaryColor</th>\n",
              "      <th>primaryPattern</th>\n",
              "      <th>primaryTheme</th>\n",
              "      <th>rawMaterial</th>\n",
              "      <th>article</th>\n",
              "      <th>length</th>\n",
              "      <th>frontOpening</th>\n",
              "      <th>waistRiseLevels</th>\n",
              "      <th>neckline</th>\n",
              "      <th>sleeveLength</th>\n",
              "      <th>armHole</th>\n",
              "      <th>roundNecklineSubsection</th>\n",
              "      <th>sleeveType</th>\n",
              "      <th>cuff</th>\n",
              "      <th>secondaryColor</th>\n",
              "      <th>hemFinish</th>\n",
              "      <th>buttonClosureSubsection</th>\n",
              "      <th>hemline</th>\n",
              "      <th>backNeckline</th>\n",
              "      <th>closedSubsection</th>\n",
              "      <th>halter</th>\n",
              "      <th>strapWidth</th>\n",
              "      <th>squareNecklineSubsection</th>\n",
              "      <th>fullnessSkirt</th>\n",
              "      <th>hood</th>\n",
              "      <th>scoopNecklineSubsection</th>\n",
              "      <th>vNeckSubsection</th>\n",
              "      <th>sweetheartNecklineSubsection</th>\n",
              "      <th>tiedClosureSubsection</th>\n",
              "      <th>subArticle</th>\n",
              "      <th>locationOfTheme</th>\n",
              "      <th>pockets</th>\n",
              "      <th>patchPocketSubsection</th>\n",
              "      <th>collar</th>\n",
              "      <th>traditionalMenswearCollarSubsection</th>\n",
              "      <th>secondaryPattern</th>\n",
              "      <th>thirdColor</th>\n",
              "      <th>customerFacing</th>\n",
              "      <th>hardware</th>\n",
              "      <th>zipperClosureSubsection</th>\n",
              "      <th>closureZippersSubsection</th>\n",
              "      <th>weltPocketSubsection</th>\n",
              "      <th>closureButtonsSubsection</th>\n",
              "      <th>foldOverCollarSubsection</th>\n",
              "      <th>fabrics</th>\n",
              "      <th>highNecklineSubsection</th>\n",
              "      <th>standCollarSubsection</th>\n",
              "      <th>knitSubsection</th>\n",
              "      <th>openSubsection</th>\n",
              "      <th>lining</th>\n",
              "      <th>fourthColor</th>\n",
              "      <th>buttCoverage</th>\n",
              "      <th>legCoverage</th>\n",
              "      <th>rayonSubsection</th>\n",
              "    </tr>\n",
              "  </thead>\n",
              "  <tbody>\n",
              "    <tr>\n",
              "      <th>0</th>\n",
              "      <td>60d4c275de93100017f054b4</td>\n",
              "      <td>5f29685f65f956545839d09a</td>\n",
              "      <td>1625380016029</td>\n",
              "      <td>1.0</td>\n",
              "      <td>tops</td>\n",
              "      <td>black</td>\n",
              "      <td>stripes</td>\n",
              "      <td>NaN</td>\n",
              "      <td>cotton</td>\n",
              "      <td>t-shirts</td>\n",
              "      <td>regular</td>\n",
              "      <td>NaN</td>\n",
              "      <td>NaN</td>\n",
              "      <td>square neckline</td>\n",
              "      <td>sleeveless</td>\n",
              "      <td>set-in</td>\n",
              "      <td>NaN</td>\n",
              "      <td>NaN</td>\n",
              "      <td>NaN</td>\n",
              "      <td>dark gray</td>\n",
              "      <td>NaN</td>\n",
              "      <td>NaN</td>\n",
              "      <td>tie</td>\n",
              "      <td>NaN</td>\n",
              "      <td>NaN</td>\n",
              "      <td>no halter</td>\n",
              "      <td>wide straps</td>\n",
              "      <td>square</td>\n",
              "      <td>NaN</td>\n",
              "      <td>NaN</td>\n",
              "      <td>NaN</td>\n",
              "      <td>NaN</td>\n",
              "      <td>NaN</td>\n",
              "      <td>NaN</td>\n",
              "      <td>NaN</td>\n",
              "      <td>NaN</td>\n",
              "      <td>NaN</td>\n",
              "      <td>NaN</td>\n",
              "      <td>NaN</td>\n",
              "      <td>NaN</td>\n",
              "      <td>NaN</td>\n",
              "      <td>NaN</td>\n",
              "      <td>NaN</td>\n",
              "      <td>NaN</td>\n",
              "      <td>NaN</td>\n",
              "      <td>NaN</td>\n",
              "      <td>NaN</td>\n",
              "      <td>NaN</td>\n",
              "      <td>NaN</td>\n",
              "      <td>NaN</td>\n",
              "      <td>NaN</td>\n",
              "      <td>NaN</td>\n",
              "      <td>NaN</td>\n",
              "      <td>NaN</td>\n",
              "      <td>NaN</td>\n",
              "      <td>NaN</td>\n",
              "      <td>NaN</td>\n",
              "      <td>NaN</td>\n",
              "      <td>NaN</td>\n",
              "    </tr>\n",
              "    <tr>\n",
              "      <th>1</th>\n",
              "      <td>60d4c275de93100017f054b4</td>\n",
              "      <td>5f33000efc074a35b09eeadb</td>\n",
              "      <td>1625380020007</td>\n",
              "      <td>1.0</td>\n",
              "      <td>NaN</td>\n",
              "      <td>NaN</td>\n",
              "      <td>NaN</td>\n",
              "      <td>NaN</td>\n",
              "      <td>NaN</td>\n",
              "      <td>NaN</td>\n",
              "      <td>NaN</td>\n",
              "      <td>NaN</td>\n",
              "      <td>NaN</td>\n",
              "      <td>NaN</td>\n",
              "      <td>NaN</td>\n",
              "      <td>NaN</td>\n",
              "      <td>NaN</td>\n",
              "      <td>NaN</td>\n",
              "      <td>NaN</td>\n",
              "      <td>NaN</td>\n",
              "      <td>NaN</td>\n",
              "      <td>NaN</td>\n",
              "      <td>NaN</td>\n",
              "      <td>NaN</td>\n",
              "      <td>NaN</td>\n",
              "      <td>NaN</td>\n",
              "      <td>NaN</td>\n",
              "      <td>NaN</td>\n",
              "      <td>NaN</td>\n",
              "      <td>NaN</td>\n",
              "      <td>NaN</td>\n",
              "      <td>NaN</td>\n",
              "      <td>NaN</td>\n",
              "      <td>NaN</td>\n",
              "      <td>NaN</td>\n",
              "      <td>NaN</td>\n",
              "      <td>NaN</td>\n",
              "      <td>NaN</td>\n",
              "      <td>NaN</td>\n",
              "      <td>NaN</td>\n",
              "      <td>NaN</td>\n",
              "      <td>NaN</td>\n",
              "      <td>NaN</td>\n",
              "      <td>NaN</td>\n",
              "      <td>NaN</td>\n",
              "      <td>NaN</td>\n",
              "      <td>NaN</td>\n",
              "      <td>NaN</td>\n",
              "      <td>NaN</td>\n",
              "      <td>NaN</td>\n",
              "      <td>NaN</td>\n",
              "      <td>NaN</td>\n",
              "      <td>NaN</td>\n",
              "      <td>NaN</td>\n",
              "      <td>NaN</td>\n",
              "      <td>NaN</td>\n",
              "      <td>NaN</td>\n",
              "      <td>NaN</td>\n",
              "      <td>NaN</td>\n",
              "    </tr>\n",
              "    <tr>\n",
              "      <th>2</th>\n",
              "      <td>60d4c275de93100017f054b4</td>\n",
              "      <td>60ac190268efbb12cc7a7a05</td>\n",
              "      <td>1626584513216</td>\n",
              "      <td>1.0</td>\n",
              "      <td>NaN</td>\n",
              "      <td>NaN</td>\n",
              "      <td>NaN</td>\n",
              "      <td>NaN</td>\n",
              "      <td>NaN</td>\n",
              "      <td>NaN</td>\n",
              "      <td>NaN</td>\n",
              "      <td>NaN</td>\n",
              "      <td>NaN</td>\n",
              "      <td>NaN</td>\n",
              "      <td>NaN</td>\n",
              "      <td>NaN</td>\n",
              "      <td>NaN</td>\n",
              "      <td>NaN</td>\n",
              "      <td>NaN</td>\n",
              "      <td>NaN</td>\n",
              "      <td>NaN</td>\n",
              "      <td>NaN</td>\n",
              "      <td>NaN</td>\n",
              "      <td>NaN</td>\n",
              "      <td>NaN</td>\n",
              "      <td>NaN</td>\n",
              "      <td>NaN</td>\n",
              "      <td>NaN</td>\n",
              "      <td>NaN</td>\n",
              "      <td>NaN</td>\n",
              "      <td>NaN</td>\n",
              "      <td>NaN</td>\n",
              "      <td>NaN</td>\n",
              "      <td>NaN</td>\n",
              "      <td>NaN</td>\n",
              "      <td>NaN</td>\n",
              "      <td>NaN</td>\n",
              "      <td>NaN</td>\n",
              "      <td>NaN</td>\n",
              "      <td>NaN</td>\n",
              "      <td>NaN</td>\n",
              "      <td>NaN</td>\n",
              "      <td>NaN</td>\n",
              "      <td>NaN</td>\n",
              "      <td>NaN</td>\n",
              "      <td>NaN</td>\n",
              "      <td>NaN</td>\n",
              "      <td>NaN</td>\n",
              "      <td>NaN</td>\n",
              "      <td>NaN</td>\n",
              "      <td>NaN</td>\n",
              "      <td>NaN</td>\n",
              "      <td>NaN</td>\n",
              "      <td>NaN</td>\n",
              "      <td>NaN</td>\n",
              "      <td>NaN</td>\n",
              "      <td>NaN</td>\n",
              "      <td>NaN</td>\n",
              "      <td>NaN</td>\n",
              "    </tr>\n",
              "    <tr>\n",
              "      <th>3</th>\n",
              "      <td>60d4c275de93100017f054b4</td>\n",
              "      <td>60ac190268efbb12cc7a7a05</td>\n",
              "      <td>1626584958680</td>\n",
              "      <td>-1.0</td>\n",
              "      <td>NaN</td>\n",
              "      <td>NaN</td>\n",
              "      <td>NaN</td>\n",
              "      <td>NaN</td>\n",
              "      <td>NaN</td>\n",
              "      <td>NaN</td>\n",
              "      <td>NaN</td>\n",
              "      <td>NaN</td>\n",
              "      <td>NaN</td>\n",
              "      <td>NaN</td>\n",
              "      <td>NaN</td>\n",
              "      <td>NaN</td>\n",
              "      <td>NaN</td>\n",
              "      <td>NaN</td>\n",
              "      <td>NaN</td>\n",
              "      <td>NaN</td>\n",
              "      <td>NaN</td>\n",
              "      <td>NaN</td>\n",
              "      <td>NaN</td>\n",
              "      <td>NaN</td>\n",
              "      <td>NaN</td>\n",
              "      <td>NaN</td>\n",
              "      <td>NaN</td>\n",
              "      <td>NaN</td>\n",
              "      <td>NaN</td>\n",
              "      <td>NaN</td>\n",
              "      <td>NaN</td>\n",
              "      <td>NaN</td>\n",
              "      <td>NaN</td>\n",
              "      <td>NaN</td>\n",
              "      <td>NaN</td>\n",
              "      <td>NaN</td>\n",
              "      <td>NaN</td>\n",
              "      <td>NaN</td>\n",
              "      <td>NaN</td>\n",
              "      <td>NaN</td>\n",
              "      <td>NaN</td>\n",
              "      <td>NaN</td>\n",
              "      <td>NaN</td>\n",
              "      <td>NaN</td>\n",
              "      <td>NaN</td>\n",
              "      <td>NaN</td>\n",
              "      <td>NaN</td>\n",
              "      <td>NaN</td>\n",
              "      <td>NaN</td>\n",
              "      <td>NaN</td>\n",
              "      <td>NaN</td>\n",
              "      <td>NaN</td>\n",
              "      <td>NaN</td>\n",
              "      <td>NaN</td>\n",
              "      <td>NaN</td>\n",
              "      <td>NaN</td>\n",
              "      <td>NaN</td>\n",
              "      <td>NaN</td>\n",
              "      <td>NaN</td>\n",
              "    </tr>\n",
              "    <tr>\n",
              "      <th>4</th>\n",
              "      <td>60d4c275de93100017f054b4</td>\n",
              "      <td>60ac190268efbb12cc7a7a05</td>\n",
              "      <td>1626585090459</td>\n",
              "      <td>2.0</td>\n",
              "      <td>NaN</td>\n",
              "      <td>NaN</td>\n",
              "      <td>NaN</td>\n",
              "      <td>NaN</td>\n",
              "      <td>NaN</td>\n",
              "      <td>NaN</td>\n",
              "      <td>NaN</td>\n",
              "      <td>NaN</td>\n",
              "      <td>NaN</td>\n",
              "      <td>NaN</td>\n",
              "      <td>NaN</td>\n",
              "      <td>NaN</td>\n",
              "      <td>NaN</td>\n",
              "      <td>NaN</td>\n",
              "      <td>NaN</td>\n",
              "      <td>NaN</td>\n",
              "      <td>NaN</td>\n",
              "      <td>NaN</td>\n",
              "      <td>NaN</td>\n",
              "      <td>NaN</td>\n",
              "      <td>NaN</td>\n",
              "      <td>NaN</td>\n",
              "      <td>NaN</td>\n",
              "      <td>NaN</td>\n",
              "      <td>NaN</td>\n",
              "      <td>NaN</td>\n",
              "      <td>NaN</td>\n",
              "      <td>NaN</td>\n",
              "      <td>NaN</td>\n",
              "      <td>NaN</td>\n",
              "      <td>NaN</td>\n",
              "      <td>NaN</td>\n",
              "      <td>NaN</td>\n",
              "      <td>NaN</td>\n",
              "      <td>NaN</td>\n",
              "      <td>NaN</td>\n",
              "      <td>NaN</td>\n",
              "      <td>NaN</td>\n",
              "      <td>NaN</td>\n",
              "      <td>NaN</td>\n",
              "      <td>NaN</td>\n",
              "      <td>NaN</td>\n",
              "      <td>NaN</td>\n",
              "      <td>NaN</td>\n",
              "      <td>NaN</td>\n",
              "      <td>NaN</td>\n",
              "      <td>NaN</td>\n",
              "      <td>NaN</td>\n",
              "      <td>NaN</td>\n",
              "      <td>NaN</td>\n",
              "      <td>NaN</td>\n",
              "      <td>NaN</td>\n",
              "      <td>NaN</td>\n",
              "      <td>NaN</td>\n",
              "      <td>NaN</td>\n",
              "    </tr>\n",
              "  </tbody>\n",
              "</table>\n",
              "</div>"
            ],
            "text/plain": [
              "                    user_id  ... rayonSubsection\n",
              "0  60d4c275de93100017f054b4  ...             NaN\n",
              "1  60d4c275de93100017f054b4  ...             NaN\n",
              "2  60d4c275de93100017f054b4  ...             NaN\n",
              "3  60d4c275de93100017f054b4  ...             NaN\n",
              "4  60d4c275de93100017f054b4  ...             NaN\n",
              "\n",
              "[5 rows x 59 columns]"
            ]
          },
          "metadata": {},
          "execution_count": 192
        }
      ]
    },
    {
      "cell_type": "code",
      "metadata": {
        "colab": {
          "base_uri": "https://localhost:8080/"
        },
        "id": "ToOm1C9-G38_",
        "outputId": "9c8a5db4-6f79-4c1b-aed2-0964e04a1331"
      },
      "source": [
        "for item in tote.item:\n",
        "  if item in item_tag_df.index.values:\n",
        "    print(\"nice\")"
      ],
      "execution_count": null,
      "outputs": [
        {
          "output_type": "stream",
          "name": "stdout",
          "text": [
            "nice\n"
          ]
        }
      ]
    },
    {
      "cell_type": "code",
      "metadata": {
        "id": "aiHn_MoUW4zV"
      },
      "source": [
        "# NOW WE BUILD MODEL USING ALSO TIMESTAMP AND DESCRIPTION\n",
        "# Everything is converted to tensors and relevant embeddings\n",
        "\n",
        "\n",
        "### here we create a reference table of the user , item, and quantity purchased\n",
        "interactions_dict = ratings_df.groupby(['user_id',\n",
        "                                       'item',\n",
        "                                       'timestamp',\n",
        "                                       ])[ 'rating'].mean().reset_index()\n",
        "\n",
        "\n",
        "## we tansform the table inta a dictionary , which then we feed into tensor slices\n",
        "# this step is crucial as this will be the type of data fed into the embedding layers\n",
        "interactions_dict = {name: np.array(value) for name, value in interactions_dict.items()}\n",
        "interactions = tf.data.Dataset.from_tensor_slices(interactions_dict)\n"
      ],
      "execution_count": null,
      "outputs": []
    },
    {
      "cell_type": "code",
      "metadata": {
        "id": "A-sjvSsoGUxE"
      },
      "source": [
        "## #repeat for items\n",
        "\n",
        "items_dict = t_items.to_dict('list')\n",
        "items_dict = {name: np.array(value) for name, value in items_dict.items()}\n",
        "items = tf.data.Dataset.from_tensor_slices(items_dict)"
      ],
      "execution_count": null,
      "outputs": []
    },
    {
      "cell_type": "code",
      "metadata": {
        "colab": {
          "base_uri": "https://localhost:8080/"
        },
        "id": "iHh5gyt2dD2F",
        "outputId": "301cedff-4b67-40a0-bb0d-2e2d3cc80698"
      },
      "source": [
        "items"
      ],
      "execution_count": null,
      "outputs": [
        {
          "output_type": "execute_result",
          "data": {
            "text/plain": [
              "<MapDataset shapes: {item: (), category: (), primaryColor: ()}, types: {item: tf.string, category: tf.string, primaryColor: tf.string}>"
            ]
          },
          "metadata": {},
          "execution_count": 190
        }
      ]
    },
    {
      "cell_type": "code",
      "metadata": {
        "id": "KYqifWmqFpoQ"
      },
      "source": [
        "interactions_dict"
      ],
      "execution_count": null,
      "outputs": []
    },
    {
      "cell_type": "code",
      "metadata": {
        "id": "MbuTbZGSFjrn"
      },
      "source": [
        "ratings = interactions.map(lambda x: {\n",
        "    'item' : x['item'],\n",
        "    'user_id' : x['user_id'],\n",
        "     'rating' : x['rating'],\n",
        "})"
      ],
      "execution_count": null,
      "outputs": []
    },
    {
      "cell_type": "code",
      "metadata": {
        "id": "gsEvUs6HIeLV"
      },
      "source": [
        "### test simplified short embeddings first ######\n",
        "items = items.map(lambda x: {\n",
        "    'item' : x['item'],\n",
        "    'category' : x['category'],\n",
        "     'primaryColor' : x['primaryColor'],\n",
        "})"
      ],
      "execution_count": null,
      "outputs": []
    },
    {
      "cell_type": "code",
      "metadata": {
        "id": "tSl-_WmuOzw6"
      },
      "source": [
        "items_dict =t_items.groupby(['item', 'category', 'primaryColor', 'primaryPattern', 'primaryTheme',\n",
        "       'rawMaterial', 'article', 'length', 'frontOpening', 'waistRiseLevels',\n",
        "       'neckline', 'sleeveLength', 'armHole', 'roundNecklineSubsection',\n",
        "       'sleeveType', 'cuff', 'secondaryColor', 'hemFinish',\n",
        "       'buttonClosureSubsection', 'hemline', 'backNeckline',\n",
        "       'closedSubsection', 'halter', 'strapWidth', 'squareNecklineSubsection',\n",
        "       'fullnessSkirt', 'hood', 'scoopNecklineSubsection', 'vNeckSubsection',\n",
        "       'sweetheartNecklineSubsection', 'tiedClosureSubsection', 'subArticle',\n",
        "       'locationOfTheme', 'pockets', 'patchPocketSubsection', 'collar',\n",
        "       'traditionalMenswearCollarSubsection', 'secondaryPattern', 'thirdColor',\n",
        "       'customerFacing', 'hardware', 'zipperClosureSubsection',\n",
        "       'closureZippersSubsection', 'weltPocketSubsection',\n",
        "       'closureButtonsSubsection', 'foldOverCollarSubsection', 'fabrics',\n",
        "       'highNecklineSubsection', 'standCollarSubsection', 'knitSubsection',\n",
        "       'openSubsection', 'lining', 'fourthColor', 'buttCoverage',\n",
        "       'legCoverage', 'rayonSubsection'])"
      ],
      "execution_count": null,
      "outputs": []
    },
    {
      "cell_type": "code",
      "metadata": {
        "id": "Vxh2gnoCX7S6"
      },
      "source": [
        "users = interactions.map(lambda x: str(x['user_id']))\n",
        "titles = interactions.map(lambda x: str(x['item'])) ### aka interacted items\n",
        "categories = items.map(lambda x: str(x['category']))\n",
        "pcolors = items.map(lambda x: str(x['primaryColor']))\n",
        "#article = interactions.map(lambda x: str(x['article']))\n",
        "#length = interactions.map(lambda x: str(x['length']))\n",
        "#waistRiseLevels = interactions.map(lambda x: str(x['waistRiseLevels']))"
      ],
      "execution_count": null,
      "outputs": []
    },
    {
      "cell_type": "code",
      "metadata": {
        "id": "eI4dAiOuX-lF"
      },
      "source": [
        "# standardizing timestamp buckets into 1000 evenly spaced ones to save computation\n",
        "timestamps = np.concatenate(list(interactions.map(lambda x: x[\"timestamp\"]).batch(100)))\n",
        "max_timestamp = timestamps.max()\n",
        "min_timestamp = timestamps.min()\n",
        "timestamp_buckets = np.linspace( min_timestamp, max_timestamp, num=1000,)"
      ],
      "execution_count": null,
      "outputs": []
    },
    {
      "cell_type": "code",
      "metadata": {
        "id": "f99D_J5HYCHS"
      },
      "source": [
        "# figure out unique items and user and attribute classes\n",
        "unique_user_ids = np.unique(np.concatenate(list(interactions.batch(1_000).map(lambda x: x[\"user_id\"]))))\n",
        "unique_item_titles = np.unique(np.concatenate(list(items.batch(1000).map(lambda x: x[\"item\"]))))\n",
        "unique_product_category = np.unique(np.concatenate(list(items.batch(1_000).map(lambda x: x[\"category\"]))))\n",
        "unique_product_pcolor = np.unique(np.concatenate(list(items.batch(1_000).map(lambda x: x[\"primaryColor\"]))))\n",
        "#unique_article_category = np.unique(np.concatenate(list(interactions.batch(1_000).map(lambda x: x[\"article\"]))))\n",
        "#unique_length_category = np.unique(np.concatenate(list(interactions.batch(1_000).map(lambda x: x[\"length\"]))))\n",
        "#unique_waistRiseLevels_category = np.unique(np.concatenate(list(interactions.batch(1_000).map(lambda x: x[\"waistRiseLevels\"]))))"
      ],
      "execution_count": null,
      "outputs": []
    },
    {
      "cell_type": "code",
      "metadata": {
        "id": "An_nWhIFkeZ1"
      },
      "source": [
        "print(unique_user_ids)"
      ],
      "execution_count": null,
      "outputs": []
    },
    {
      "cell_type": "code",
      "metadata": {
        "id": "s8uM-IqwXHiB"
      },
      "source": [
        "# sanity checks on categories extracted\n",
        "print(len(unique_user_ids))\n",
        "print(len(unique_item_titles))\n",
        "print(unique_product_category)\n",
        "print(unique_product_pcolor)"
      ],
      "execution_count": null,
      "outputs": []
    },
    {
      "cell_type": "markdown",
      "metadata": {
        "id": "eN6vdgnqbjsB"
      },
      "source": [
        "# Automatically build vocab for each feature"
      ]
    },
    {
      "cell_type": "code",
      "metadata": {
        "id": "HsrMLa3re9Vb"
      },
      "source": [
        " ### use only simplified for now #####\n",
        "feature_names = ['item','category', 'primaryColor']\n",
        "\n",
        "vocabularies = {}\n",
        "\n",
        "for feature_name in feature_names:\n",
        "  #print(feature_name)\n",
        "  vocab = items.batch(1_000_000).map(lambda x: x[feature_name])\n",
        "  vocabularies[feature_name] = np.unique(np.concatenate(list(vocab)))\n"
      ],
      "execution_count": null,
      "outputs": []
    },
    {
      "cell_type": "code",
      "metadata": {
        "id": "6DqH0Z57fNok"
      },
      "source": [
        "len(vocabularies['item'])\n",
        "len(vocabularies['timestamp'])"
      ],
      "execution_count": null,
      "outputs": []
    },
    {
      "cell_type": "code",
      "metadata": {
        "id": "6mFq_Pf7bo5t"
      },
      "source": [
        " ### use only simplified for now #####\n",
        " ####DO NOT RUN THIS #####\n",
        "feature_names = ['item','category', 'primaryColor', 'primaryPattern', 'primaryTheme',\n",
        "       'rawMaterial', 'article', 'length', 'frontOpening', 'waistRiseLevels',\n",
        "       'neckline', 'sleeveLength', 'armHole', 'roundNecklineSubsection',\n",
        "       'sleeveType', 'cuff', 'secondaryColor', 'hemFinish',\n",
        "       'buttonClosureSubsection', 'hemline', 'backNeckline',\n",
        "       'closedSubsection', 'halter', 'strapWidth', 'squareNecklineSubsection',\n",
        "       'fullnessSkirt', 'hood', 'scoopNecklineSubsection', 'vNeckSubsection',\n",
        "       'sweetheartNecklineSubsection', 'tiedClosureSubsection', 'subArticle',\n",
        "       'locationOfTheme', 'pockets', 'patchPocketSubsection', 'collar',\n",
        "       'traditionalMenswearCollarSubsection', 'secondaryPattern', 'thirdColor',\n",
        "       'customerFacing', 'hardware', 'zipperClosureSubsection',\n",
        "       'closureZippersSubsection', 'weltPocketSubsection',\n",
        "       'closureButtonsSubsection', 'foldOverCollarSubsection', 'fabrics',\n",
        "       'highNecklineSubsection', 'standCollarSubsection', 'knitSubsection',\n",
        "       'openSubsection', 'lining', 'fourthColor', 'buttCoverage',\n",
        "       'legCoverage', 'rayonSubsection']\n",
        "\n",
        "vocabularies = {}\n",
        "\n",
        "for feature_name in feature_names:\n",
        "  print(feature_name)\n",
        "  #items = items.map(lambda x: { feature_name: x[feature_name],})\n",
        "  #vocab = items.batch(1_000_000).map(lambda x: x[feature_name])\n",
        "  #vocabularies[feature_name] = np.unique(np.concatenate(list(vocab)))\n"
      ],
      "execution_count": null,
      "outputs": []
    },
    {
      "cell_type": "code",
      "metadata": {
        "colab": {
          "base_uri": "https://localhost:8080/"
        },
        "id": "HKv282kMdkq0",
        "outputId": "dc6df085-ea5e-4d9f-8875-99aebc7b7bd4"
      },
      "source": [
        "items"
      ],
      "execution_count": null,
      "outputs": [
        {
          "output_type": "execute_result",
          "data": {
            "text/plain": [
              "<TensorSliceDataset shapes: {item: (), category: (), primaryColor: (), primaryPattern: (), primaryTheme: (), rawMaterial: (), article: (), length: (), frontOpening: (), waistRiseLevels: (), neckline: (), sleeveLength: (), armHole: (), roundNecklineSubsection: (), sleeveType: (), cuff: (), secondaryColor: (), hemFinish: (), buttonClosureSubsection: (), hemline: (), backNeckline: (), closedSubsection: (), halter: (), strapWidth: (), squareNecklineSubsection: (), fullnessSkirt: (), hood: (), scoopNecklineSubsection: (), vNeckSubsection: (), sweetheartNecklineSubsection: (), tiedClosureSubsection: (), subArticle: (), locationOfTheme: (), pockets: (), patchPocketSubsection: (), collar: (), traditionalMenswearCollarSubsection: (), secondaryPattern: (), thirdColor: (), customerFacing: (), hardware: (), zipperClosureSubsection: (), closureZippersSubsection: (), weltPocketSubsection: (), closureButtonsSubsection: (), foldOverCollarSubsection: (), fabrics: (), highNecklineSubsection: (), standCollarSubsection: (), knitSubsection: (), openSubsection: (), lining: (), fourthColor: (), buttCoverage: (), legCoverage: (), rayonSubsection: ()}, types: {item: tf.string, category: tf.string, primaryColor: tf.string, primaryPattern: tf.string, primaryTheme: tf.string, rawMaterial: tf.string, article: tf.string, length: tf.string, frontOpening: tf.string, waistRiseLevels: tf.string, neckline: tf.string, sleeveLength: tf.string, armHole: tf.string, roundNecklineSubsection: tf.string, sleeveType: tf.string, cuff: tf.string, secondaryColor: tf.string, hemFinish: tf.string, buttonClosureSubsection: tf.string, hemline: tf.string, backNeckline: tf.string, closedSubsection: tf.string, halter: tf.string, strapWidth: tf.string, squareNecklineSubsection: tf.string, fullnessSkirt: tf.string, hood: tf.string, scoopNecklineSubsection: tf.string, vNeckSubsection: tf.string, sweetheartNecklineSubsection: tf.string, tiedClosureSubsection: tf.string, subArticle: tf.string, locationOfTheme: tf.string, pockets: tf.string, patchPocketSubsection: tf.string, collar: tf.string, traditionalMenswearCollarSubsection: tf.string, secondaryPattern: tf.string, thirdColor: tf.string, customerFacing: tf.string, hardware: tf.string, zipperClosureSubsection: tf.string, closureZippersSubsection: tf.string, weltPocketSubsection: tf.string, closureButtonsSubsection: tf.string, foldOverCollarSubsection: tf.string, fabrics: tf.string, highNecklineSubsection: tf.string, standCollarSubsection: tf.string, knitSubsection: tf.string, openSubsection: tf.string, lining: tf.string, fourthColor: tf.string, buttCoverage: tf.string, legCoverage: tf.string, rayonSubsection: tf.string}>"
            ]
          },
          "metadata": {},
          "execution_count": 132
        }
      ]
    },
    {
      "cell_type": "markdown",
      "metadata": {
        "id": "fCq8uY0Cfhoc"
      },
      "source": [
        "#Define initial model structure"
      ]
    },
    {
      "cell_type": "code",
      "metadata": {
        "id": "bsfuUJV2fkfh"
      },
      "source": [
        "class UserModel(tf.keras.Model):\n",
        "    def __init__(self):\n",
        "        super().__init__()\n",
        "        self.embedding_dimension = 32\n",
        "        max_tokens = 10_000\n",
        "\n",
        "        ## user id\n",
        "        self.user_embedding = tf.keras.Sequential([tf.keras.layers.experimental.preprocessing.StringLookup(\n",
        "                                                    vocabulary=unique_user_ids, mask_token=None),\n",
        "                                                    tf.keras.layers.Embedding(len(unique_user_ids) + 1, 32),])\n",
        "\n",
        "\n",
        "        #timestamp\n",
        "        self.timestamp_embedding = tf.keras.Sequential([\n",
        "                                    tf.keras.layers.experimental.preprocessing.Discretization(timestamp_buckets.tolist()),\n",
        "                                    tf.keras.layers.Embedding(len(timestamp_buckets) + 1, 32),])\n",
        "        self.normalized_timestamp = tf.keras.layers.experimental.preprocessing.Normalization(axis = None)\n",
        "        self.normalized_timestamp.adapt(timestamps)\n",
        "\n",
        "    def call(self, inputs):\n",
        "        # Take the input dictionary, pass it through each input layer,\n",
        "        # and concatenate the result.\n",
        "        return tf.concat([\n",
        "                          self.user_embedding(inputs[\"user_id\"]),\n",
        "                          self.timestamp_embedding(inputs[\"timestamp\"]),\n",
        "                          tf.reshape(self.normalized_timestamp(inputs[\"timestamp\"]), (-1, 1)),\n",
        "                      ], axis=1)"
      ],
      "execution_count": null,
      "outputs": []
    },
    {
      "cell_type": "code",
      "metadata": {
        "id": "c0tYEzHdfwZ8"
      },
      "source": [
        "### getting this just to run for now but need to include age etc on here ####\n",
        "class QueryModel(tf.keras.Model):\n",
        "    \"\"\"Model for encoding user queries.\"\"\"\n",
        "\n",
        "    def __init__(self, layer_sizes, projection_dim=None):\n",
        "        \"\"\"Model for encoding user queries.\n",
        "\n",
        "        Args:\n",
        "          layer_sizes:\n",
        "            A list of integers where the i-th entry represents the number of units\n",
        "            the i-th layer contains.\n",
        "        \"\"\"\n",
        "        super().__init__()\n",
        "\n",
        "        # We first use the user model for generating embeddings.\n",
        "        self.embedding_model = UserModel()\n",
        "\n",
        "        # Then construct the layers.\n",
        "        self.dense_layers = tf.keras.Sequential()\n",
        "        #self.dense_layers = tf.keras.Sequential(tfrs.layers.dcn.Cross(projection_dim=projection_dim,\n",
        "                                        #kernel_initializer=\"glorot_uniform\"))\n",
        "\n",
        "        # Use the ReLU activation for all but the last layer.\n",
        "        for layer_size in layer_sizes[:-1]:\n",
        "            self.dense_layers.add(tf.keras.layers.Dense(layer_size, activation=\"relu\"))\n",
        "\n",
        "        # No activation for the last layer.\n",
        "        for layer_size in layer_sizes[-1:]:\n",
        "            self.dense_layers.add(tf.keras.layers.Dense(layer_size))\n",
        "\n",
        "    def call(self, inputs):\n",
        "        feature_embedding = self.embedding_model(inputs)\n",
        "        return self.dense_layers(feature_embedding)"
      ],
      "execution_count": null,
      "outputs": []
    },
    {
      "cell_type": "code",
      "metadata": {
        "id": "Ib8T8TKegSRX"
      },
      "source": [
        "class ItemModel(tf.keras.Model):\n",
        "\n",
        "    def __init__(self):\n",
        "        super().__init__()\n",
        "\n",
        "        self.embedding_dimension = 32\n",
        "\n",
        "        max_tokens = 10_000\n",
        "        str_features = ['item','category', 'primaryColor']\n",
        "        self._all_features = str_features\n",
        "        self._embeddings = {}\n",
        "\n",
        "        # Compute embeddings for string features.\n",
        "        for feature_name in str_features:\n",
        "          vocabulary = vocabularies[feature_name]\n",
        "          self._embeddings[feature_name] = tf.keras.Sequential(\n",
        "              [tf.keras.layers.experimental.preprocessing.StringLookup(\n",
        "                  vocabulary=vocabulary, mask_token=None),\n",
        "              tf.keras.layers.Embedding(len(vocabulary) + 1,\n",
        "                                        self.embedding_dimension)\n",
        "        ])\n",
        "\n",
        "\n",
        "    def call(self, features):\n",
        "          # Concatenate embeddings\n",
        "          embeddings = []\n",
        "          for feature_name in self._all_features:\n",
        "            embedding_fn = self._embeddings[feature_name]\n",
        "            embeddings.append(embedding_fn(features[feature_name]))\n",
        "\n",
        "          x = tf.concat(embeddings, axis=1)\n",
        "          return x\n",
        "\n",
        "  ### candidate model\n",
        "class CandidateModel(tf.keras.Model):\n",
        "    \"\"\"Model for encoding items.\"\"\"\n",
        "\n",
        "    def __init__(self, layer_sizes, projection_dim=None):\n",
        "        \"\"\"Model for encoding items.\n",
        "\n",
        "        Args:\n",
        "          layer_sizes:\n",
        "            A list of integers where the i-th entry represents the number of units\n",
        "            the i-th layer contains.\n",
        "        \"\"\"\n",
        "        super().__init__()\n",
        "\n",
        "        self.embedding_model = ItemModel()\n",
        "\n",
        "         # Then construct the layers.\n",
        "        self.dense_layers = tf.keras.Sequential(tfrs.layers.dcn.Cross(projection_dim=projection_dim,\n",
        "                                                kernel_initializer=\"glorot_uniform\"))\n",
        "\n",
        "        # Use the ReLU activation for all but the last layer.\n",
        "        for layer_size in layer_sizes[:-1]:\n",
        "            self.dense_layers.add(tf.keras.layers.Dense(layer_size, activation=\"relu\"))\n",
        "\n",
        "        # No activation for the last layer.\n",
        "        for layer_size in layer_sizes[-1:]:\n",
        "            self.dense_layers.add(tf.keras.layers.Dense(layer_size))\n",
        "\n",
        "    def call(self, inputs):\n",
        "        feature_embedding = self.embedding_model(inputs)\n",
        "        return self.dense_layers(feature_embedding)\n",
        ""
      ],
      "execution_count": null,
      "outputs": []
    },
    {
      "cell_type": "code",
      "metadata": {
        "id": "m2jO3pT8uE4F"
      },
      "source": [
        "class ToteSimple2(tfrs.models.Model):\n",
        "    def __init__(self):\n",
        "      super().__init__()\n",
        "      # self.query_model =  UserModel()\n",
        "      self.query_model = tf.keras.Sequential([\n",
        "          UserModel(),\n",
        "          tf.keras.layers.Dense(32)\n",
        "      ], name = 'query_name')\n",
        "\n",
        "      self.candidate_model = tf.keras.Sequential([\n",
        "          ItemModel(),\n",
        "          tf.keras.layers.Dense(32)\n",
        "      ])\n",
        "\n",
        "      self.task = tfrs.tasks.Retrieval(\n",
        "          metrics = tfrs.metrics.FactorizedTopK(\n",
        "              # candidates = items.batch(128).map(self.candidate_model),\n",
        "              candidates = items.batch(128).map(self.candidate_model),\n",
        "          )\n",
        "      )\n",
        "\n",
        "    def compute_loss(self, features, training = False):\n",
        "          query_embeddings = self.query_model({\n",
        "              \"user_id\": features[\"user_id\"],\n",
        "              \"timestamp\": features[\"timestamp\"],\n",
        "              })\n",
        "\n",
        "          item_embeddings = self.candidate_model({\"item\": features[\"item\"],\n",
        "                                                  \"category\" : features[\"category\"],\n",
        "                                                  \"primaryColor\" : features[\"primaryColor\"]})\n",
        "\n",
        "          return self.task(query_embeddings, item_embeddings)"
      ],
      "execution_count": null,
      "outputs": []
    },
    {
      "cell_type": "code",
      "metadata": {
        "id": "qgBCMflKvtRh"
      },
      "source": [
        "cached_train"
      ],
      "execution_count": null,
      "outputs": []
    },
    {
      "cell_type": "code",
      "metadata": {
        "id": "FxDSd4ACu4Jh"
      },
      "source": [
        "num_epochs = 30\n",
        "\n",
        "model = ToteSimple2()\n",
        "model.compile(optimizer=tf.keras.optimizers.Adagrad(0.1))\n",
        "\n",
        "one_layer_history = model.fit(\n",
        "    cached_train,\n",
        "    validation_data=cached_test,\n",
        "    validation_freq=5,\n",
        "    epochs=num_epochs,\n",
        "    verbose=0)\n",
        "\n",
        "accuracy = one_layer_history.history[\"val_factorized_top_k/top_100_categorical_accuracy\"][-1]\n",
        "print(f\"Top-100 accuracy: {accuracy:.2f}.\")"
      ],
      "execution_count": null,
      "outputs": []
    },
    {
      "cell_type": "markdown",
      "metadata": {
        "id": "l8Yljcp5HXoi"
      },
      "source": [
        "# Define simple deep model, fit and evaluate"
      ]
    },
    {
      "cell_type": "code",
      "metadata": {
        "id": "sb8_rryavphM"
      },
      "source": [
        "# cross netowkr relu dnn model\n",
        "\n",
        "class ToteSimpleDeepModel(tfrs.models.Model):\n",
        "    def __init__(self, layer_sizes):\n",
        "        super().__init__()\n",
        "        self.query_model : tf.keras.Model = QueryModel(layer_sizes)\n",
        "        self.candidate_model : tf.keras.Model = CandidateModel(layer_sizes)\n",
        "\n",
        "        self.task = tfrs.tasks.Retrieval(\n",
        "        metrics=tfrs.metrics.FactorizedTopK(\n",
        "            candidates=items.batch(128).map(self.candidate_model),\n",
        "        ),\n",
        "    )\n",
        "\n",
        "    def compute_loss(self, features,  training=False):\n",
        "\n",
        "        # We only pass the user id and timestamp features into the query model. This\n",
        "        # is to ensure that the training inputs would have the same keys as the\n",
        "        # query inputs. Otherwise the discrepancy in input structure would cause an\n",
        "        # error when loading the query model after saving it.\n",
        "        #ratings = features.pop(\"user_rating\")\n",
        "        #user_embeddings, item_embeddings, rating_predictions = self(features)\n",
        "        #ratings = features.pop(\"user_rating\")\n",
        "\n",
        "        query_embeddings = self.query_model({\n",
        "            \"user_id\": features[\"user_id\"],\n",
        "            \"timestamp\": features[\"timestamp\"],\n",
        "            })\n",
        "\n",
        "            # We compute the loss for each task.\n",
        "        #retrieval_loss = self.retrieval_task(user_embeddings, item_embeddings)\n",
        "\n",
        "        item_embeddings = self.candidate_model({\"item\": features[\"item\"],\n",
        "                                                \"category\" : features[\"category\"],\n",
        "                                                \"primaryColor\" : features[\"primaryColor\"]})\n",
        "\n",
        "        #retrieval_loss = self.retrieval_task(query_embeddings, item_embeddings)\n",
        "\n",
        "        return self.task(\n",
        "        query_embeddings, item_embeddings, compute_metrics=not training)"
      ],
      "execution_count": null,
      "outputs": []
    },
    {
      "cell_type": "code",
      "metadata": {
        "id": "-n1z8YHLn5e6"
      },
      "source": [
        "model"
      ],
      "execution_count": null,
      "outputs": []
    },
    {
      "cell_type": "code",
      "metadata": {
        "id": "csWSm90RgWLG"
      },
      "source": [
        "### Fitting and evaluating\n",
        "\n",
        "### we choose the dimensionality of the query and candicate representation.\n",
        "embedding_dimension = 32\n",
        "\n",
        "\n",
        "# Randomly shuffle data and split between train and test.\n",
        "tf.random.set_seed(42)\n",
        "shuffled = ratings.shuffle(100_000, seed=42, reshuffle_each_iteration=False)\n",
        "train_n = np.int(.8*len(shuffled))\n",
        "test_n = np.int(.2* len(shuffled))\n",
        "\n",
        "train = shuffled.take(train_n)\n",
        "test = shuffled.skip(train_n).take(test_n)\n",
        "\n",
        "cached_train = train.shuffle(100_000).batch(8192).cache()\n",
        "cached_test = test.batch(4096).cache()\n"
      ],
      "execution_count": null,
      "outputs": []
    },
    {
      "cell_type": "code",
      "metadata": {
        "id": "mx-ysr6unQBq"
      },
      "source": [
        "num_epochs = 30\n",
        "\n",
        "model = ToteSimpleDeepModel([32])"
      ],
      "execution_count": null,
      "outputs": []
    },
    {
      "cell_type": "code",
      "metadata": {
        "id": "60m-NunOnRmT"
      },
      "source": [
        "model.query_model([32])"
      ],
      "execution_count": null,
      "outputs": []
    },
    {
      "cell_type": "code",
      "metadata": {
        "id": "76ZCxs6ekbhy"
      },
      "source": [
        "num_epochs = 30\n",
        "\n",
        "model = ToteSimpleDeepModel([32])\n",
        "model.compile(optimizer=tf.keras.optimizers.Adagrad(0.1))\n",
        "\n",
        "one_layer_history = model.fit(\n",
        "    cached_train,\n",
        "    validation_data=cached_test,\n",
        "    validation_freq=5,\n",
        "    epochs=num_epochs,\n",
        "    verbose=0)\n",
        "\n",
        "accuracy = one_layer_history.history[\"val_factorized_top_k/top_100_categorical_accuracy\"][-1]\n",
        "print(f\"Top-100 accuracy: {accuracy:.2f}.\")"
      ],
      "execution_count": null,
      "outputs": []
    },
    {
      "cell_type": "code",
      "metadata": {
        "id": "0kJ6wim-gEJ6"
      },
      "source": [
        "# cross netowkr relu dnn model\n",
        "\n",
        "class CrossDNNModel(tfrs.models.Model):\n",
        "    def __init__(self, layer_sizes, rating_weight: float, retrieval_weight: float, projection_dim=None ):\n",
        "        super().__init__()\n",
        "        self.query_model : tf.keras.Model = QueryModel(layer_sizes)\n",
        "        self.candidate_model : tf.keras.Model = CandidateModel(layer_sizes)\n",
        "\n",
        "                # item models.\n",
        "        self.item_model: tf.keras.layers.Layer = tf.keras.Sequential([\n",
        "          tf.keras.layers.experimental.preprocessing.StringLookup(\n",
        "            vocabulary=unique_item_titles, mask_token=None),\n",
        "          tf.keras.layers.Embedding(len(unique_item_titles) + 1, embedding_dimension)\n",
        "        ])\n",
        "\n",
        "        ## user model\n",
        "        self.user_model: tf.keras.layers.Layer = tf.keras.Sequential([\n",
        "          tf.keras.layers.experimental.preprocessing.StringLookup(\n",
        "            vocabulary=unique_user_ids, mask_token=None),\n",
        "          tf.keras.layers.Embedding(len(unique_user_ids) + 1, embedding_dimension)\n",
        "        ])\n",
        "\n",
        "\n",
        "                ## this is Relu-Based DNN\n",
        "        self.rating_model = tf.keras.Sequential([\n",
        "            tf.keras.layers.Dense(256, activation=\"relu\"),\n",
        "            tf.keras.layers.Dense(128, activation=\"relu\"),\n",
        "            tf.keras.layers.Dense(64, activation=\"relu\"),\n",
        "            tf.keras.layers.Dense(1),\n",
        "        ])\n",
        "\n",
        "        ## rating and retrieval task.\n",
        "        self.rating_task = tfrs.tasks.Ranking(\n",
        "            loss=tf.keras.losses.MeanSquaredError(),\n",
        "            metrics=[tf.keras.metrics.RootMeanSquaredError()])\n",
        "\n",
        "        self.retrieval_task : tf.keras.layers.Layer = tfrs.tasks.Retrieval(\n",
        "            metrics=tfrs.metrics.FactorizedTopK(\n",
        "                candidates=items.batch(128).map(self.candidate_model)))\n",
        "\n",
        "        # The loss weights.\n",
        "        self.rating_weight = rating_weight\n",
        "        self.retrieval_weight = retrieval_weight\n",
        "\n",
        "\n",
        "    def call(self, features: Dict[Text, tf.Tensor]) -> tf.Tensor:\n",
        "        # We pick out the user features and pass them into the user model.\n",
        "        user_embeddings = self.user_model(features[\"user_id\"])\n",
        "\n",
        "        # And pick out the item features and pass them into the item model.\n",
        "        item_embeddings = self.item_model(features[\"product_id\"])\n",
        "\n",
        "        return (\n",
        "            user_embeddings,\n",
        "            item_embeddings,\n",
        "            # We apply the multi-layered rating model to a concatentation of\n",
        "            # user and item embeddings.\n",
        "            self.rating_model(\n",
        "                tf.concat([user_embeddings, item_embeddings], axis=1)\n",
        "            ),\n",
        "        )\n",
        "\n",
        "\n",
        "\n",
        "    def compute_loss(self, features, training=False):\n",
        "\n",
        "        # We only pass the user id and timestamp features into the query model. This\n",
        "        # is to ensure that the training inputs would have the same keys as the\n",
        "        # query inputs. Otherwise the discrepancy in input structure would cause an\n",
        "        # error when loading the query model after saving it.\n",
        "        ratings = features.pop(\"user_rating\")\n",
        "        user_embeddings, item_embeddings, rating_predictions = self(features)\n",
        "\n",
        "        query_embeddings = self.query_model({\n",
        "            \"user_id\": features[\"user_id\"],\n",
        "            \"product_id\": features[\"product_id\"],\n",
        "            \"timestamp\": features[\"timestamp\"],\n",
        "            \"category\": features[\"category\"],\n",
        "            \"article\": features[\"article\"],\n",
        "            \"length\": features[\"length\"],\n",
        "            \"waistRiseLevels\": features[\"waistRiseLevels\"],\n",
        "            })\n",
        "\n",
        "            # We compute the loss for each task.\n",
        "        rating_loss = self.rating_task(\n",
        "            labels=ratings,\n",
        "            predictions=rating_predictions,\n",
        "        )\n",
        "        #retrieval_loss = self.retrieval_task(user_embeddings, item_embeddings)\n",
        "\n",
        "        item_embeddings = self.candidate_model(features[\"product_id\"])\n",
        "        retrieval_loss = self.retrieval_task(query_embeddings, item_embeddings)\n",
        "        rating_loss = 0.01\n",
        "\n",
        "         # And combine them using the loss weights.\n",
        "        return (self.rating_weight * rating_loss\n",
        "                + self.retrieval_weight * retrieval_loss)"
      ],
      "execution_count": null,
      "outputs": []
    },
    {
      "cell_type": "code",
      "metadata": {
        "colab": {
          "base_uri": "https://localhost:8080/",
          "height": 707
        },
        "id": "qcgmnkxKgYQy",
        "outputId": "135a163c-eadd-4a56-8617-668cd69a84e5"
      },
      "source": [
        "userid_model = CrossDNNModel([32], rating_weight=0.5, retrieval_weight=0.5,\n",
        "                      projection_dim=None)\n",
        "userid_model.compile(optimizer=tf.keras.optimizers.Adagrad(0.1))\n",
        "one_layer_history = userid_model.fit(cached_train, validation_data=cached_train,\n",
        "        validation_freq=5, epochs=50)"
      ],
      "execution_count": null,
      "outputs": [
        {
          "output_type": "stream",
          "name": "stdout",
          "text": [
            "Epoch 1/50\n"
          ]
        },
        {
          "output_type": "error",
          "ename": "KeyError",
          "evalue": "ignored",
          "traceback": [
            "\u001b[0;31m---------------------------------------------------------------------------\u001b[0m",
            "\u001b[0;31mKeyError\u001b[0m                                  Traceback (most recent call last)",
            "\u001b[0;32m<ipython-input-205-e4f2f545a937>\u001b[0m in \u001b[0;36m<module>\u001b[0;34m()\u001b[0m\n\u001b[1;32m      3\u001b[0m \u001b[0muserid_model\u001b[0m\u001b[0;34m.\u001b[0m\u001b[0mcompile\u001b[0m\u001b[0;34m(\u001b[0m\u001b[0moptimizer\u001b[0m\u001b[0;34m=\u001b[0m\u001b[0mtf\u001b[0m\u001b[0;34m.\u001b[0m\u001b[0mkeras\u001b[0m\u001b[0;34m.\u001b[0m\u001b[0moptimizers\u001b[0m\u001b[0;34m.\u001b[0m\u001b[0mAdagrad\u001b[0m\u001b[0;34m(\u001b[0m\u001b[0;36m0.1\u001b[0m\u001b[0;34m)\u001b[0m\u001b[0;34m)\u001b[0m\u001b[0;34m\u001b[0m\u001b[0;34m\u001b[0m\u001b[0m\n\u001b[1;32m      4\u001b[0m one_layer_history = userid_model.fit(cached_train, validation_data=cached_train,\n\u001b[0;32m----> 5\u001b[0;31m         validation_freq=5, epochs=50)\n\u001b[0m",
            "\u001b[0;32m/usr/local/lib/python3.7/dist-packages/keras/engine/training.py\u001b[0m in \u001b[0;36mfit\u001b[0;34m(self, x, y, batch_size, epochs, verbose, callbacks, validation_split, validation_data, shuffle, class_weight, sample_weight, initial_epoch, steps_per_epoch, validation_steps, validation_batch_size, validation_freq, max_queue_size, workers, use_multiprocessing)\u001b[0m\n\u001b[1;32m   1182\u001b[0m                 _r=1):\n\u001b[1;32m   1183\u001b[0m               \u001b[0mcallbacks\u001b[0m\u001b[0;34m.\u001b[0m\u001b[0mon_train_batch_begin\u001b[0m\u001b[0;34m(\u001b[0m\u001b[0mstep\u001b[0m\u001b[0;34m)\u001b[0m\u001b[0;34m\u001b[0m\u001b[0;34m\u001b[0m\u001b[0m\n\u001b[0;32m-> 1184\u001b[0;31m               \u001b[0mtmp_logs\u001b[0m \u001b[0;34m=\u001b[0m \u001b[0mself\u001b[0m\u001b[0;34m.\u001b[0m\u001b[0mtrain_function\u001b[0m\u001b[0;34m(\u001b[0m\u001b[0miterator\u001b[0m\u001b[0;34m)\u001b[0m\u001b[0;34m\u001b[0m\u001b[0;34m\u001b[0m\u001b[0m\n\u001b[0m\u001b[1;32m   1185\u001b[0m               \u001b[0;32mif\u001b[0m \u001b[0mdata_handler\u001b[0m\u001b[0;34m.\u001b[0m\u001b[0mshould_sync\u001b[0m\u001b[0;34m:\u001b[0m\u001b[0;34m\u001b[0m\u001b[0;34m\u001b[0m\u001b[0m\n\u001b[1;32m   1186\u001b[0m                 \u001b[0mcontext\u001b[0m\u001b[0;34m.\u001b[0m\u001b[0masync_wait\u001b[0m\u001b[0;34m(\u001b[0m\u001b[0;34m)\u001b[0m\u001b[0;34m\u001b[0m\u001b[0;34m\u001b[0m\u001b[0m\n",
            "\u001b[0;32m/usr/local/lib/python3.7/dist-packages/tensorflow/python/eager/def_function.py\u001b[0m in \u001b[0;36m__call__\u001b[0;34m(self, *args, **kwds)\u001b[0m\n\u001b[1;32m    883\u001b[0m \u001b[0;34m\u001b[0m\u001b[0m\n\u001b[1;32m    884\u001b[0m       \u001b[0;32mwith\u001b[0m \u001b[0mOptionalXlaContext\u001b[0m\u001b[0;34m(\u001b[0m\u001b[0mself\u001b[0m\u001b[0;34m.\u001b[0m\u001b[0m_jit_compile\u001b[0m\u001b[0;34m)\u001b[0m\u001b[0;34m:\u001b[0m\u001b[0;34m\u001b[0m\u001b[0;34m\u001b[0m\u001b[0m\n\u001b[0;32m--> 885\u001b[0;31m         \u001b[0mresult\u001b[0m \u001b[0;34m=\u001b[0m \u001b[0mself\u001b[0m\u001b[0;34m.\u001b[0m\u001b[0m_call\u001b[0m\u001b[0;34m(\u001b[0m\u001b[0;34m*\u001b[0m\u001b[0margs\u001b[0m\u001b[0;34m,\u001b[0m \u001b[0;34m**\u001b[0m\u001b[0mkwds\u001b[0m\u001b[0;34m)\u001b[0m\u001b[0;34m\u001b[0m\u001b[0;34m\u001b[0m\u001b[0m\n\u001b[0m\u001b[1;32m    886\u001b[0m \u001b[0;34m\u001b[0m\u001b[0m\n\u001b[1;32m    887\u001b[0m       \u001b[0mnew_tracing_count\u001b[0m \u001b[0;34m=\u001b[0m \u001b[0mself\u001b[0m\u001b[0;34m.\u001b[0m\u001b[0mexperimental_get_tracing_count\u001b[0m\u001b[0;34m(\u001b[0m\u001b[0;34m)\u001b[0m\u001b[0;34m\u001b[0m\u001b[0;34m\u001b[0m\u001b[0m\n",
            "\u001b[0;32m/usr/local/lib/python3.7/dist-packages/tensorflow/python/eager/def_function.py\u001b[0m in \u001b[0;36m_call\u001b[0;34m(self, *args, **kwds)\u001b[0m\n\u001b[1;32m    931\u001b[0m       \u001b[0;31m# This is the first call of __call__, so we have to initialize.\u001b[0m\u001b[0;34m\u001b[0m\u001b[0;34m\u001b[0m\u001b[0;34m\u001b[0m\u001b[0m\n\u001b[1;32m    932\u001b[0m       \u001b[0minitializers\u001b[0m \u001b[0;34m=\u001b[0m \u001b[0;34m[\u001b[0m\u001b[0;34m]\u001b[0m\u001b[0;34m\u001b[0m\u001b[0;34m\u001b[0m\u001b[0m\n\u001b[0;32m--> 933\u001b[0;31m       \u001b[0mself\u001b[0m\u001b[0;34m.\u001b[0m\u001b[0m_initialize\u001b[0m\u001b[0;34m(\u001b[0m\u001b[0margs\u001b[0m\u001b[0;34m,\u001b[0m \u001b[0mkwds\u001b[0m\u001b[0;34m,\u001b[0m \u001b[0madd_initializers_to\u001b[0m\u001b[0;34m=\u001b[0m\u001b[0minitializers\u001b[0m\u001b[0;34m)\u001b[0m\u001b[0;34m\u001b[0m\u001b[0;34m\u001b[0m\u001b[0m\n\u001b[0m\u001b[1;32m    934\u001b[0m     \u001b[0;32mfinally\u001b[0m\u001b[0;34m:\u001b[0m\u001b[0;34m\u001b[0m\u001b[0;34m\u001b[0m\u001b[0m\n\u001b[1;32m    935\u001b[0m       \u001b[0;31m# At this point we know that the initialization is complete (or less\u001b[0m\u001b[0;34m\u001b[0m\u001b[0;34m\u001b[0m\u001b[0;34m\u001b[0m\u001b[0m\n",
            "\u001b[0;32m/usr/local/lib/python3.7/dist-packages/tensorflow/python/eager/def_function.py\u001b[0m in \u001b[0;36m_initialize\u001b[0;34m(self, args, kwds, add_initializers_to)\u001b[0m\n\u001b[1;32m    758\u001b[0m     self._concrete_stateful_fn = (\n\u001b[1;32m    759\u001b[0m         self._stateful_fn._get_concrete_function_internal_garbage_collected(  # pylint: disable=protected-access\n\u001b[0;32m--> 760\u001b[0;31m             *args, **kwds))\n\u001b[0m\u001b[1;32m    761\u001b[0m \u001b[0;34m\u001b[0m\u001b[0m\n\u001b[1;32m    762\u001b[0m     \u001b[0;32mdef\u001b[0m \u001b[0minvalid_creator_scope\u001b[0m\u001b[0;34m(\u001b[0m\u001b[0;34m*\u001b[0m\u001b[0munused_args\u001b[0m\u001b[0;34m,\u001b[0m \u001b[0;34m**\u001b[0m\u001b[0munused_kwds\u001b[0m\u001b[0;34m)\u001b[0m\u001b[0;34m:\u001b[0m\u001b[0;34m\u001b[0m\u001b[0;34m\u001b[0m\u001b[0m\n",
            "\u001b[0;32m/usr/local/lib/python3.7/dist-packages/tensorflow/python/eager/function.py\u001b[0m in \u001b[0;36m_get_concrete_function_internal_garbage_collected\u001b[0;34m(self, *args, **kwargs)\u001b[0m\n\u001b[1;32m   3064\u001b[0m       \u001b[0margs\u001b[0m\u001b[0;34m,\u001b[0m \u001b[0mkwargs\u001b[0m \u001b[0;34m=\u001b[0m \u001b[0;32mNone\u001b[0m\u001b[0;34m,\u001b[0m \u001b[0;32mNone\u001b[0m\u001b[0;34m\u001b[0m\u001b[0;34m\u001b[0m\u001b[0m\n\u001b[1;32m   3065\u001b[0m     \u001b[0;32mwith\u001b[0m \u001b[0mself\u001b[0m\u001b[0;34m.\u001b[0m\u001b[0m_lock\u001b[0m\u001b[0;34m:\u001b[0m\u001b[0;34m\u001b[0m\u001b[0;34m\u001b[0m\u001b[0m\n\u001b[0;32m-> 3066\u001b[0;31m       \u001b[0mgraph_function\u001b[0m\u001b[0;34m,\u001b[0m \u001b[0m_\u001b[0m \u001b[0;34m=\u001b[0m \u001b[0mself\u001b[0m\u001b[0;34m.\u001b[0m\u001b[0m_maybe_define_function\u001b[0m\u001b[0;34m(\u001b[0m\u001b[0margs\u001b[0m\u001b[0;34m,\u001b[0m \u001b[0mkwargs\u001b[0m\u001b[0;34m)\u001b[0m\u001b[0;34m\u001b[0m\u001b[0;34m\u001b[0m\u001b[0m\n\u001b[0m\u001b[1;32m   3067\u001b[0m     \u001b[0;32mreturn\u001b[0m \u001b[0mgraph_function\u001b[0m\u001b[0;34m\u001b[0m\u001b[0;34m\u001b[0m\u001b[0m\n\u001b[1;32m   3068\u001b[0m \u001b[0;34m\u001b[0m\u001b[0m\n",
            "\u001b[0;32m/usr/local/lib/python3.7/dist-packages/tensorflow/python/eager/function.py\u001b[0m in \u001b[0;36m_maybe_define_function\u001b[0;34m(self, args, kwargs)\u001b[0m\n\u001b[1;32m   3461\u001b[0m \u001b[0;34m\u001b[0m\u001b[0m\n\u001b[1;32m   3462\u001b[0m           \u001b[0mself\u001b[0m\u001b[0;34m.\u001b[0m\u001b[0m_function_cache\u001b[0m\u001b[0;34m.\u001b[0m\u001b[0mmissed\u001b[0m\u001b[0;34m.\u001b[0m\u001b[0madd\u001b[0m\u001b[0;34m(\u001b[0m\u001b[0mcall_context_key\u001b[0m\u001b[0;34m)\u001b[0m\u001b[0;34m\u001b[0m\u001b[0;34m\u001b[0m\u001b[0m\n\u001b[0;32m-> 3463\u001b[0;31m           \u001b[0mgraph_function\u001b[0m \u001b[0;34m=\u001b[0m \u001b[0mself\u001b[0m\u001b[0;34m.\u001b[0m\u001b[0m_create_graph_function\u001b[0m\u001b[0;34m(\u001b[0m\u001b[0margs\u001b[0m\u001b[0;34m,\u001b[0m \u001b[0mkwargs\u001b[0m\u001b[0;34m)\u001b[0m\u001b[0;34m\u001b[0m\u001b[0;34m\u001b[0m\u001b[0m\n\u001b[0m\u001b[1;32m   3464\u001b[0m           \u001b[0mself\u001b[0m\u001b[0;34m.\u001b[0m\u001b[0m_function_cache\u001b[0m\u001b[0;34m.\u001b[0m\u001b[0mprimary\u001b[0m\u001b[0;34m[\u001b[0m\u001b[0mcache_key\u001b[0m\u001b[0;34m]\u001b[0m \u001b[0;34m=\u001b[0m \u001b[0mgraph_function\u001b[0m\u001b[0;34m\u001b[0m\u001b[0;34m\u001b[0m\u001b[0m\n\u001b[1;32m   3465\u001b[0m \u001b[0;34m\u001b[0m\u001b[0m\n",
            "\u001b[0;32m/usr/local/lib/python3.7/dist-packages/tensorflow/python/eager/function.py\u001b[0m in \u001b[0;36m_create_graph_function\u001b[0;34m(self, args, kwargs, override_flat_arg_shapes)\u001b[0m\n\u001b[1;32m   3306\u001b[0m             \u001b[0marg_names\u001b[0m\u001b[0;34m=\u001b[0m\u001b[0marg_names\u001b[0m\u001b[0;34m,\u001b[0m\u001b[0;34m\u001b[0m\u001b[0;34m\u001b[0m\u001b[0m\n\u001b[1;32m   3307\u001b[0m             \u001b[0moverride_flat_arg_shapes\u001b[0m\u001b[0;34m=\u001b[0m\u001b[0moverride_flat_arg_shapes\u001b[0m\u001b[0;34m,\u001b[0m\u001b[0;34m\u001b[0m\u001b[0;34m\u001b[0m\u001b[0m\n\u001b[0;32m-> 3308\u001b[0;31m             capture_by_value=self._capture_by_value),\n\u001b[0m\u001b[1;32m   3309\u001b[0m         \u001b[0mself\u001b[0m\u001b[0;34m.\u001b[0m\u001b[0m_function_attributes\u001b[0m\u001b[0;34m,\u001b[0m\u001b[0;34m\u001b[0m\u001b[0;34m\u001b[0m\u001b[0m\n\u001b[1;32m   3310\u001b[0m         \u001b[0mfunction_spec\u001b[0m\u001b[0;34m=\u001b[0m\u001b[0mself\u001b[0m\u001b[0;34m.\u001b[0m\u001b[0mfunction_spec\u001b[0m\u001b[0;34m,\u001b[0m\u001b[0;34m\u001b[0m\u001b[0;34m\u001b[0m\u001b[0m\n",
            "\u001b[0;32m/usr/local/lib/python3.7/dist-packages/tensorflow/python/framework/func_graph.py\u001b[0m in \u001b[0;36mfunc_graph_from_py_func\u001b[0;34m(name, python_func, args, kwargs, signature, func_graph, autograph, autograph_options, add_control_dependencies, arg_names, op_return_value, collections, capture_by_value, override_flat_arg_shapes, acd_record_initial_resource_uses)\u001b[0m\n\u001b[1;32m   1005\u001b[0m         \u001b[0m_\u001b[0m\u001b[0;34m,\u001b[0m \u001b[0moriginal_func\u001b[0m \u001b[0;34m=\u001b[0m \u001b[0mtf_decorator\u001b[0m\u001b[0;34m.\u001b[0m\u001b[0munwrap\u001b[0m\u001b[0;34m(\u001b[0m\u001b[0mpython_func\u001b[0m\u001b[0;34m)\u001b[0m\u001b[0;34m\u001b[0m\u001b[0;34m\u001b[0m\u001b[0m\n\u001b[1;32m   1006\u001b[0m \u001b[0;34m\u001b[0m\u001b[0m\n\u001b[0;32m-> 1007\u001b[0;31m       \u001b[0mfunc_outputs\u001b[0m \u001b[0;34m=\u001b[0m \u001b[0mpython_func\u001b[0m\u001b[0;34m(\u001b[0m\u001b[0;34m*\u001b[0m\u001b[0mfunc_args\u001b[0m\u001b[0;34m,\u001b[0m \u001b[0;34m**\u001b[0m\u001b[0mfunc_kwargs\u001b[0m\u001b[0;34m)\u001b[0m\u001b[0;34m\u001b[0m\u001b[0;34m\u001b[0m\u001b[0m\n\u001b[0m\u001b[1;32m   1008\u001b[0m \u001b[0;34m\u001b[0m\u001b[0m\n\u001b[1;32m   1009\u001b[0m       \u001b[0;31m# invariant: `func_outputs` contains only Tensors, CompositeTensors,\u001b[0m\u001b[0;34m\u001b[0m\u001b[0;34m\u001b[0m\u001b[0;34m\u001b[0m\u001b[0m\n",
            "\u001b[0;32m/usr/local/lib/python3.7/dist-packages/tensorflow/python/eager/def_function.py\u001b[0m in \u001b[0;36mwrapped_fn\u001b[0;34m(*args, **kwds)\u001b[0m\n\u001b[1;32m    666\u001b[0m         \u001b[0;31m# the function a weak reference to itself to avoid a reference cycle.\u001b[0m\u001b[0;34m\u001b[0m\u001b[0;34m\u001b[0m\u001b[0;34m\u001b[0m\u001b[0m\n\u001b[1;32m    667\u001b[0m         \u001b[0;32mwith\u001b[0m \u001b[0mOptionalXlaContext\u001b[0m\u001b[0;34m(\u001b[0m\u001b[0mcompile_with_xla\u001b[0m\u001b[0;34m)\u001b[0m\u001b[0;34m:\u001b[0m\u001b[0;34m\u001b[0m\u001b[0;34m\u001b[0m\u001b[0m\n\u001b[0;32m--> 668\u001b[0;31m           \u001b[0mout\u001b[0m \u001b[0;34m=\u001b[0m \u001b[0mweak_wrapped_fn\u001b[0m\u001b[0;34m(\u001b[0m\u001b[0;34m)\u001b[0m\u001b[0;34m.\u001b[0m\u001b[0m__wrapped__\u001b[0m\u001b[0;34m(\u001b[0m\u001b[0;34m*\u001b[0m\u001b[0margs\u001b[0m\u001b[0;34m,\u001b[0m \u001b[0;34m**\u001b[0m\u001b[0mkwds\u001b[0m\u001b[0;34m)\u001b[0m\u001b[0;34m\u001b[0m\u001b[0;34m\u001b[0m\u001b[0m\n\u001b[0m\u001b[1;32m    669\u001b[0m         \u001b[0;32mreturn\u001b[0m \u001b[0mout\u001b[0m\u001b[0;34m\u001b[0m\u001b[0;34m\u001b[0m\u001b[0m\n\u001b[1;32m    670\u001b[0m \u001b[0;34m\u001b[0m\u001b[0m\n",
            "\u001b[0;32m/usr/local/lib/python3.7/dist-packages/tensorflow/python/framework/func_graph.py\u001b[0m in \u001b[0;36mwrapper\u001b[0;34m(*args, **kwargs)\u001b[0m\n\u001b[1;32m    992\u001b[0m           \u001b[0;32mexcept\u001b[0m \u001b[0mException\u001b[0m \u001b[0;32mas\u001b[0m \u001b[0me\u001b[0m\u001b[0;34m:\u001b[0m  \u001b[0;31m# pylint:disable=broad-except\u001b[0m\u001b[0;34m\u001b[0m\u001b[0;34m\u001b[0m\u001b[0m\n\u001b[1;32m    993\u001b[0m             \u001b[0;32mif\u001b[0m \u001b[0mhasattr\u001b[0m\u001b[0;34m(\u001b[0m\u001b[0me\u001b[0m\u001b[0;34m,\u001b[0m \u001b[0;34m\"ag_error_metadata\"\u001b[0m\u001b[0;34m)\u001b[0m\u001b[0;34m:\u001b[0m\u001b[0;34m\u001b[0m\u001b[0;34m\u001b[0m\u001b[0m\n\u001b[0;32m--> 994\u001b[0;31m               \u001b[0;32mraise\u001b[0m \u001b[0me\u001b[0m\u001b[0;34m.\u001b[0m\u001b[0mag_error_metadata\u001b[0m\u001b[0;34m.\u001b[0m\u001b[0mto_exception\u001b[0m\u001b[0;34m(\u001b[0m\u001b[0me\u001b[0m\u001b[0;34m)\u001b[0m\u001b[0;34m\u001b[0m\u001b[0;34m\u001b[0m\u001b[0m\n\u001b[0m\u001b[1;32m    995\u001b[0m             \u001b[0;32melse\u001b[0m\u001b[0;34m:\u001b[0m\u001b[0;34m\u001b[0m\u001b[0;34m\u001b[0m\u001b[0m\n\u001b[1;32m    996\u001b[0m               \u001b[0;32mraise\u001b[0m\u001b[0;34m\u001b[0m\u001b[0;34m\u001b[0m\u001b[0m\n",
            "\u001b[0;31mKeyError\u001b[0m: in user code:\n\n    /usr/local/lib/python3.7/dist-packages/keras/engine/training.py:853 train_function  *\n        return step_function(self, iterator)\n    /usr/local/lib/python3.7/dist-packages/keras/engine/training.py:842 step_function  **\n        outputs = model.distribute_strategy.run(run_step, args=(data,))\n    /usr/local/lib/python3.7/dist-packages/tensorflow/python/distribute/distribute_lib.py:1286 run\n        return self._extended.call_for_each_replica(fn, args=args, kwargs=kwargs)\n    /usr/local/lib/python3.7/dist-packages/tensorflow/python/distribute/distribute_lib.py:2849 call_for_each_replica\n        return self._call_for_each_replica(fn, args, kwargs)\n    /usr/local/lib/python3.7/dist-packages/tensorflow/python/distribute/distribute_lib.py:3632 _call_for_each_replica\n        return fn(*args, **kwargs)\n    /usr/local/lib/python3.7/dist-packages/keras/engine/training.py:835 run_step  **\n        outputs = model.train_step(data)\n    /usr/local/lib/python3.7/dist-packages/tensorflow_recommenders/models/base.py:68 train_step\n        loss = self.compute_loss(inputs, training=True)\n    <ipython-input-204-7d6893f8d32d>:71 compute_loss\n        ratings = features.pop(\"user_rating\")\n\n    KeyError: 'user_rating'\n"
          ]
        }
      ]
    },
    {
      "cell_type": "code",
      "metadata": {
        "id": "q57LVolpguDy",
        "colab": {
          "base_uri": "https://localhost:8080/"
        },
        "outputId": "545b32a6-654d-4e59-c250-abb0af028a7a"
      },
      "source": [
        "metrics = userid_model.evaluate(cached_test, return_dict=True)\n",
        "print(f\"Retrieval top-100 accuracy: {metrics['factorized_top_k/top_100_categorical_accuracy']:.3f}.\")\n",
        "print(f\"Retrieval top-50 accuracy: {metrics['factorized_top_k/top_50_categorical_accuracy']:.3f}.\")\n",
        "print(f\"Retrieval top-10 accuracy: {metrics['factorized_top_k/top_10_categorical_accuracy']:.3f}.\")\n",
        "print(f\"Retrieval top-5 accuracy: {metrics['factorized_top_k/top_5_categorical_accuracy']:.3f}.\")\n",
        "print(f\"Retrieval top-1 accuracy: {metrics['factorized_top_k/top_1_categorical_accuracy']:.3f}.\")"
      ],
      "execution_count": null,
      "outputs": [
        {
          "output_type": "stream",
          "text": [
            "1/1 [==============================] - 0s 199ms/step - root_mean_squared_error: 0.5562 - factorized_top_k/top_1_categorical_accuracy: 0.6556 - factorized_top_k/top_5_categorical_accuracy: 0.6556 - factorized_top_k/top_10_categorical_accuracy: 0.6556 - factorized_top_k/top_50_categorical_accuracy: 0.6556 - factorized_top_k/top_100_categorical_accuracy: 0.6556 - loss: 1059.5035 - regularization_loss: 0.0000e+00 - total_loss: 1059.5035\n",
            "Retrieval top-100 accuracy: 0.656.\n",
            "Retrieval top-50 accuracy: 0.656.\n",
            "Retrieval top-10 accuracy: 0.656.\n",
            "Retrieval top-5 accuracy: 0.656.\n",
            "Retrieval top-1 accuracy: 0.656.\n"
          ],
          "name": "stdout"
        }
      ]
    },
    {
      "cell_type": "markdown",
      "metadata": {
        "id": "2_MSeb8RgAFk"
      },
      "source": [
        "# Define Cross Netwrok DNN model"
      ]
    },
    {
      "cell_type": "markdown",
      "metadata": {
        "id": "3lRrMYTJNjYO"
      },
      "source": [
        "# Fitting and evaluating"
      ]
    },
    {
      "cell_type": "code",
      "metadata": {
        "id": "2v4Uux4aRCtj"
      },
      "source": [
        "### Fitting and evaluating\n",
        "\n",
        "### we choose the dimensionality of the query and candicate representation.\n",
        "embedding_dimension = 32\n",
        "\n",
        "\n",
        "# Randomly shuffle data and split between train and test.\n",
        "tf.random.set_seed(42)\n",
        "shuffled = interactions.shuffle(100_000, seed=42, reshuffle_each_iteration=False)\n",
        "train_n = np.int(.8*len(shuffled))\n",
        "test_n = np.int(.2* len(shuffled))\n",
        "\n",
        "train = shuffled.take(train_n)\n",
        "test = shuffled.skip(train_n).take(test_n)\n",
        "\n",
        "cached_train = train.shuffle(100_000).batch(8192).cache()\n",
        "cached_test = test.batch(4096).cache()"
      ],
      "execution_count": null,
      "outputs": []
    },
    {
      "cell_type": "code",
      "metadata": {
        "id": "vBsjlZlxwVIS"
      },
      "source": [
        "model = SimpleCrossDNNModel([32], rating_weight=0.01, retrieval_weight=0.99,\n",
        "                      projection_dim=None)\n",
        "model.compile(optimizer=tf.keras.optimizers.Adagrad(0.1))\n",
        "two_layer_history = model.fit(cached_train, validation_data=cached_test,\n",
        "        validation_freq=5, epochs=50)"
      ],
      "execution_count": null,
      "outputs": []
    },
    {
      "cell_type": "code",
      "metadata": {
        "id": "XOfDMi5rhjG5",
        "colab": {
          "base_uri": "https://localhost:8080/",
          "height": 238
        },
        "outputId": "76085a5b-9289-476f-dde6-75b067cf117e"
      },
      "source": [
        "num_validation_runs = len(one_layer_history.history[\"val_factorized_top_k/top_100_categorical_accuracy\"])\n",
        "epochs = [(x + 1)* 5 for x in range(num_validation_runs)]\n",
        "plt.plot(epochs, one_layer_history.history[\"val_factorized_top_k/top_100_categorical_accuracy\"], label=\"1 layer\")\n",
        "plt.plot(epochs, two_layer_history.history[\"val_factorized_top_k/top_100_categorical_accuracy\"], label=\"2 layers\")\n",
        "plt.title(\"Accuracy vs epoch\")\n",
        "plt.xlabel(\"epoch\")\n",
        "plt.ylabel(\"Top-100 accuracy\");\n",
        "plt.legend()"
      ],
      "execution_count": null,
      "outputs": [
        {
          "output_type": "error",
          "ename": "NameError",
          "evalue": "ignored",
          "traceback": [
            "\u001b[0;31m---------------------------------------------------------------------------\u001b[0m",
            "\u001b[0;31mNameError\u001b[0m                                 Traceback (most recent call last)",
            "\u001b[0;32m<ipython-input-203-35a63e2c86ba>\u001b[0m in \u001b[0;36m<module>\u001b[0;34m()\u001b[0m\n\u001b[0;32m----> 1\u001b[0;31m \u001b[0mnum_validation_runs\u001b[0m \u001b[0;34m=\u001b[0m \u001b[0mlen\u001b[0m\u001b[0;34m(\u001b[0m\u001b[0mone_layer_history\u001b[0m\u001b[0;34m.\u001b[0m\u001b[0mhistory\u001b[0m\u001b[0;34m[\u001b[0m\u001b[0;34m\"val_factorized_top_k/top_100_categorical_accuracy\"\u001b[0m\u001b[0;34m]\u001b[0m\u001b[0;34m)\u001b[0m\u001b[0;34m\u001b[0m\u001b[0;34m\u001b[0m\u001b[0m\n\u001b[0m\u001b[1;32m      2\u001b[0m \u001b[0mepochs\u001b[0m \u001b[0;34m=\u001b[0m \u001b[0;34m[\u001b[0m\u001b[0;34m(\u001b[0m\u001b[0mx\u001b[0m \u001b[0;34m+\u001b[0m \u001b[0;36m1\u001b[0m\u001b[0;34m)\u001b[0m\u001b[0;34m*\u001b[0m \u001b[0;36m5\u001b[0m \u001b[0;32mfor\u001b[0m \u001b[0mx\u001b[0m \u001b[0;32min\u001b[0m \u001b[0mrange\u001b[0m\u001b[0;34m(\u001b[0m\u001b[0mnum_validation_runs\u001b[0m\u001b[0;34m)\u001b[0m\u001b[0;34m]\u001b[0m\u001b[0;34m\u001b[0m\u001b[0;34m\u001b[0m\u001b[0m\n\u001b[1;32m      3\u001b[0m \u001b[0mplt\u001b[0m\u001b[0;34m.\u001b[0m\u001b[0mplot\u001b[0m\u001b[0;34m(\u001b[0m\u001b[0mepochs\u001b[0m\u001b[0;34m,\u001b[0m \u001b[0mone_layer_history\u001b[0m\u001b[0;34m.\u001b[0m\u001b[0mhistory\u001b[0m\u001b[0;34m[\u001b[0m\u001b[0;34m\"val_factorized_top_k/top_100_categorical_accuracy\"\u001b[0m\u001b[0;34m]\u001b[0m\u001b[0;34m,\u001b[0m \u001b[0mlabel\u001b[0m\u001b[0;34m=\u001b[0m\u001b[0;34m\"1 layer\"\u001b[0m\u001b[0;34m)\u001b[0m\u001b[0;34m\u001b[0m\u001b[0;34m\u001b[0m\u001b[0m\n\u001b[1;32m      4\u001b[0m \u001b[0mplt\u001b[0m\u001b[0;34m.\u001b[0m\u001b[0mplot\u001b[0m\u001b[0;34m(\u001b[0m\u001b[0mepochs\u001b[0m\u001b[0;34m,\u001b[0m \u001b[0mtwo_layer_history\u001b[0m\u001b[0;34m.\u001b[0m\u001b[0mhistory\u001b[0m\u001b[0;34m[\u001b[0m\u001b[0;34m\"val_factorized_top_k/top_100_categorical_accuracy\"\u001b[0m\u001b[0;34m]\u001b[0m\u001b[0;34m,\u001b[0m \u001b[0mlabel\u001b[0m\u001b[0;34m=\u001b[0m\u001b[0;34m\"2 layers\"\u001b[0m\u001b[0;34m)\u001b[0m\u001b[0;34m\u001b[0m\u001b[0;34m\u001b[0m\u001b[0m\n\u001b[1;32m      5\u001b[0m \u001b[0mplt\u001b[0m\u001b[0;34m.\u001b[0m\u001b[0mtitle\u001b[0m\u001b[0;34m(\u001b[0m\u001b[0;34m\"Accuracy vs epoch\"\u001b[0m\u001b[0;34m)\u001b[0m\u001b[0;34m\u001b[0m\u001b[0;34m\u001b[0m\u001b[0m\n",
            "\u001b[0;31mNameError\u001b[0m: name 'one_layer_history' is not defined"
          ]
        }
      ]
    },
    {
      "cell_type": "markdown",
      "metadata": {
        "id": "KVJf_i3LsYcK"
      },
      "source": [
        "# Og DCNN"
      ]
    },
    {
      "cell_type": "markdown",
      "metadata": {
        "id": "LZ25S4M-lcCK"
      },
      "source": [
        "# Evaluate Brute force vs Scann ranking"
      ]
    },
    {
      "cell_type": "markdown",
      "metadata": {
        "id": "mSwcyBA7w_kN"
      },
      "source": [
        "Start with combined"
      ]
    },
    {
      "cell_type": "code",
      "metadata": {
        "colab": {
          "base_uri": "https://localhost:8080/"
        },
        "id": "mfokB_mqxL5E",
        "outputId": "8967c060-07a2-42fe-8a81-cef63bce79a5"
      },
      "source": [
        "# instantiate SCANN model\n",
        "scann = tfrs.layers.factorized_top_k.ScaNN(model.query_model)\n",
        "scann.index(interactions.batch(1024).map(model.candidate_model), interactions.batch(1024).map(lambda x: x['product_id']))\n",
        "for row in interactions.batch(1).take(1):\n",
        "    print(f\"Best SCANN recommendations: {scann(row)[1].numpy()[:, :3].tolist()}\")\n"
      ],
      "execution_count": null,
      "outputs": [
        {
          "output_type": "stream",
          "text": [
            "WARNING:tensorflow:Layers in a Sequential model should only have a single input tensor, but we receive a <class 'dict'> input: {'user_id': <tf.Tensor 'args_5:0' shape=(None,) dtype=string>, 'user_rating': <tf.Tensor 'args_6:0' shape=(None,) dtype=int64>, 'product_id': <tf.Tensor 'args_3:0' shape=(None,) dtype=string>, 'category': <tf.Tensor 'args_1:0' shape=(None,) dtype=string>, 'timestamp': <tf.Tensor 'candidate_model_16/Cast:0' shape=(None,) dtype=float32>, 'article': <tf.Tensor 'args_0:0' shape=(None,) dtype=string>, 'length': <tf.Tensor 'args_2:0' shape=(None,) dtype=string>, 'waistRiseLevels': <tf.Tensor 'args_7:0' shape=(None,) dtype=string>}\n",
            "Consider rewriting this model with the Functional API.\n"
          ],
          "name": "stdout"
        },
        {
          "output_type": "stream",
          "text": [
            "WARNING:tensorflow:Layers in a Sequential model should only have a single input tensor, but we receive a <class 'dict'> input: {'user_id': <tf.Tensor 'args_5:0' shape=(None,) dtype=string>, 'user_rating': <tf.Tensor 'args_6:0' shape=(None,) dtype=int64>, 'product_id': <tf.Tensor 'args_3:0' shape=(None,) dtype=string>, 'category': <tf.Tensor 'args_1:0' shape=(None,) dtype=string>, 'timestamp': <tf.Tensor 'candidate_model_16/Cast:0' shape=(None,) dtype=float32>, 'article': <tf.Tensor 'args_0:0' shape=(None,) dtype=string>, 'length': <tf.Tensor 'args_2:0' shape=(None,) dtype=string>, 'waistRiseLevels': <tf.Tensor 'args_7:0' shape=(None,) dtype=string>}\n",
            "Consider rewriting this model with the Functional API.\n"
          ],
          "name": "stderr"
        },
        {
          "output_type": "stream",
          "text": [
            "WARNING:tensorflow:Layers in a Sequential model should only have a single input tensor, but we receive a <class 'dict'> input: {'user_id': <tf.Tensor 'args_5:0' shape=(None,) dtype=string>, 'user_rating': <tf.Tensor 'args_6:0' shape=(None,) dtype=int64>, 'product_id': <tf.Tensor 'args_3:0' shape=(None,) dtype=string>, 'category': <tf.Tensor 'args_1:0' shape=(None,) dtype=string>, 'timestamp': <tf.Tensor 'candidate_model_16/Cast:0' shape=(None,) dtype=float32>, 'article': <tf.Tensor 'args_0:0' shape=(None,) dtype=string>, 'length': <tf.Tensor 'args_2:0' shape=(None,) dtype=string>, 'waistRiseLevels': <tf.Tensor 'args_7:0' shape=(None,) dtype=string>}\n",
            "Consider rewriting this model with the Functional API.\n"
          ],
          "name": "stdout"
        },
        {
          "output_type": "stream",
          "text": [
            "/usr/local/lib/python3.7/dist-packages/tensorflow/python/keras/engine/functional.py:591: UserWarning: Input dict contained keys ['user_id', 'user_rating', 'product_id', 'category', 'timestamp', 'article', 'length', 'waistRiseLevels'] which did not match any model input. They will be ignored by the model.\n",
            "  [n for n in tensors.keys() if n not in ref_input_names])\n",
            "WARNING:tensorflow:Layers in a Sequential model should only have a single input tensor, but we receive a <class 'dict'> input: {'user_id': <tf.Tensor 'args_5:0' shape=(None,) dtype=string>, 'user_rating': <tf.Tensor 'args_6:0' shape=(None,) dtype=int64>, 'product_id': <tf.Tensor 'args_3:0' shape=(None,) dtype=string>, 'category': <tf.Tensor 'args_1:0' shape=(None,) dtype=string>, 'timestamp': <tf.Tensor 'candidate_model_16/Cast:0' shape=(None,) dtype=float32>, 'article': <tf.Tensor 'args_0:0' shape=(None,) dtype=string>, 'length': <tf.Tensor 'args_2:0' shape=(None,) dtype=string>, 'waistRiseLevels': <tf.Tensor 'args_7:0' shape=(None,) dtype=string>}\n",
            "Consider rewriting this model with the Functional API.\n"
          ],
          "name": "stderr"
        },
        {
          "output_type": "stream",
          "text": [
            "Best SCANN recommendations: [[b'5e92185278f479914f171998', b'5e92188b78f479914f173de0', b'5e92188b78f479914f173e5d']]\n"
          ],
          "name": "stdout"
        }
      ]
    },
    {
      "cell_type": "code",
      "metadata": {
        "colab": {
          "base_uri": "https://localhost:8080/"
        },
        "id": "046aQvlzzQfH",
        "outputId": "7fc14571-5dbc-45e8-f230-336529ea70e5"
      },
      "source": [
        "# instantiate SCANN model\n",
        "#scann = tfrs.layers.factorized_top_k.ScaNN(model.query_model)\n",
        "#scann.index(items.batch(1024).map(model.candidate_model), identifiers=items)\n",
        "#for row in interactions.batch(1).take(1):\n",
        "    #print(f\"Best SCANN recommendations: {scann(row)[1].numpy()[:, :3].tolist()}\")\n"
      ],
      "execution_count": null,
      "outputs": [
        {
          "output_type": "stream",
          "text": [
            "Best SCANN recommendations: [[b'Tensor(\"args_0:0\", shape=(), dtype=string)', b'Tensor(\"args_0:0\", shape=(), dtype=string)', b'Tensor(\"args_0:0\", shape=(), dtype=string)']]\n"
          ],
          "name": "stdout"
        }
      ]
    },
    {
      "cell_type": "code",
      "metadata": {
        "colab": {
          "base_uri": "https://localhost:8080/"
        },
        "id": "r4p8V_33TtkZ",
        "outputId": "12de195e-1e17-4457-d378-7f56d78f95e1"
      },
      "source": [
        "# instantiate SCANN model\n",
        "# uses only training set to be more consitent\n",
        "scann1 = tfrs.layers.factorized_top_k.ScaNN(model.query_model)\n",
        "scann1.index(train.batch(1024).map(model.candidate_model), train.batch(1024).map(lambda x: x['product_id']))\n",
        "for row in interactions.batch(1).take(1):\n",
        "    print(f\"Best SCANN recommendations: {scann1(row)[1].numpy()[:, :3].tolist()}\")\n"
      ],
      "execution_count": null,
      "outputs": [
        {
          "output_type": "stream",
          "text": [
            "WARNING:tensorflow:Layers in a Sequential model should only have a single input tensor, but we receive a <class 'dict'> input: {'user_id': <tf.Tensor 'args_5:0' shape=(None,) dtype=string>, 'user_rating': <tf.Tensor 'args_6:0' shape=(None,) dtype=int64>, 'product_id': <tf.Tensor 'args_3:0' shape=(None,) dtype=string>, 'category': <tf.Tensor 'args_1:0' shape=(None,) dtype=string>, 'timestamp': <tf.Tensor 'candidate_model_16/Cast:0' shape=(None,) dtype=float32>, 'article': <tf.Tensor 'args_0:0' shape=(None,) dtype=string>, 'length': <tf.Tensor 'args_2:0' shape=(None,) dtype=string>, 'waistRiseLevels': <tf.Tensor 'args_7:0' shape=(None,) dtype=string>}\n",
            "Consider rewriting this model with the Functional API.\n"
          ],
          "name": "stdout"
        },
        {
          "output_type": "stream",
          "text": [
            "WARNING:tensorflow:Layers in a Sequential model should only have a single input tensor, but we receive a <class 'dict'> input: {'user_id': <tf.Tensor 'args_5:0' shape=(None,) dtype=string>, 'user_rating': <tf.Tensor 'args_6:0' shape=(None,) dtype=int64>, 'product_id': <tf.Tensor 'args_3:0' shape=(None,) dtype=string>, 'category': <tf.Tensor 'args_1:0' shape=(None,) dtype=string>, 'timestamp': <tf.Tensor 'candidate_model_16/Cast:0' shape=(None,) dtype=float32>, 'article': <tf.Tensor 'args_0:0' shape=(None,) dtype=string>, 'length': <tf.Tensor 'args_2:0' shape=(None,) dtype=string>, 'waistRiseLevels': <tf.Tensor 'args_7:0' shape=(None,) dtype=string>}\n",
            "Consider rewriting this model with the Functional API.\n"
          ],
          "name": "stderr"
        },
        {
          "output_type": "stream",
          "text": [
            "WARNING:tensorflow:Layers in a Sequential model should only have a single input tensor, but we receive a <class 'dict'> input: {'user_id': <tf.Tensor 'args_5:0' shape=(None,) dtype=string>, 'user_rating': <tf.Tensor 'args_6:0' shape=(None,) dtype=int64>, 'product_id': <tf.Tensor 'args_3:0' shape=(None,) dtype=string>, 'category': <tf.Tensor 'args_1:0' shape=(None,) dtype=string>, 'timestamp': <tf.Tensor 'candidate_model_16/Cast:0' shape=(None,) dtype=float32>, 'article': <tf.Tensor 'args_0:0' shape=(None,) dtype=string>, 'length': <tf.Tensor 'args_2:0' shape=(None,) dtype=string>, 'waistRiseLevels': <tf.Tensor 'args_7:0' shape=(None,) dtype=string>}\n",
            "Consider rewriting this model with the Functional API.\n"
          ],
          "name": "stdout"
        },
        {
          "output_type": "stream",
          "text": [
            "/usr/local/lib/python3.7/dist-packages/tensorflow/python/keras/engine/functional.py:591: UserWarning: Input dict contained keys ['user_id', 'user_rating', 'product_id', 'category', 'timestamp', 'article', 'length', 'waistRiseLevels'] which did not match any model input. They will be ignored by the model.\n",
            "  [n for n in tensors.keys() if n not in ref_input_names])\n",
            "WARNING:tensorflow:Layers in a Sequential model should only have a single input tensor, but we receive a <class 'dict'> input: {'user_id': <tf.Tensor 'args_5:0' shape=(None,) dtype=string>, 'user_rating': <tf.Tensor 'args_6:0' shape=(None,) dtype=int64>, 'product_id': <tf.Tensor 'args_3:0' shape=(None,) dtype=string>, 'category': <tf.Tensor 'args_1:0' shape=(None,) dtype=string>, 'timestamp': <tf.Tensor 'candidate_model_16/Cast:0' shape=(None,) dtype=float32>, 'article': <tf.Tensor 'args_0:0' shape=(None,) dtype=string>, 'length': <tf.Tensor 'args_2:0' shape=(None,) dtype=string>, 'waistRiseLevels': <tf.Tensor 'args_7:0' shape=(None,) dtype=string>}\n",
            "Consider rewriting this model with the Functional API.\n"
          ],
          "name": "stderr"
        },
        {
          "output_type": "stream",
          "text": [
            "Best SCANN recommendations: [[b'5e92133978f479914f162ad8', b'5e921f8a78f479914f18ff42', b'5e92135a78f479914f163fd2']]\n"
          ],
          "name": "stdout"
        }
      ]
    },
    {
      "cell_type": "code",
      "metadata": {
        "id": "QMQ1z99WCHB5",
        "colab": {
          "base_uri": "https://localhost:8080/"
        },
        "outputId": "e8b680b7-a006-41dd-b42e-ccacf604ba7c"
      },
      "source": [
        "# This defined version based on user model so only user id is input\n",
        "user_scann = tfrs.layers.factorized_top_k.ScaNN(userid_model.user_model , num_reordering_candidates=1000)\n",
        "user_scann.index(items.batch(1024).map(userid_model.candidate_model), identifiers=items)\n",
        "for row in interactions.batch(1).take(1):\n",
        "    print(f\"Best SCANN recommendations: {user_scann(row)[1].numpy()[:, :3].tolist()}\")"
      ],
      "execution_count": null,
      "outputs": [
        {
          "output_type": "stream",
          "text": [
            "WARNING:tensorflow:Layers in a Sequential model should only have a single input tensor, but we receive a <class 'dict'> input: {'user_id': <tf.Tensor: shape=(1,), dtype=string, numpy=array([b'5e7d1160875cf9001692d4c5'], dtype=object)>, 'user_rating': <tf.Tensor: shape=(1,), dtype=float32, numpy=array([0.], dtype=float32)>, 'product_id': <tf.Tensor: shape=(1,), dtype=string, numpy=array([b'5e92185278f479914f171998'], dtype=object)>, 'category': <tf.Tensor: shape=(1,), dtype=string, numpy=array([b'tops'], dtype=object)>, 'timestamp': <tf.Tensor: shape=(1,), dtype=float32, numpy=array([1.58938e+12], dtype=float32)>, 'article': <tf.Tensor: shape=(1,), dtype=string, numpy=array([b't-shirts'], dtype=object)>, 'length': <tf.Tensor: shape=(1,), dtype=string, numpy=array([b'regular'], dtype=object)>, 'waistRiseLevels': <tf.Tensor: shape=(1,), dtype=string, numpy=array([b'n/a'], dtype=object)>}\n",
            "Consider rewriting this model with the Functional API.\n"
          ],
          "name": "stdout"
        },
        {
          "output_type": "stream",
          "text": [
            "WARNING:tensorflow:Layers in a Sequential model should only have a single input tensor, but we receive a <class 'dict'> input: {'user_id': <tf.Tensor: shape=(1,), dtype=string, numpy=array([b'5e7d1160875cf9001692d4c5'], dtype=object)>, 'user_rating': <tf.Tensor: shape=(1,), dtype=float32, numpy=array([0.], dtype=float32)>, 'product_id': <tf.Tensor: shape=(1,), dtype=string, numpy=array([b'5e92185278f479914f171998'], dtype=object)>, 'category': <tf.Tensor: shape=(1,), dtype=string, numpy=array([b'tops'], dtype=object)>, 'timestamp': <tf.Tensor: shape=(1,), dtype=float32, numpy=array([1.58938e+12], dtype=float32)>, 'article': <tf.Tensor: shape=(1,), dtype=string, numpy=array([b't-shirts'], dtype=object)>, 'length': <tf.Tensor: shape=(1,), dtype=string, numpy=array([b'regular'], dtype=object)>, 'waistRiseLevels': <tf.Tensor: shape=(1,), dtype=string, numpy=array([b'n/a'], dtype=object)>}\n",
            "Consider rewriting this model with the Functional API.\n"
          ],
          "name": "stderr"
        },
        {
          "output_type": "stream",
          "text": [
            "Best SCANN recommendations: [[b'Tensor(\"args_0:0\", shape=(), dtype=string)', b'Tensor(\"args_0:0\", shape=(), dtype=string)', b'Tensor(\"args_0:0\", shape=(), dtype=string)']]\n"
          ],
          "name": "stdout"
        },
        {
          "output_type": "stream",
          "text": [
            "/usr/local/lib/python3.7/dist-packages/tensorflow/python/keras/engine/functional.py:591: UserWarning: Input dict contained keys ['user_id', 'user_rating', 'product_id', 'category', 'timestamp', 'article', 'length', 'waistRiseLevels'] which did not match any model input. They will be ignored by the model.\n",
            "  [n for n in tensors.keys() if n not in ref_input_names])\n"
          ],
          "name": "stderr"
        }
      ]
    },
    {
      "cell_type": "code",
      "metadata": {
        "colab": {
          "base_uri": "https://localhost:8080/"
        },
        "id": "D9G7C70shFtv",
        "outputId": "282567b0-5e49-4fed-b6d3-0dfb9dea9319"
      },
      "source": [
        "# This defined version based on user model so only user id is input\n",
        "user_scann2 = tfrs.layers.factorized_top_k.ScaNN(userid_model.user_model , num_reordering_candidates=1000)\n",
        "user_scann2.index(train.batch(1024).map(model.candidate_model), train.batch(1024).map(lambda x: x['product_id']))\n",
        "for row in interactions.batch(1).take(1):\n",
        "    print(f\"Best SCANN recommendations: {user_scann2(row)[1].numpy()[:, :3].tolist()}\")"
      ],
      "execution_count": null,
      "outputs": [
        {
          "output_type": "stream",
          "text": [
            "WARNING:tensorflow:Layers in a Sequential model should only have a single input tensor, but we receive a <class 'dict'> input: {'user_id': <tf.Tensor 'args_5:0' shape=(None,) dtype=string>, 'user_rating': <tf.Tensor 'candidate_model_18/Cast_1:0' shape=(None,) dtype=float32>, 'product_id': <tf.Tensor 'args_3:0' shape=(None,) dtype=string>, 'category': <tf.Tensor 'args_1:0' shape=(None,) dtype=string>, 'timestamp': <tf.Tensor 'candidate_model_18/Cast:0' shape=(None,) dtype=float32>, 'article': <tf.Tensor 'args_0:0' shape=(None,) dtype=string>, 'length': <tf.Tensor 'args_2:0' shape=(None,) dtype=string>, 'waistRiseLevels': <tf.Tensor 'args_7:0' shape=(None,) dtype=string>}\n",
            "Consider rewriting this model with the Functional API.\n"
          ],
          "name": "stdout"
        },
        {
          "output_type": "stream",
          "text": [
            "WARNING:tensorflow:Layers in a Sequential model should only have a single input tensor, but we receive a <class 'dict'> input: {'user_id': <tf.Tensor 'args_5:0' shape=(None,) dtype=string>, 'user_rating': <tf.Tensor 'candidate_model_18/Cast_1:0' shape=(None,) dtype=float32>, 'product_id': <tf.Tensor 'args_3:0' shape=(None,) dtype=string>, 'category': <tf.Tensor 'args_1:0' shape=(None,) dtype=string>, 'timestamp': <tf.Tensor 'candidate_model_18/Cast:0' shape=(None,) dtype=float32>, 'article': <tf.Tensor 'args_0:0' shape=(None,) dtype=string>, 'length': <tf.Tensor 'args_2:0' shape=(None,) dtype=string>, 'waistRiseLevels': <tf.Tensor 'args_7:0' shape=(None,) dtype=string>}\n",
            "Consider rewriting this model with the Functional API.\n"
          ],
          "name": "stderr"
        },
        {
          "output_type": "stream",
          "text": [
            "WARNING:tensorflow:Layers in a Sequential model should only have a single input tensor, but we receive a <class 'dict'> input: {'user_id': <tf.Tensor 'args_5:0' shape=(None,) dtype=string>, 'user_rating': <tf.Tensor 'candidate_model_18/Cast_1:0' shape=(None,) dtype=float32>, 'product_id': <tf.Tensor 'args_3:0' shape=(None,) dtype=string>, 'category': <tf.Tensor 'args_1:0' shape=(None,) dtype=string>, 'timestamp': <tf.Tensor 'candidate_model_18/Cast:0' shape=(None,) dtype=float32>, 'article': <tf.Tensor 'args_0:0' shape=(None,) dtype=string>, 'length': <tf.Tensor 'args_2:0' shape=(None,) dtype=string>, 'waistRiseLevels': <tf.Tensor 'args_7:0' shape=(None,) dtype=string>}\n",
            "Consider rewriting this model with the Functional API.\n"
          ],
          "name": "stdout"
        },
        {
          "output_type": "stream",
          "text": [
            "/usr/local/lib/python3.7/dist-packages/tensorflow/python/keras/engine/functional.py:591: UserWarning: Input dict contained keys ['user_id', 'user_rating', 'product_id', 'category', 'timestamp', 'article', 'length', 'waistRiseLevels'] which did not match any model input. They will be ignored by the model.\n",
            "  [n for n in tensors.keys() if n not in ref_input_names])\n",
            "WARNING:tensorflow:Layers in a Sequential model should only have a single input tensor, but we receive a <class 'dict'> input: {'user_id': <tf.Tensor 'args_5:0' shape=(None,) dtype=string>, 'user_rating': <tf.Tensor 'candidate_model_18/Cast_1:0' shape=(None,) dtype=float32>, 'product_id': <tf.Tensor 'args_3:0' shape=(None,) dtype=string>, 'category': <tf.Tensor 'args_1:0' shape=(None,) dtype=string>, 'timestamp': <tf.Tensor 'candidate_model_18/Cast:0' shape=(None,) dtype=float32>, 'article': <tf.Tensor 'args_0:0' shape=(None,) dtype=string>, 'length': <tf.Tensor 'args_2:0' shape=(None,) dtype=string>, 'waistRiseLevels': <tf.Tensor 'args_7:0' shape=(None,) dtype=string>}\n",
            "Consider rewriting this model with the Functional API.\n"
          ],
          "name": "stderr"
        },
        {
          "output_type": "stream",
          "text": [
            "WARNING:tensorflow:Layers in a Sequential model should only have a single input tensor, but we receive a <class 'dict'> input: {'user_id': <tf.Tensor: shape=(1,), dtype=string, numpy=array([b'5e7d1160875cf9001692d4c5'], dtype=object)>, 'user_rating': <tf.Tensor: shape=(1,), dtype=float32, numpy=array([0.], dtype=float32)>, 'product_id': <tf.Tensor: shape=(1,), dtype=string, numpy=array([b'5e92185278f479914f171998'], dtype=object)>, 'category': <tf.Tensor: shape=(1,), dtype=string, numpy=array([b'tops'], dtype=object)>, 'timestamp': <tf.Tensor: shape=(1,), dtype=float32, numpy=array([1.58938e+12], dtype=float32)>, 'article': <tf.Tensor: shape=(1,), dtype=string, numpy=array([b't-shirts'], dtype=object)>, 'length': <tf.Tensor: shape=(1,), dtype=string, numpy=array([b'regular'], dtype=object)>, 'waistRiseLevels': <tf.Tensor: shape=(1,), dtype=string, numpy=array([b'n/a'], dtype=object)>}\n",
            "Consider rewriting this model with the Functional API.\n"
          ],
          "name": "stdout"
        },
        {
          "output_type": "stream",
          "text": [
            "WARNING:tensorflow:Layers in a Sequential model should only have a single input tensor, but we receive a <class 'dict'> input: {'user_id': <tf.Tensor: shape=(1,), dtype=string, numpy=array([b'5e7d1160875cf9001692d4c5'], dtype=object)>, 'user_rating': <tf.Tensor: shape=(1,), dtype=float32, numpy=array([0.], dtype=float32)>, 'product_id': <tf.Tensor: shape=(1,), dtype=string, numpy=array([b'5e92185278f479914f171998'], dtype=object)>, 'category': <tf.Tensor: shape=(1,), dtype=string, numpy=array([b'tops'], dtype=object)>, 'timestamp': <tf.Tensor: shape=(1,), dtype=float32, numpy=array([1.58938e+12], dtype=float32)>, 'article': <tf.Tensor: shape=(1,), dtype=string, numpy=array([b't-shirts'], dtype=object)>, 'length': <tf.Tensor: shape=(1,), dtype=string, numpy=array([b'regular'], dtype=object)>, 'waistRiseLevels': <tf.Tensor: shape=(1,), dtype=string, numpy=array([b'n/a'], dtype=object)>}\n",
            "Consider rewriting this model with the Functional API.\n"
          ],
          "name": "stderr"
        },
        {
          "output_type": "stream",
          "text": [
            "Best SCANN recommendations: [[b'5e92184a78f479914f1714a6', b'5e921d0f78f479914f1821f9', b'5e92136078f479914f164359']]\n"
          ],
          "name": "stdout"
        }
      ]
    },
    {
      "cell_type": "markdown",
      "metadata": {
        "id": "12WJAIzfmCpV"
      },
      "source": [
        "SCANN retrieves prettyu much the same but musch faster, better to proceed there"
      ]
    },
    {
      "cell_type": "markdown",
      "metadata": {
        "id": "Az5BDEomjN2q"
      },
      "source": [
        "# Exporting to KERAs for TF JS deployment"
      ]
    },
    {
      "cell_type": "code",
      "metadata": {
        "colab": {
          "base_uri": "https://localhost:8080/"
        },
        "id": "7hf5zw0Dy60C",
        "outputId": "e90cbc82-5128-4ddd-ec36-47a77488f789"
      },
      "source": [
        "# this shows how this retrieves top reccomendations based on user id\n",
        "\n",
        "user1 = b'5efe5a6746e7a90017257050'\n",
        "user2 = b'5ebb281fc880800017471b94'\n",
        "# Need to call it to set the shapes.\n",
        "# so right now this seems to be only working with user model, fine for deployment but needs to be fixed to accept all queries\n",
        "_ , reccs = user_scann2(tf.constant([\"user2\"]))\n",
        "print(f\"Top recommendations for user2: {reccs[0][:3]}\")\n",
        "_ , reccs = user_scann2(tf.constant([user1]))\n",
        "print(f\"Top recommendations for user1: {reccs[0][:3]}\")"
      ],
      "execution_count": null,
      "outputs": [
        {
          "output_type": "stream",
          "text": [
            "Top recommendations for user2: [b'5e92133978f479914f162ad8' b'5e921f8a78f479914f18ff42'\n",
            " b'5e92135a78f479914f163fd2']\n",
            "Top recommendations for user1: [b'5e92155d78f479914f16a751' b'5e92133978f479914f162ad8'\n",
            " b'5e921f8a78f479914f18ff42']\n"
          ],
          "name": "stdout"
        }
      ]
    },
    {
      "cell_type": "code",
      "metadata": {
        "id": "3H6SizMNEADU"
      },
      "source": [
        "# trying new query format to test reccomendations\n",
        "master_df = master_df.rename(columns = { 'TIMESTAMP': 'timestamp'})\n",
        "test_query = dict(master_df[['user_id',\n",
        "                            'product_id',\n",
        "                            'timestamp',\n",
        "                            'category' ,\n",
        "                            'article', 'length', 'waistRiseLevels'\n",
        "                            ]].iloc[3].map(lambda x:tf.expand_dims(x, axis = 0)))"
      ],
      "execution_count": null,
      "outputs": []
    },
    {
      "cell_type": "code",
      "metadata": {
        "id": "7gcK9OVPUyz7"
      },
      "source": [
        "test_query2 = dict(master_df[['user_id',\n",
        "                            'product_id',\n",
        "                            'timestamp',\n",
        "                            'category' ,\n",
        "                            'article', 'length', 'waistRiseLevels'\n",
        "                            ]].iloc[100].map(lambda x:tf.expand_dims(x, axis = 0)))"
      ],
      "execution_count": null,
      "outputs": []
    },
    {
      "cell_type": "code",
      "metadata": {
        "colab": {
          "base_uri": "https://localhost:8080/"
        },
        "id": "d4mMlYxIFGgU",
        "outputId": "e3a6629b-12b8-4109-b398-79f8a13441f2"
      },
      "source": [
        "# this is proper way to formulate test query\n",
        "# shows how to get reccomendations based on both user id and queries that are relevant to taxonomy DIRECTLY\n",
        "_ , reccs = scann(test_query2, 100)\n",
        "print(f\"Top recommendations for user2: {reccs[0][:50]}\")"
      ],
      "execution_count": null,
      "outputs": [
        {
          "output_type": "stream",
          "text": [
            "Top recommendations for user2: [b'5e92185278f479914f171998' b'5e92188b78f479914f173de0'\n",
            " b'5e92188b78f479914f173e5d' b'5e92195078f479914f1756e8'\n",
            " b'5e92196578f479914f1766c2' b'5e92196978f479914f1769d6'\n",
            " b'5e92197278f479914f17710b' b'5e92197478f479914f17728a'\n",
            " b'5e921b9e78f479914f17cdf4' b'5e921ba078f479914f17d088'\n",
            " b'5e921bb478f479914f17df41' b'5e921e0a78f479914f186f08'\n",
            " b'5e921e0a78f479914f186f08' b'5e921e1678f479914f1878b6'\n",
            " b'5e921e1e78f479914f187e2f' b'5e921e2678f479914f1884dd'\n",
            " b'5e921ede78f479914f18bbb9' b'5e921f8778f479914f18fc96'\n",
            " b'5e921f8878f479914f18fd4c' b'5e92134778f479914f163393'\n",
            " b'5e92134f78f479914f1638fc' b'5e92135078f479914f163925'\n",
            " b'5e92136e78f479914f164ebc' b'5e92136e78f479914f164ebc'\n",
            " b'5e92137278f479914f16515d' b'5e92137278f479914f16515d'\n",
            " b'5e92137678f479914f165461' b'5e92137678f479914f165461'\n",
            " b'5e92154878f479914f1695e1' b'5e92154f78f479914f169b87'\n",
            " b'5e92155078f479914f169cd6' b'5e92157278f479914f16b671'\n",
            " b'5e92133678f479914f162927' b'5e92133978f479914f162ad8'\n",
            " b'5e92134478f479914f163196' b'5e92135078f479914f163925'\n",
            " b'5e92135578f479914f163cc2' b'5e92135e78f479914f164280'\n",
            " b'5e92136078f479914f164359' b'5e92136e78f479914f164ebc'\n",
            " b'5e92137278f479914f16515d' b'5e92137678f479914f165461'\n",
            " b'5e92137678f479914f165461' b'5e92137678f479914f1654a1'\n",
            " b'5e92153978f479914f168c5a' b'5e92153978f479914f168c5a'\n",
            " b'5e92153a78f479914f168c76' b'5e92153e78f479914f168f17'\n",
            " b'5e92154178f479914f169124' b'5e92154578f479914f1693be']\n"
          ],
          "name": "stdout"
        }
      ]
    },
    {
      "cell_type": "code",
      "metadata": {
        "colab": {
          "base_uri": "https://localhost:8080/"
        },
        "id": "9e0l44yDU2lT",
        "outputId": "2ba48e9e-9cf1-46f2-e902-0f452fee1c83"
      },
      "source": [
        "_ , reccs = scann(test_query2)\n",
        "print(f\"Top recommendations for user2: {reccs[0][:10]}\")"
      ],
      "execution_count": null,
      "outputs": [
        {
          "output_type": "stream",
          "text": [
            "Top recommendations for user2: [b'5e92185278f479914f171998' b'5e92188b78f479914f173de0'\n",
            " b'5e92188b78f479914f173e5d' b'5e92195078f479914f1756e8'\n",
            " b'5e92196578f479914f1766c2' b'5e92196978f479914f1769d6'\n",
            " b'5e92197278f479914f17710b' b'5e92197478f479914f17728a'\n",
            " b'5e921b9e78f479914f17cdf4' b'5e921ba078f479914f17d088']\n"
          ],
          "name": "stdout"
        }
      ]
    },
    {
      "cell_type": "code",
      "metadata": {
        "colab": {
          "base_uri": "https://localhost:8080/"
        },
        "id": "CQnEvAz04iMn",
        "outputId": "03ba93ec-ecf2-4ec9-85f9-ff9b921ce2b4"
      },
      "source": [
        "tf.version"
      ],
      "execution_count": null,
      "outputs": [
        {
          "output_type": "execute_result",
          "data": {
            "text/plain": [
              "<module 'tensorflow._api.v2.version' from '/usr/local/lib/python3.7/dist-packages/tensorflow/_api/v2/version/__init__.py'>"
            ]
          },
          "metadata": {
            "tags": []
          },
          "execution_count": 633
        }
      ]
    },
    {
      "cell_type": "code",
      "metadata": {
        "id": "82XuLtaymXH_",
        "colab": {
          "base_uri": "https://localhost:8080/",
          "height": 1000
        },
        "outputId": "318a6945-8888-497c-d05a-67e0a9ece1e0"
      },
      "source": [
        "_  = scann1(test_query)\n",
        "path = os.path.join(root_dir, \"model_scann_query_v1_new\")\n",
        "scann1.save(\n",
        "path,\n",
        "options=tf.saved_model.SaveOptions(namespace_whitelist=[\"Scann\"]) ,\n",
        "                                  save_format='tf'\n",
        ")\n",
        "loaded = tf.keras.models.load_model(path)"
      ],
      "execution_count": null,
      "outputs": [
        {
          "output_type": "stream",
          "text": [
            "WARNING:tensorflow:Using a while_loop for converting BoostedTreesBucketize\n"
          ],
          "name": "stdout"
        },
        {
          "output_type": "stream",
          "text": [
            "WARNING:tensorflow:Using a while_loop for converting BoostedTreesBucketize\n"
          ],
          "name": "stderr"
        },
        {
          "output_type": "stream",
          "text": [
            "WARNING:tensorflow:Using a while_loop for converting BoostedTreesBucketize\n"
          ],
          "name": "stdout"
        },
        {
          "output_type": "stream",
          "text": [
            "WARNING:tensorflow:Using a while_loop for converting BoostedTreesBucketize\n"
          ],
          "name": "stderr"
        },
        {
          "output_type": "stream",
          "text": [
            "WARNING:tensorflow:Using a while_loop for converting BoostedTreesBucketize\n"
          ],
          "name": "stdout"
        },
        {
          "output_type": "stream",
          "text": [
            "WARNING:tensorflow:Using a while_loop for converting BoostedTreesBucketize\n"
          ],
          "name": "stderr"
        },
        {
          "output_type": "stream",
          "text": [
            "WARNING:tensorflow:Using a while_loop for converting BoostedTreesBucketize\n"
          ],
          "name": "stdout"
        },
        {
          "output_type": "stream",
          "text": [
            "WARNING:tensorflow:Using a while_loop for converting BoostedTreesBucketize\n"
          ],
          "name": "stderr"
        },
        {
          "output_type": "stream",
          "text": [
            "WARNING:tensorflow:Using a while_loop for converting BoostedTreesBucketize\n"
          ],
          "name": "stdout"
        },
        {
          "output_type": "stream",
          "text": [
            "WARNING:tensorflow:Using a while_loop for converting BoostedTreesBucketize\n"
          ],
          "name": "stderr"
        },
        {
          "output_type": "stream",
          "text": [
            "WARNING:tensorflow:Using a while_loop for converting BoostedTreesBucketize\n"
          ],
          "name": "stdout"
        },
        {
          "output_type": "stream",
          "text": [
            "WARNING:tensorflow:Using a while_loop for converting BoostedTreesBucketize\n"
          ],
          "name": "stderr"
        },
        {
          "output_type": "stream",
          "text": [
            "WARNING:tensorflow:Using a while_loop for converting BoostedTreesBucketize\n"
          ],
          "name": "stdout"
        },
        {
          "output_type": "stream",
          "text": [
            "WARNING:tensorflow:Using a while_loop for converting BoostedTreesBucketize\n",
            "WARNING:absl:Function `_wrapped_model` contains input name(s) waistRiseLevels with unsupported characters which will be renamed to waistriselevels in the SavedModel.\n"
          ],
          "name": "stderr"
        },
        {
          "output_type": "stream",
          "text": [
            "WARNING:tensorflow:Using a while_loop for converting BoostedTreesBucketize\n"
          ],
          "name": "stdout"
        },
        {
          "output_type": "stream",
          "text": [
            "WARNING:tensorflow:Using a while_loop for converting BoostedTreesBucketize\n"
          ],
          "name": "stderr"
        },
        {
          "output_type": "stream",
          "text": [
            "WARNING:tensorflow:Using a while_loop for converting BoostedTreesBucketize\n"
          ],
          "name": "stdout"
        },
        {
          "output_type": "stream",
          "text": [
            "WARNING:tensorflow:Using a while_loop for converting BoostedTreesBucketize\n"
          ],
          "name": "stderr"
        },
        {
          "output_type": "stream",
          "text": [
            "WARNING:tensorflow:Using a while_loop for converting BoostedTreesBucketize\n"
          ],
          "name": "stdout"
        },
        {
          "output_type": "stream",
          "text": [
            "WARNING:tensorflow:Using a while_loop for converting BoostedTreesBucketize\n"
          ],
          "name": "stderr"
        },
        {
          "output_type": "stream",
          "text": [
            "WARNING:tensorflow:Using a while_loop for converting BoostedTreesBucketize\n"
          ],
          "name": "stdout"
        },
        {
          "output_type": "stream",
          "text": [
            "WARNING:tensorflow:Using a while_loop for converting BoostedTreesBucketize\n"
          ],
          "name": "stderr"
        },
        {
          "output_type": "stream",
          "text": [
            "WARNING:tensorflow:Using a while_loop for converting BoostedTreesBucketize\n"
          ],
          "name": "stdout"
        },
        {
          "output_type": "stream",
          "text": [
            "WARNING:tensorflow:Using a while_loop for converting BoostedTreesBucketize\n"
          ],
          "name": "stderr"
        },
        {
          "output_type": "stream",
          "text": [
            "WARNING:tensorflow:Using a while_loop for converting BoostedTreesBucketize\n"
          ],
          "name": "stdout"
        },
        {
          "output_type": "stream",
          "text": [
            "WARNING:tensorflow:Using a while_loop for converting BoostedTreesBucketize\n"
          ],
          "name": "stderr"
        },
        {
          "output_type": "stream",
          "text": [
            "WARNING:tensorflow:Using a while_loop for converting BoostedTreesBucketize\n"
          ],
          "name": "stdout"
        },
        {
          "output_type": "stream",
          "text": [
            "WARNING:tensorflow:Using a while_loop for converting BoostedTreesBucketize\n"
          ],
          "name": "stderr"
        },
        {
          "output_type": "stream",
          "text": [
            "WARNING:tensorflow:Using a while_loop for converting BoostedTreesBucketize\n"
          ],
          "name": "stdout"
        },
        {
          "output_type": "stream",
          "text": [
            "WARNING:tensorflow:Using a while_loop for converting BoostedTreesBucketize\n"
          ],
          "name": "stderr"
        },
        {
          "output_type": "stream",
          "text": [
            "WARNING:tensorflow:Using a while_loop for converting BoostedTreesBucketize\n"
          ],
          "name": "stdout"
        },
        {
          "output_type": "stream",
          "text": [
            "WARNING:tensorflow:Using a while_loop for converting BoostedTreesBucketize\n"
          ],
          "name": "stderr"
        },
        {
          "output_type": "stream",
          "text": [
            "WARNING:tensorflow:Using a while_loop for converting BoostedTreesBucketize\n"
          ],
          "name": "stdout"
        },
        {
          "output_type": "stream",
          "text": [
            "WARNING:tensorflow:Using a while_loop for converting BoostedTreesBucketize\n"
          ],
          "name": "stderr"
        },
        {
          "output_type": "stream",
          "text": [
            "WARNING:tensorflow:Using a while_loop for converting BoostedTreesBucketize\n"
          ],
          "name": "stdout"
        },
        {
          "output_type": "stream",
          "text": [
            "WARNING:tensorflow:Using a while_loop for converting BoostedTreesBucketize\n"
          ],
          "name": "stderr"
        },
        {
          "output_type": "stream",
          "text": [
            "WARNING:tensorflow:Using a while_loop for converting BoostedTreesBucketize\n"
          ],
          "name": "stdout"
        },
        {
          "output_type": "stream",
          "text": [
            "WARNING:tensorflow:Using a while_loop for converting BoostedTreesBucketize\n",
            "WARNING:absl:Found untraced functions such as query_with_exclusions, dense_layer_call_fn, dense_layer_call_and_return_conditional_losses, dense_layer_call_fn, dense_layer_call_and_return_conditional_losses while saving (showing 5 of 6). These functions will not be directly callable after loading.\n"
          ],
          "name": "stderr"
        },
        {
          "output_type": "stream",
          "text": [
            "INFO:tensorflow:Assets written to: /content/gdrive/My Drive/Content-Based/model_scann_query_v1_new/assets\n"
          ],
          "name": "stdout"
        },
        {
          "output_type": "stream",
          "text": [
            "INFO:tensorflow:Assets written to: /content/gdrive/My Drive/Content-Based/model_scann_query_v1_new/assets\n"
          ],
          "name": "stderr"
        },
        {
          "output_type": "error",
          "ename": "ValueError",
          "evalue": "ignored",
          "traceback": [
            "\u001b[0;31m---------------------------------------------------------------------------\u001b[0m",
            "\u001b[0;31mValueError\u001b[0m                                Traceback (most recent call last)",
            "\u001b[0;32m/usr/local/lib/python3.7/dist-packages/tensorflow/python/util/nest.py\u001b[0m in \u001b[0;36massert_same_structure\u001b[0;34m(nest1, nest2, check_types, expand_composites)\u001b[0m\n\u001b[1;32m    525\u001b[0m     _pywrap_utils.AssertSameStructure(nest1, nest2, check_types,\n\u001b[0;32m--> 526\u001b[0;31m                                       expand_composites)\n\u001b[0m\u001b[1;32m    527\u001b[0m   \u001b[0;32mexcept\u001b[0m \u001b[0;34m(\u001b[0m\u001b[0mValueError\u001b[0m\u001b[0;34m,\u001b[0m \u001b[0mTypeError\u001b[0m\u001b[0;34m)\u001b[0m \u001b[0;32mas\u001b[0m \u001b[0me\u001b[0m\u001b[0;34m:\u001b[0m\u001b[0;34m\u001b[0m\u001b[0;34m\u001b[0m\u001b[0m\n",
            "\u001b[0;31mValueError\u001b[0m: The two structures don't have the same nested structure.\n\nFirst structure: type=dict str={'category': TensorSpec(shape=(None,), dtype=tf.string, name='inputs/category'), 'product_id': TensorSpec(shape=(None,), dtype=tf.string, name='inputs/product_id'), 'timestamp': TensorSpec(shape=(None,), dtype=tf.float32, name='inputs/timestamp'), 'article': TensorSpec(shape=(None,), dtype=tf.string, name='inputs/article'), 'user_id': TensorSpec(shape=(None,), dtype=tf.string, name='inputs/user_id'), 'waistRiseLevels': TensorSpec(shape=(None,), dtype=tf.string, name='inputs/waistRiseLevels'), 'length': TensorSpec(shape=(None,), dtype=tf.string, name='inputs/length')}\n\nSecond structure: type=dict str={'user_id': TensorSpec(shape=(None,), dtype=tf.string, name='inputs/user_id'), 'length': TensorSpec(shape=(None,), dtype=tf.string, name='inputs/length'), 'category': TensorSpec(shape=(None,), dtype=tf.string, name='inputs/category'), 'user_rating': TensorSpec(shape=(None,), dtype=tf.int64, name='inputs/user_rating'), 'product_id': TensorSpec(shape=(None,), dtype=tf.string, name='inputs/product_id'), 'timestamp': TensorSpec(shape=(None,), dtype=tf.float32, name='inputs/timestamp'), 'article': TensorSpec(shape=(None,), dtype=tf.string, name='inputs/article'), 'waistRiseLevels': TensorSpec(shape=(None,), dtype=tf.string, name='inputs/waistRiseLevels')}\n\nMore specifically: The two dictionaries don't have the same set of keys. First structure has keys type=list str=['category', 'product_id', 'timestamp', 'article', 'user_id', 'waistRiseLevels', 'length'], while second structure has keys type=list str=['user_id', 'length', 'category', 'user_rating', 'product_id', 'timestamp', 'article', 'waistRiseLevels']",
            "\nDuring handling of the above exception, another exception occurred:\n",
            "\u001b[0;31mValueError\u001b[0m                                Traceback (most recent call last)",
            "\u001b[0;32m<ipython-input-219-1605e3262a39>\u001b[0m in \u001b[0;36m<module>\u001b[0;34m()\u001b[0m\n\u001b[1;32m      6\u001b[0m                                   \u001b[0msave_format\u001b[0m\u001b[0;34m=\u001b[0m\u001b[0;34m'tf'\u001b[0m\u001b[0;34m\u001b[0m\u001b[0;34m\u001b[0m\u001b[0m\n\u001b[1;32m      7\u001b[0m )\n\u001b[0;32m----> 8\u001b[0;31m \u001b[0mloaded\u001b[0m \u001b[0;34m=\u001b[0m \u001b[0mtf\u001b[0m\u001b[0;34m.\u001b[0m\u001b[0mkeras\u001b[0m\u001b[0;34m.\u001b[0m\u001b[0mmodels\u001b[0m\u001b[0;34m.\u001b[0m\u001b[0mload_model\u001b[0m\u001b[0;34m(\u001b[0m\u001b[0mpath\u001b[0m\u001b[0;34m)\u001b[0m\u001b[0;34m\u001b[0m\u001b[0;34m\u001b[0m\u001b[0m\n\u001b[0m",
            "\u001b[0;32m/usr/local/lib/python3.7/dist-packages/tensorflow/python/keras/saving/save.py\u001b[0m in \u001b[0;36mload_model\u001b[0;34m(filepath, custom_objects, compile, options)\u001b[0m\n\u001b[1;32m    204\u001b[0m         \u001b[0mfilepath\u001b[0m \u001b[0;34m=\u001b[0m \u001b[0mpath_to_string\u001b[0m\u001b[0;34m(\u001b[0m\u001b[0mfilepath\u001b[0m\u001b[0;34m)\u001b[0m\u001b[0;34m\u001b[0m\u001b[0;34m\u001b[0m\u001b[0m\n\u001b[1;32m    205\u001b[0m         \u001b[0;32mif\u001b[0m \u001b[0misinstance\u001b[0m\u001b[0;34m(\u001b[0m\u001b[0mfilepath\u001b[0m\u001b[0;34m,\u001b[0m \u001b[0mstr\u001b[0m\u001b[0;34m)\u001b[0m\u001b[0;34m:\u001b[0m\u001b[0;34m\u001b[0m\u001b[0;34m\u001b[0m\u001b[0m\n\u001b[0;32m--> 206\u001b[0;31m           \u001b[0;32mreturn\u001b[0m \u001b[0msaved_model_load\u001b[0m\u001b[0;34m.\u001b[0m\u001b[0mload\u001b[0m\u001b[0;34m(\u001b[0m\u001b[0mfilepath\u001b[0m\u001b[0;34m,\u001b[0m \u001b[0mcompile\u001b[0m\u001b[0;34m,\u001b[0m \u001b[0moptions\u001b[0m\u001b[0;34m)\u001b[0m\u001b[0;34m\u001b[0m\u001b[0;34m\u001b[0m\u001b[0m\n\u001b[0m\u001b[1;32m    207\u001b[0m \u001b[0;34m\u001b[0m\u001b[0m\n\u001b[1;32m    208\u001b[0m   raise IOError(\n",
            "\u001b[0;32m/usr/local/lib/python3.7/dist-packages/tensorflow/python/keras/saving/saved_model/load.py\u001b[0m in \u001b[0;36mload\u001b[0;34m(path, compile, options)\u001b[0m\n\u001b[1;32m    153\u001b[0m \u001b[0;34m\u001b[0m\u001b[0m\n\u001b[1;32m    154\u001b[0m   \u001b[0;31m# Finalize the loaded layers and remove the extra tracked dependencies.\u001b[0m\u001b[0;34m\u001b[0m\u001b[0;34m\u001b[0m\u001b[0;34m\u001b[0m\u001b[0m\n\u001b[0;32m--> 155\u001b[0;31m   \u001b[0mkeras_loader\u001b[0m\u001b[0;34m.\u001b[0m\u001b[0mfinalize_objects\u001b[0m\u001b[0;34m(\u001b[0m\u001b[0;34m)\u001b[0m\u001b[0;34m\u001b[0m\u001b[0;34m\u001b[0m\u001b[0m\n\u001b[0m\u001b[1;32m    156\u001b[0m   \u001b[0mkeras_loader\u001b[0m\u001b[0;34m.\u001b[0m\u001b[0mdel_tracking\u001b[0m\u001b[0;34m(\u001b[0m\u001b[0;34m)\u001b[0m\u001b[0;34m\u001b[0m\u001b[0;34m\u001b[0m\u001b[0m\n\u001b[1;32m    157\u001b[0m \u001b[0;34m\u001b[0m\u001b[0m\n",
            "\u001b[0;32m/usr/local/lib/python3.7/dist-packages/tensorflow/python/keras/saving/saved_model/load.py\u001b[0m in \u001b[0;36mfinalize_objects\u001b[0;34m(self)\u001b[0m\n\u001b[1;32m    620\u001b[0m         \u001b[0mlayers_revived_from_config\u001b[0m\u001b[0;34m.\u001b[0m\u001b[0mappend\u001b[0m\u001b[0;34m(\u001b[0m\u001b[0mnode\u001b[0m\u001b[0;34m)\u001b[0m\u001b[0;34m\u001b[0m\u001b[0;34m\u001b[0m\u001b[0m\n\u001b[1;32m    621\u001b[0m \u001b[0;34m\u001b[0m\u001b[0m\n\u001b[0;32m--> 622\u001b[0;31m     \u001b[0m_finalize_saved_model_layers\u001b[0m\u001b[0;34m(\u001b[0m\u001b[0mlayers_revived_from_saved_model\u001b[0m\u001b[0;34m)\u001b[0m\u001b[0;34m\u001b[0m\u001b[0;34m\u001b[0m\u001b[0m\n\u001b[0m\u001b[1;32m    623\u001b[0m     \u001b[0m_finalize_config_layers\u001b[0m\u001b[0;34m(\u001b[0m\u001b[0mlayers_revived_from_config\u001b[0m\u001b[0;34m)\u001b[0m\u001b[0;34m\u001b[0m\u001b[0;34m\u001b[0m\u001b[0m\n\u001b[1;32m    624\u001b[0m \u001b[0;34m\u001b[0m\u001b[0m\n",
            "\u001b[0;32m/usr/local/lib/python3.7/dist-packages/tensorflow/python/keras/saving/saved_model/load.py\u001b[0m in \u001b[0;36m_finalize_saved_model_layers\u001b[0;34m(layers)\u001b[0m\n\u001b[1;32m    818\u001b[0m           \u001b[0;32mcontinue\u001b[0m\u001b[0;34m\u001b[0m\u001b[0;34m\u001b[0m\u001b[0m\n\u001b[1;32m    819\u001b[0m         \u001b[0;32mif\u001b[0m \u001b[0mcall_fn\u001b[0m\u001b[0;34m.\u001b[0m\u001b[0minput_signature\u001b[0m \u001b[0;32mis\u001b[0m \u001b[0;32mNone\u001b[0m\u001b[0;34m:\u001b[0m\u001b[0;34m\u001b[0m\u001b[0;34m\u001b[0m\u001b[0m\n\u001b[0;32m--> 820\u001b[0;31m           \u001b[0minputs\u001b[0m \u001b[0;34m=\u001b[0m \u001b[0minfer_inputs_from_restored_call_function\u001b[0m\u001b[0;34m(\u001b[0m\u001b[0mcall_fn\u001b[0m\u001b[0;34m)\u001b[0m\u001b[0;34m\u001b[0m\u001b[0;34m\u001b[0m\u001b[0m\n\u001b[0m\u001b[1;32m    821\u001b[0m         \u001b[0;32melse\u001b[0m\u001b[0;34m:\u001b[0m\u001b[0;34m\u001b[0m\u001b[0;34m\u001b[0m\u001b[0m\n\u001b[1;32m    822\u001b[0m           \u001b[0minputs\u001b[0m \u001b[0;34m=\u001b[0m \u001b[0mcall_fn\u001b[0m\u001b[0;34m.\u001b[0m\u001b[0minput_signature\u001b[0m\u001b[0;34m[\u001b[0m\u001b[0;36m0\u001b[0m\u001b[0;34m]\u001b[0m\u001b[0;34m\u001b[0m\u001b[0;34m\u001b[0m\u001b[0m\n",
            "\u001b[0;32m/usr/local/lib/python3.7/dist-packages/tensorflow/python/keras/saving/saved_model/load.py\u001b[0m in \u001b[0;36minfer_inputs_from_restored_call_function\u001b[0;34m(fn)\u001b[0m\n\u001b[1;32m   1136\u001b[0m   \u001b[0;32mfor\u001b[0m \u001b[0mconcrete\u001b[0m \u001b[0;32min\u001b[0m \u001b[0mfn\u001b[0m\u001b[0;34m.\u001b[0m\u001b[0mconcrete_functions\u001b[0m\u001b[0;34m[\u001b[0m\u001b[0;36m1\u001b[0m\u001b[0;34m:\u001b[0m\u001b[0;34m]\u001b[0m\u001b[0;34m:\u001b[0m\u001b[0;34m\u001b[0m\u001b[0;34m\u001b[0m\u001b[0m\n\u001b[1;32m   1137\u001b[0m     \u001b[0mspec2\u001b[0m \u001b[0;34m=\u001b[0m \u001b[0mconcrete\u001b[0m\u001b[0;34m.\u001b[0m\u001b[0mstructured_input_signature\u001b[0m\u001b[0;34m[\u001b[0m\u001b[0;36m0\u001b[0m\u001b[0;34m]\u001b[0m\u001b[0;34m[\u001b[0m\u001b[0;36m0\u001b[0m\u001b[0;34m]\u001b[0m\u001b[0;34m\u001b[0m\u001b[0;34m\u001b[0m\u001b[0m\n\u001b[0;32m-> 1138\u001b[0;31m     \u001b[0mspec\u001b[0m \u001b[0;34m=\u001b[0m \u001b[0mnest\u001b[0m\u001b[0;34m.\u001b[0m\u001b[0mmap_structure\u001b[0m\u001b[0;34m(\u001b[0m\u001b[0mcommon_spec\u001b[0m\u001b[0;34m,\u001b[0m \u001b[0mspec\u001b[0m\u001b[0;34m,\u001b[0m \u001b[0mspec2\u001b[0m\u001b[0;34m)\u001b[0m\u001b[0;34m\u001b[0m\u001b[0;34m\u001b[0m\u001b[0m\n\u001b[0m\u001b[1;32m   1139\u001b[0m   \u001b[0;32mreturn\u001b[0m \u001b[0mspec\u001b[0m\u001b[0;34m\u001b[0m\u001b[0;34m\u001b[0m\u001b[0m\n\u001b[1;32m   1140\u001b[0m \u001b[0;34m\u001b[0m\u001b[0m\n",
            "\u001b[0;32m/usr/local/lib/python3.7/dist-packages/tensorflow/python/util/nest.py\u001b[0m in \u001b[0;36mmap_structure\u001b[0;34m(func, *structure, **kwargs)\u001b[0m\n\u001b[1;32m    859\u001b[0m   \u001b[0;32mfor\u001b[0m \u001b[0mother\u001b[0m \u001b[0;32min\u001b[0m \u001b[0mstructure\u001b[0m\u001b[0;34m[\u001b[0m\u001b[0;36m1\u001b[0m\u001b[0;34m:\u001b[0m\u001b[0;34m]\u001b[0m\u001b[0;34m:\u001b[0m\u001b[0;34m\u001b[0m\u001b[0;34m\u001b[0m\u001b[0m\n\u001b[1;32m    860\u001b[0m     assert_same_structure(structure[0], other, check_types=check_types,\n\u001b[0;32m--> 861\u001b[0;31m                           expand_composites=expand_composites)\n\u001b[0m\u001b[1;32m    862\u001b[0m \u001b[0;34m\u001b[0m\u001b[0m\n\u001b[1;32m    863\u001b[0m   \u001b[0mflat_structure\u001b[0m \u001b[0;34m=\u001b[0m \u001b[0;34m(\u001b[0m\u001b[0mflatten\u001b[0m\u001b[0;34m(\u001b[0m\u001b[0ms\u001b[0m\u001b[0;34m,\u001b[0m \u001b[0mexpand_composites\u001b[0m\u001b[0;34m)\u001b[0m \u001b[0;32mfor\u001b[0m \u001b[0ms\u001b[0m \u001b[0;32min\u001b[0m \u001b[0mstructure\u001b[0m\u001b[0;34m)\u001b[0m\u001b[0;34m\u001b[0m\u001b[0;34m\u001b[0m\u001b[0m\n",
            "\u001b[0;32m/usr/local/lib/python3.7/dist-packages/tensorflow/python/util/nest.py\u001b[0m in \u001b[0;36massert_same_structure\u001b[0;34m(nest1, nest2, check_types, expand_composites)\u001b[0m\n\u001b[1;32m    531\u001b[0m                   \u001b[0;34m\"Entire first structure:\\n%s\\n\"\u001b[0m\u001b[0;34m\u001b[0m\u001b[0;34m\u001b[0m\u001b[0m\n\u001b[1;32m    532\u001b[0m                   \u001b[0;34m\"Entire second structure:\\n%s\"\u001b[0m\u001b[0;34m\u001b[0m\u001b[0;34m\u001b[0m\u001b[0m\n\u001b[0;32m--> 533\u001b[0;31m                   % (str(e), str1, str2))\n\u001b[0m\u001b[1;32m    534\u001b[0m \u001b[0;34m\u001b[0m\u001b[0m\n\u001b[1;32m    535\u001b[0m \u001b[0;34m\u001b[0m\u001b[0m\n",
            "\u001b[0;31mValueError\u001b[0m: The two structures don't have the same nested structure.\n\nFirst structure: type=dict str={'category': TensorSpec(shape=(None,), dtype=tf.string, name='inputs/category'), 'product_id': TensorSpec(shape=(None,), dtype=tf.string, name='inputs/product_id'), 'timestamp': TensorSpec(shape=(None,), dtype=tf.float32, name='inputs/timestamp'), 'article': TensorSpec(shape=(None,), dtype=tf.string, name='inputs/article'), 'user_id': TensorSpec(shape=(None,), dtype=tf.string, name='inputs/user_id'), 'waistRiseLevels': TensorSpec(shape=(None,), dtype=tf.string, name='inputs/waistRiseLevels'), 'length': TensorSpec(shape=(None,), dtype=tf.string, name='inputs/length')}\n\nSecond structure: type=dict str={'user_id': TensorSpec(shape=(None,), dtype=tf.string, name='inputs/user_id'), 'length': TensorSpec(shape=(None,), dtype=tf.string, name='inputs/length'), 'category': TensorSpec(shape=(None,), dtype=tf.string, name='inputs/category'), 'user_rating': TensorSpec(shape=(None,), dtype=tf.int64, name='inputs/user_rating'), 'product_id': TensorSpec(shape=(None,), dtype=tf.string, name='inputs/product_id'), 'timestamp': TensorSpec(shape=(None,), dtype=tf.float32, name='inputs/timestamp'), 'article': TensorSpec(shape=(None,), dtype=tf.string, name='inputs/article'), 'waistRiseLevels': TensorSpec(shape=(None,), dtype=tf.string, name='inputs/waistRiseLevels')}\n\nMore specifically: The two dictionaries don't have the same set of keys. First structure has keys type=list str=['category', 'product_id', 'timestamp', 'article', 'user_id', 'waistRiseLevels', 'length'], while second structure has keys type=list str=['user_id', 'length', 'category', 'user_rating', 'product_id', 'timestamp', 'article', 'waistRiseLevels']\nEntire first structure:\n{'category': ., 'product_id': ., 'timestamp': ., 'article': ., 'user_id': ., 'waistRiseLevels': ., 'length': .}\nEntire second structure:\n{'user_id': ., 'length': ., 'category': ., 'user_rating': ., 'product_id': ., 'timestamp': ., 'article': ., 'waistRiseLevels': .}"
          ]
        }
      ]
    },
    {
      "cell_type": "code",
      "metadata": {
        "id": "-TrfRZ-6hVSl"
      },
      "source": [
        "# attempting export of user scann model\n",
        "_ , reccs = user_scann2(tf.constant([user1]))\n",
        "path = os.path.join(root_dir, \"model_user_scann_v1\")\n",
        "user_scann2.save(\n",
        "path,\n",
        "options=tf.saved_model.SaveOptions(namespace_whitelist=[\"Scann\"]) ,\n",
        "                                  save_format='tf'\n",
        ")\n",
        "loaded = tf.keras.models.load_model(path)"
      ],
      "execution_count": null,
      "outputs": []
    },
    {
      "cell_type": "code",
      "metadata": {
        "colab": {
          "base_uri": "https://localhost:8080/"
        },
        "id": "ZHP-o4_thpvn",
        "outputId": "03256e3e-4dc6-47de-d538-3bc411b6aff4"
      },
      "source": [
        "loaded"
      ],
      "execution_count": null,
      "outputs": [
        {
          "output_type": "execute_result",
          "data": {
            "text/plain": [
              "<tensorflow.python.keras.saving.saved_model.load.ScaNN at 0x7f01351d7410>"
            ]
          },
          "metadata": {
            "tags": []
          },
          "execution_count": 174
        }
      ]
    },
    {
      "cell_type": "code",
      "metadata": {
        "id": "ReTQlep_u4wY"
      },
      "source": [
        "# this is proper way to formulate test query\n",
        "# shows how to get reccomendations based on both user id and queries that are relevant to taxonomy DIRECTLY\n",
        "_ , reccs = scann(test_query, 100)\n",
        "print(f\"Top recommendations for user2: {reccs[0][:99]}\")"
      ],
      "execution_count": null,
      "outputs": []
    },
    {
      "cell_type": "code",
      "metadata": {
        "id": "oiOb8tub5i5k"
      },
      "source": [
        "path = root_dir + 'path_to_my_model'\n",
        "user_scann2.save(path, save_format = \"tf\")"
      ],
      "execution_count": null,
      "outputs": []
    },
    {
      "cell_type": "code",
      "metadata": {
        "id": "dSkWen168Cm9"
      },
      "source": [
        "scann.save_weights('path_to_my_weights', save_format='tf')"
      ],
      "execution_count": null,
      "outputs": []
    },
    {
      "cell_type": "code",
      "metadata": {
        "colab": {
          "base_uri": "https://localhost:8080/"
        },
        "id": "QYOSCAT18--Z",
        "outputId": "6e339ae7-3f9f-47f1-db37-ea633df992b7"
      },
      "source": [
        "loaded"
      ],
      "execution_count": null,
      "outputs": [
        {
          "output_type": "execute_result",
          "data": {
            "text/plain": [
              "<tensorflow.python.keras.saving.saved_model.load.ScaNN at 0x7fa1379e7f10>"
            ]
          },
          "metadata": {
            "tags": []
          },
          "execution_count": 657
        }
      ]
    },
    {
      "cell_type": "code",
      "metadata": {
        "id": "YMi9s0rw8dw0"
      },
      "source": [
        "loaded = tf.keras.models.load_model(path)"
      ],
      "execution_count": null,
      "outputs": []
    },
    {
      "cell_type": "code",
      "metadata": {
        "colab": {
          "base_uri": "https://localhost:8080/"
        },
        "id": "6_GB_z2u5jht",
        "outputId": "590e244e-2fb0-4fcb-95e6-f1e17965e2ff"
      },
      "source": [
        "loaded"
      ],
      "execution_count": null,
      "outputs": [
        {
          "output_type": "execute_result",
          "data": {
            "text/plain": [
              "<tensorflow.python.keras.saving.saved_model.load.ScaNN at 0x7fa13fbd4d50>"
            ]
          },
          "metadata": {
            "tags": []
          },
          "execution_count": 646
        }
      ]
    },
    {
      "cell_type": "code",
      "metadata": {
        "colab": {
          "base_uri": "https://localhost:8080/",
          "height": 35
        },
        "id": "peFDAOgA065c",
        "outputId": "77249674-a500-4b42-b7f1-f56ab041e5ac"
      },
      "source": [
        "path"
      ],
      "execution_count": null,
      "outputs": [
        {
          "output_type": "execute_result",
          "data": {
            "application/vnd.google.colaboratory.intrinsic+json": {
              "type": "string"
            },
            "text/plain": [
              "'/content/gdrive/My Drive/Content-Based/model_scann_query_v5_functional'"
            ]
          },
          "metadata": {
            "tags": []
          },
          "execution_count": 661
        }
      ]
    },
    {
      "cell_type": "code",
      "metadata": {
        "id": "x02Uk07kuTxw"
      },
      "source": [
        "# check that loaded model producing same reccomendations as original\n",
        "# it does, lets go ahead and export it\n",
        "_ , reccs = loaded(test_query)\n",
        "print(f\"Top recommendations: {reccs[0][:3]}\")"
      ],
      "execution_count": null,
      "outputs": []
    },
    {
      "cell_type": "code",
      "metadata": {
        "id": "epn8geFGh4gf"
      },
      "source": [
        "# check that loaded model producing same reccomendations as original\n",
        "# it does, lets go ahead and export it\n",
        "_ , reccs = loaded(tf.constant([\"user1\"]))\n",
        "print(f\"Top recommendations: {reccs[0][:3]}\")"
      ],
      "execution_count": null,
      "outputs": []
    },
    {
      "cell_type": "code",
      "metadata": {
        "colab": {
          "base_uri": "https://localhost:8080/"
        },
        "id": "kVyN27WZ4Slj",
        "outputId": "9415f20a-aa73-446d-9703-68fd4c634a32"
      },
      "source": [
        "tf"
      ],
      "execution_count": null,
      "outputs": [
        {
          "output_type": "execute_result",
          "data": {
            "text/plain": [
              "<module 'tensorflow' from '/usr/local/lib/python3.7/dist-packages/tensorflow/__init__.py'>"
            ]
          },
          "metadata": {
            "tags": []
          },
          "execution_count": 631
        }
      ]
    },
    {
      "cell_type": "code",
      "metadata": {
        "id": "95S7iNCG2Ql9"
      },
      "source": [
        "pip install tensorflowjs"
      ],
      "execution_count": null,
      "outputs": []
    },
    {
      "cell_type": "code",
      "metadata": {
        "id": "TWG946PG2VCB"
      },
      "source": [
        "import tensorflowjs"
      ],
      "execution_count": null,
      "outputs": []
    },
    {
      "cell_type": "code",
      "metadata": {
        "id": "dNJSMRSZ90qa"
      },
      "source": [
        "tensorflowjs.converters.save_keras_model(model, MODEL_DIR)"
      ],
      "execution_count": null,
      "outputs": []
    },
    {
      "cell_type": "code",
      "metadata": {
        "id": "mBekHH5P2Bws"
      },
      "source": [
        "# Save the model\n",
        "MODEL_DIR = './js_model'\n",
        "tensorflowjs.converters.save_keras_model(model, MODEL_DIR )"
      ],
      "execution_count": null,
      "outputs": []
    },
    {
      "cell_type": "code",
      "metadata": {
        "colab": {
          "base_uri": "https://localhost:8080/"
        },
        "id": "RgPUo9Sa2qNs",
        "outputId": "a7a2d814-ec66-4cae-8722-907378fc5c15"
      },
      "source": [
        "loaded"
      ],
      "execution_count": null,
      "outputs": [
        {
          "output_type": "execute_result",
          "data": {
            "text/plain": [
              "<tensorflow.python.keras.saving.saved_model.load.ScaNN at 0x7fa1379e7f10>"
            ]
          },
          "metadata": {
            "tags": []
          },
          "execution_count": 665
        }
      ]
    },
    {
      "cell_type": "code",
      "metadata": {
        "id": "4H7NdynF1Oxi"
      },
      "source": [
        "!tensorflowjs_converter --input_format=keras {path} ./"
      ],
      "execution_count": null,
      "outputs": []
    },
    {
      "cell_type": "markdown",
      "metadata": {
        "id": "eScgAtvwNJZ5"
      },
      "source": [
        "# Set up simple non cutom model to see if it exports"
      ]
    },
    {
      "cell_type": "code",
      "metadata": {
        "id": "hIGE-gixNjvq"
      },
      "source": [
        "rank_df.head()"
      ],
      "execution_count": null,
      "outputs": []
    },
    {
      "cell_type": "code",
      "metadata": {
        "id": "nccrD67dNqW2"
      },
      "source": [
        "item_tag_df.head()"
      ],
      "execution_count": null,
      "outputs": []
    },
    {
      "cell_type": "code",
      "metadata": {
        "id": "B2zJeqi9RrlY"
      },
      "source": [
        "rank_df['rating'] = rank_df['user_rating'].astype(int)"
      ],
      "execution_count": null,
      "outputs": []
    },
    {
      "cell_type": "code",
      "metadata": {
        "id": "-irXvWJ5Nt1l"
      },
      "source": [
        "ratings_df = rank_df\n",
        "books_df = item_tag_df"
      ],
      "execution_count": null,
      "outputs": []
    },
    {
      "cell_type": "code",
      "metadata": {
        "id": "IhF0uLN7P5in"
      },
      "source": [
        "#ratings_df.drop(columns = \"TIMESTAMP\" , inplace=True)\n",
        "ratings_df.drop(columns = \"user_rating\" , inplace=True)"
      ],
      "execution_count": null,
      "outputs": []
    },
    {
      "cell_type": "code",
      "metadata": {
        "id": "ahz7S5pXbkcE"
      },
      "source": [
        "# super hack try as substituing for indexes\n",
        "ratings_df['user_id1'] = list(range(len(ratings_df['user_id'])))\n",
        "ratings_df['product_id1'] = list(range(len(ratings_df['user_id'])))"
      ],
      "execution_count": null,
      "outputs": []
    },
    {
      "cell_type": "code",
      "metadata": {
        "id": "N4yknjnVcJMS"
      },
      "source": [
        "ratings_df.drop(columns = \"user_id\" , inplace=True)\n",
        "ratings_df.drop(columns = \"product_id\" , inplace=True)"
      ],
      "execution_count": null,
      "outputs": []
    },
    {
      "cell_type": "code",
      "metadata": {
        "colab": {
          "base_uri": "https://localhost:8080/"
        },
        "id": "8vq9qwalOEM8",
        "outputId": "1084c540-0374-4ec8-cf4a-12601729d799"
      },
      "source": [
        "print(ratings_df.shape)\n",
        "print(ratings_df.user_id1.nunique())\n",
        "print(ratings_df.product_id1.nunique())\n",
        "ratings_df.isna().sum()"
      ],
      "execution_count": null,
      "outputs": [
        {
          "output_type": "stream",
          "text": [
            "(2411, 3)\n",
            "2411\n",
            "2411\n"
          ],
          "name": "stdout"
        },
        {
          "output_type": "execute_result",
          "data": {
            "text/plain": [
              "rating         0\n",
              "user_id1       0\n",
              "product_id1    0\n",
              "dtype: int64"
            ]
          },
          "metadata": {
            "tags": []
          },
          "execution_count": 807
        }
      ]
    },
    {
      "cell_type": "code",
      "metadata": {
        "colab": {
          "base_uri": "https://localhost:8080/"
        },
        "id": "NBQuhxlDONFg",
        "outputId": "85db410a-1ebc-4869-dfc9-db5dbc315ea1"
      },
      "source": [
        "from sklearn.model_selection import train_test_split\n",
        "\n",
        "Xtrain, Xtest = train_test_split(ratings_df, test_size=0.2, random_state=1)\n",
        "print(f\"Shape of train data: {Xtrain.shape}\")\n",
        "print(f\"Shape of test data: {Xtest.shape}\")"
      ],
      "execution_count": null,
      "outputs": [
        {
          "output_type": "stream",
          "text": [
            "Shape of train data: (1928, 3)\n",
            "Shape of test data: (483, 3)\n"
          ],
          "name": "stdout"
        }
      ]
    },
    {
      "cell_type": "code",
      "metadata": {
        "id": "U22kjItTOa3a"
      },
      "source": [
        "import tensorflow.keras as tf"
      ],
      "execution_count": null,
      "outputs": []
    },
    {
      "cell_type": "code",
      "metadata": {
        "id": "jXG5z0eNOPzC"
      },
      "source": [
        "# create simple nn and run  matrix factorization\n",
        "\n",
        "#Get the number of unique entities in books and users columns\n",
        "nbook_id = ratings_df.product_id1.nunique()\n",
        "nuser_id = ratings_df.user_id1.nunique()\n",
        "\n",
        "\n",
        "#Book input network\n",
        "input_books = tf.layers.Input(shape=[1])\n",
        "embed_books = tf.layers.Embedding(nbook_id + 1,15)(input_books)\n",
        "books_out = tf.layers.Flatten()(embed_books)\n",
        "\n",
        "#user input network\n",
        "input_users = tf.layers.Input(shape=[1])\n",
        "embed_users = tf.layers.Embedding(nuser_id + 1,15)(input_users)\n",
        "users_out = tf.layers.Flatten()(embed_users)\n",
        "\n",
        "conc_layer = tf.layers.Concatenate()([books_out, users_out])\n",
        "x = tf.layers.Dense(128, activation='relu')(conc_layer)\n",
        "x_out = x = tf.layers.Dense(1, activation='relu')(x)\n",
        "\n",
        "model = tf.Model([input_books, input_users], x_out)\n",
        "\n",
        "opt = tf.optimizers.Adam(learning_rate=0.001)\n",
        "model.compile(optimizer=opt, loss='mean_squared_error')\n"
      ],
      "execution_count": null,
      "outputs": []
    },
    {
      "cell_type": "code",
      "metadata": {
        "colab": {
          "base_uri": "https://localhost:8080/"
        },
        "id": "_2_ZfNJ-OgOL",
        "outputId": "50c4d32d-acbe-4c38-f3c7-db14606fb667"
      },
      "source": [
        "model.summary()"
      ],
      "execution_count": null,
      "outputs": [
        {
          "output_type": "stream",
          "text": [
            "Model: \"model_9\"\n",
            "__________________________________________________________________________________________________\n",
            "Layer (type)                    Output Shape         Param #     Connected to                     \n",
            "==================================================================================================\n",
            "input_19 (InputLayer)           [(None, 1)]          0                                            \n",
            "__________________________________________________________________________________________________\n",
            "input_20 (InputLayer)           [(None, 1)]          0                                            \n",
            "__________________________________________________________________________________________________\n",
            "embedding_861 (Embedding)       (None, 1, 15)        36180       input_19[0][0]                   \n",
            "__________________________________________________________________________________________________\n",
            "embedding_862 (Embedding)       (None, 1, 15)        36180       input_20[0][0]                   \n",
            "__________________________________________________________________________________________________\n",
            "flatten_18 (Flatten)            (None, 15)           0           embedding_861[0][0]              \n",
            "__________________________________________________________________________________________________\n",
            "flatten_19 (Flatten)            (None, 15)           0           embedding_862[0][0]              \n",
            "__________________________________________________________________________________________________\n",
            "concatenate_9 (Concatenate)     (None, 30)           0           flatten_18[0][0]                 \n",
            "                                                                 flatten_19[0][0]                 \n",
            "__________________________________________________________________________________________________\n",
            "dense_291 (Dense)               (None, 128)          3968        concatenate_9[0][0]              \n",
            "__________________________________________________________________________________________________\n",
            "dense_292 (Dense)               (None, 1)            129         dense_291[0][0]                  \n",
            "==================================================================================================\n",
            "Total params: 76,457\n",
            "Trainable params: 76,457\n",
            "Non-trainable params: 0\n",
            "__________________________________________________________________________________________________\n"
          ],
          "name": "stdout"
        }
      ]
    },
    {
      "cell_type": "code",
      "metadata": {
        "colab": {
          "base_uri": "https://localhost:8080/"
        },
        "id": "IKebQmKycckc",
        "outputId": "04847f77-e3ae-4e1a-d500-036335719da3"
      },
      "source": [
        "hist = model.fit([Xtrain.product_id1, Xtrain.user_id1], Xtrain.rating,\n",
        "                 batch_size=64,\n",
        "                 epochs=5,\n",
        "                 verbose=1,\n",
        "                 validation_data=([Xtest.product_id1, Xtest.user_id1], Xtest.rating))"
      ],
      "execution_count": null,
      "outputs": [
        {
          "output_type": "stream",
          "text": [
            "Epoch 1/5\n",
            "31/31 [==============================] - 1s 9ms/step - loss: 0.1902 - val_loss: 0.1594\n",
            "Epoch 2/5\n",
            "31/31 [==============================] - 0s 3ms/step - loss: 0.1594 - val_loss: 0.1640\n",
            "Epoch 3/5\n",
            "31/31 [==============================] - 0s 3ms/step - loss: 0.1046 - val_loss: 0.1936\n",
            "Epoch 4/5\n",
            "31/31 [==============================] - 0s 3ms/step - loss: 0.0150 - val_loss: 0.2535\n",
            "Epoch 5/5\n",
            "31/31 [==============================] - 0s 3ms/step - loss: 0.0024 - val_loss: 0.2177\n"
          ],
          "name": "stdout"
        }
      ]
    },
    {
      "cell_type": "code",
      "metadata": {
        "colab": {
          "base_uri": "https://localhost:8080/"
        },
        "id": "SE28HgescpGA",
        "outputId": "aaaa10aa-c4c1-4ca3-af28-c6fee756b76d"
      },
      "source": [
        "\n",
        "hist.history"
      ],
      "execution_count": null,
      "outputs": [
        {
          "output_type": "execute_result",
          "data": {
            "text/plain": [
              "{'loss': [0.1901763677597046,\n",
              "  0.15944528579711914,\n",
              "  0.10457112640142441,\n",
              "  0.014959501102566719,\n",
              "  0.0024223648943006992],\n",
              " 'val_loss': [0.15941385924816132,\n",
              "  0.1639614999294281,\n",
              "  0.1936476081609726,\n",
              "  0.25352194905281067,\n",
              "  0.2177429348230362]}"
            ]
          },
          "metadata": {
            "tags": []
          },
          "execution_count": 815
        }
      ]
    },
    {
      "cell_type": "code",
      "metadata": {
        "colab": {
          "base_uri": "https://localhost:8080/",
          "height": 281
        },
        "id": "OvWvUHYrcuWI",
        "outputId": "be367ce3-4e71-4d88-8af6-72159a135725"
      },
      "source": [
        "train_loss = hist.history['loss']\n",
        "val_loss = hist.history['val_loss']\n",
        "\n",
        "plt.plot(train_loss, color='r', label='Train Loss')\n",
        "plt.plot(val_loss, color='b', label='Validation Loss')\n",
        "plt.title(\"Train and Validation Loss Curve\")\n",
        "plt.legend()\n",
        "plt.savefig(\"loss.png\")\n",
        "plt.show()"
      ],
      "execution_count": null,
      "outputs": [
        {
          "output_type": "display_data",
          "data": {
            "image/png": "[encoded data removed]",
            "text/plain": [
              "<Figure size 432x288 with 1 Axes>"
            ]
          },
          "metadata": {
            "tags": [],
            "needs_background": "light"
          }
        }
      ]
    },
    {
      "cell_type": "code",
      "metadata": {
        "colab": {
          "base_uri": "https://localhost:8080/"
        },
        "id": "kAiejSH7cxaq",
        "outputId": "c1756d55-f61e-4488-de7f-6715c06b86ef"
      },
      "source": [
        "#save the model\n",
        "model.save('model')"
      ],
      "execution_count": null,
      "outputs": [
        {
          "output_type": "stream",
          "text": [
            "INFO:tensorflow:Assets written to: model/assets\n"
          ],
          "name": "stdout"
        },
        {
          "output_type": "stream",
          "text": [
            "INFO:tensorflow:Assets written to: model/assets\n"
          ],
          "name": "stderr"
        }
      ]
    },
    {
      "cell_type": "code",
      "metadata": {
        "colab": {
          "base_uri": "https://localhost:8080/",
          "height": 167
        },
        "id": "bgCwfUtPqVC_",
        "outputId": "aef7dd4d-47a9-4fd9-bf0d-bb5fbfdb11e9"
      },
      "source": [
        "model"
      ],
      "execution_count": null,
      "outputs": [
        {
          "output_type": "error",
          "ename": "NameError",
          "evalue": "ignored",
          "traceback": [
            "\u001b[0;31m---------------------------------------------------------------------------\u001b[0m",
            "\u001b[0;31mNameError\u001b[0m                                 Traceback (most recent call last)",
            "\u001b[0;32m<ipython-input-2-1f8a688cae5d>\u001b[0m in \u001b[0;36m<module>\u001b[0;34m()\u001b[0m\n\u001b[0;32m----> 1\u001b[0;31m \u001b[0mmodel\u001b[0m\u001b[0;34m\u001b[0m\u001b[0;34m\u001b[0m\u001b[0m\n\u001b[0m",
            "\u001b[0;31mNameError\u001b[0m: name 'model' is not defined"
          ]
        }
      ]
    },
    {
      "cell_type": "code",
      "metadata": {
        "colab": {
          "base_uri": "https://localhost:8080/",
          "height": 167
        },
        "id": "E2_QNU1he7MZ",
        "outputId": "a9c1ea2d-acdd-44bb-9cb5-4379495a8cba"
      },
      "source": [
        "files"
      ],
      "execution_count": null,
      "outputs": [
        {
          "output_type": "error",
          "ename": "NameError",
          "evalue": "ignored",
          "traceback": [
            "\u001b[0;31m---------------------------------------------------------------------------\u001b[0m",
            "\u001b[0;31mNameError\u001b[0m                                 Traceback (most recent call last)",
            "\u001b[0;32m<ipython-input-822-ec6206aa1935>\u001b[0m in \u001b[0;36m<module>\u001b[0;34m()\u001b[0m\n\u001b[0;32m----> 1\u001b[0;31m \u001b[0mfiles\u001b[0m\u001b[0;34m\u001b[0m\u001b[0;34m\u001b[0m\u001b[0m\n\u001b[0m",
            "\u001b[0;31mNameError\u001b[0m: name 'files' is not defined"
          ]
        }
      ]
    },
    {
      "cell_type": "code",
      "metadata": {
        "colab": {
          "base_uri": "https://localhost:8080/"
        },
        "id": "mt7-uhXSeGAd",
        "outputId": "93260fa0-9c9f-457a-854d-72a44e3aac9f"
      },
      "source": [
        "dir"
      ],
      "execution_count": null,
      "outputs": [
        {
          "output_type": "execute_result",
          "data": {
            "text/plain": [
              "<function dir>"
            ]
          },
          "metadata": {
            "tags": []
          },
          "execution_count": 821
        }
      ]
    },
    {
      "cell_type": "markdown",
      "metadata": {
        "id": "qlvHSkzspjDO"
      },
      "source": [
        "# Connect to AWS and deploy"
      ]
    },
    {
      "cell_type": "code",
      "metadata": {
        "colab": {
          "base_uri": "https://localhost:8080/"
        },
        "id": "NHtJk0kypng5",
        "outputId": "2d1a9e5a-6625-40aa-f793-4a56bf840f41"
      },
      "source": [
        "# Imports\n",
        "! pip install boto3\n",
        "import boto3\n",
        "import json\n",
        "import numpy as np\n",
        "import pandas as pd\n",
        "import time"
      ],
      "execution_count": null,
      "outputs": [
        {
          "output_type": "stream",
          "text": [
            "Requirement already satisfied: boto3 in /usr/local/lib/python3.7/dist-packages (1.18.19)\n",
            "Requirement already satisfied: s3transfer<0.6.0,>=0.5.0 in /usr/local/lib/python3.7/dist-packages (from boto3) (0.5.0)\n",
            "Requirement already satisfied: botocore<1.22.0,>=1.21.19 in /usr/local/lib/python3.7/dist-packages (from boto3) (1.21.19)\n",
            "Requirement already satisfied: jmespath<1.0.0,>=0.7.1 in /usr/local/lib/python3.7/dist-packages (from boto3) (0.10.0)\n",
            "Requirement already satisfied: python-dateutil<3.0.0,>=2.1 in /usr/local/lib/python3.7/dist-packages (from botocore<1.22.0,>=1.21.19->boto3) (2.8.1)\n",
            "Requirement already satisfied: urllib3<1.27,>=1.25.4 in /usr/local/lib/python3.7/dist-packages (from botocore<1.22.0,>=1.21.19->boto3) (1.26.6)\n",
            "Requirement already satisfied: six>=1.5 in /usr/local/lib/python3.7/dist-packages (from python-dateutil<3.0.0,>=2.1->botocore<1.22.0,>=1.21.19->boto3) (1.15.0)\n"
          ],
          "name": "stdout"
        }
      ]
    },
    {
      "cell_type": "code",
      "metadata": {
        "colab": {
          "base_uri": "https://localhost:8080/",
          "height": 132
        },
        "id": "WV9HMJfMusz6",
        "outputId": "82b0cad8-a376-4778-a3e5-2b42d5a7b8c2"
      },
      "source": [
        "object_url = https://tote-test-recc-model.s3.amazonaws.com/aws_models.zip"
      ],
      "execution_count": null,
      "outputs": [
        {
          "output_type": "error",
          "ename": "SyntaxError",
          "evalue": "ignored",
          "traceback": [
            "\u001b[0;36m  File \u001b[0;32m\"<ipython-input-4-b828451d90aa>\"\u001b[0;36m, line \u001b[0;32m1\u001b[0m\n\u001b[0;31m    npm install @tensorflow/tfjs\u001b[0m\n\u001b[0m              ^\u001b[0m\n\u001b[0;31mSyntaxError\u001b[0m\u001b[0;31m:\u001b[0m invalid syntax\n"
          ]
        }
      ]
    },
    {
      "cell_type": "code",
      "metadata": {
        "colab": {
          "base_uri": "https://localhost:8080/",
          "height": 132
        },
        "id": "Wlt4BWGYss_L",
        "outputId": "74fc4692-c0b3-49ad-e3ff-e8c8bdd15b4d"
      },
      "source": [
        "npm init"
      ],
      "execution_count": null,
      "outputs": [
        {
          "output_type": "error",
          "ename": "SyntaxError",
          "evalue": "ignored",
          "traceback": [
            "\u001b[0;36m  File \u001b[0;32m\"<ipython-input-3-24e439c79df0>\"\u001b[0;36m, line \u001b[0;32m1\u001b[0m\n\u001b[0;31m    npm init\u001b[0m\n\u001b[0m           ^\u001b[0m\n\u001b[0;31mSyntaxError\u001b[0m\u001b[0;31m:\u001b[0m invalid syntax\n"
          ]
        }
      ]
    },
    {
      "cell_type": "code",
      "metadata": {
        "id": "A8aDu7VXqeci"
      },
      "source": [
        "# deploy on lambda"
      ],
      "execution_count": null,
      "outputs": []
    },
    {
      "cell_type": "markdown",
      "metadata": {
        "id": "dzEx1ied3Gxy"
      },
      "source": [
        "# Prepare Data to build ranking model"
      ]
    },
    {
      "cell_type": "markdown",
      "metadata": {
        "id": "XDezo_4N3PzV"
      },
      "source": [
        "note do not suffer same efficiency issues so can use much denser network. This model takes item and user ids and returns predicted ranking."
      ]
    },
    {
      "cell_type": "code",
      "metadata": {
        "id": "IWwT_Ci8BSQ9",
        "colab": {
          "base_uri": "https://localhost:8080/",
          "height": 205
        },
        "outputId": "099ea129-68a2-47c5-936f-04c3f69d3f0e"
      },
      "source": [
        "rank_df = interactions_dataset_df.replace(to_replace=\"WISH\" , value =1)\n",
        "rank_df = rank_df.replace(to_replace=\"DISLIKE\" , value =0)\n",
        "rank_df = rank_df.rename(columns={'EVENT_TYPE': 'user_rating'})\n",
        "rank_df.head()"
      ],
      "execution_count": null,
      "outputs": [
        {
          "output_type": "execute_result",
          "data": {
            "text/html": [
              "<div>\n",
              "<style scoped>\n",
              "    .dataframe tbody tr th:only-of-type {\n",
              "        vertical-align: middle;\n",
              "    }\n",
              "\n",
              "    .dataframe tbody tr th {\n",
              "        vertical-align: top;\n",
              "    }\n",
              "\n",
              "    .dataframe thead th {\n",
              "        text-align: right;\n",
              "    }\n",
              "</style>\n",
              "<table border=\"1\" class=\"dataframe\">\n",
              "  <thead>\n",
              "    <tr style=\"text-align: right;\">\n",
              "      <th></th>\n",
              "      <th>USER_ID</th>\n",
              "      <th>ITEM_ID</th>\n",
              "      <th>TIMESTAMP</th>\n",
              "      <th>user_rating</th>\n",
              "    </tr>\n",
              "  </thead>\n",
              "  <tbody>\n",
              "    <tr>\n",
              "      <th>0</th>\n",
              "      <td>5eb6d78a737d8c0017edc801</td>\n",
              "      <td>5e92133978f479914f162ad8</td>\n",
              "      <td>1.589150e+12</td>\n",
              "      <td>1</td>\n",
              "    </tr>\n",
              "    <tr>\n",
              "      <th>1</th>\n",
              "      <td>5eb6d78a737d8c0017edc801</td>\n",
              "      <td>5e92133878f479914f1629d9</td>\n",
              "      <td>1.589150e+12</td>\n",
              "      <td>1</td>\n",
              "    </tr>\n",
              "    <tr>\n",
              "      <th>2</th>\n",
              "      <td>5eb6d78a737d8c0017edc801</td>\n",
              "      <td>5e92154f78f479914f169b93</td>\n",
              "      <td>1.589150e+12</td>\n",
              "      <td>1</td>\n",
              "    </tr>\n",
              "    <tr>\n",
              "      <th>3</th>\n",
              "      <td>5eb6d78a737d8c0017edc801</td>\n",
              "      <td>5e92135378f479914f163b80</td>\n",
              "      <td>1.589150e+12</td>\n",
              "      <td>1</td>\n",
              "    </tr>\n",
              "    <tr>\n",
              "      <th>4</th>\n",
              "      <td>5eb6d78a737d8c0017edc801</td>\n",
              "      <td>5e92133878f479914f162a3a</td>\n",
              "      <td>1.589150e+12</td>\n",
              "      <td>1</td>\n",
              "    </tr>\n",
              "  </tbody>\n",
              "</table>\n",
              "</div>"
            ],
            "text/plain": [
              "                    USER_ID  ... user_rating\n",
              "0  5eb6d78a737d8c0017edc801  ...           1\n",
              "1  5eb6d78a737d8c0017edc801  ...           1\n",
              "2  5eb6d78a737d8c0017edc801  ...           1\n",
              "3  5eb6d78a737d8c0017edc801  ...           1\n",
              "4  5eb6d78a737d8c0017edc801  ...           1\n",
              "\n",
              "[5 rows x 4 columns]"
            ]
          },
          "metadata": {
            "tags": []
          },
          "execution_count": 20
        }
      ]
    },
    {
      "cell_type": "code",
      "metadata": {
        "id": "BG8Q_7xoCq9w"
      },
      "source": [
        "# Create dictionary to access items in DF while mantaining user id\n",
        "c_r = rank_df.reset_index()\n",
        "ratings_dict_rank = c_r.to_dict('list')\n",
        "# convert to TF data objects\n",
        "interaction_dataset_rank = tf.data.Dataset.from_tensor_slices(ratings_dict_rank)"
      ],
      "execution_count": null,
      "outputs": []
    },
    {
      "cell_type": "code",
      "metadata": {
        "id": "1tv8MoFyBC6v"
      },
      "source": [
        "# HERE WE REOBTAIN RATINGS TF DATA OBJECT INCLUDING PREDICTIONS\n",
        "ratings_rank = interaction_dataset_rank.map(lambda x: {\n",
        "    \"ITEM_ID\": x[\"ITEM_ID\"],\n",
        "    \"USER_ID\": x[\"USER_ID\"],\n",
        "    \"user_rating\": x[\"user_rating\"],\n",
        "})\n",
        "\n"
      ],
      "execution_count": null,
      "outputs": []
    },
    {
      "cell_type": "code",
      "metadata": {
        "id": "Dlnh_5QkDc2C"
      },
      "source": [
        "# Here we do 80-20 train test split\n",
        "tf.random.set_seed(42)\n",
        "shuffled = ratings_rank.shuffle(100_000, seed=42, reshuffle_each_iteration=False)\n",
        "\n",
        "len(shuffled)\n",
        "train_n = np.int(.8*len(shuffled))\n",
        "test_n = np.int(.2* len(shuffled))\n",
        "\n",
        "train_rank = shuffled.take(train_n)\n",
        "test_rank = shuffled.skip(train_n).take(test_n)\n",
        "\n"
      ],
      "execution_count": null,
      "outputs": []
    },
    {
      "cell_type": "code",
      "metadata": {
        "id": "TzzzVmbZ3L7g"
      },
      "source": [
        "class RankingModel(tf.keras.Model):\n",
        "\n",
        "  def __init__(self):\n",
        "    super().__init__()\n",
        "    embedding_dimension = 32\n",
        "\n",
        "    # Compute embeddings for users.\n",
        "    self.user_embeddings = tf.keras.Sequential([\n",
        "      tf.keras.layers.experimental.preprocessing.StringLookup(\n",
        "        vocabulary=unique_user_ids, mask_token=None),\n",
        "      tf.keras.layers.Embedding(len(unique_user_ids) + 1, embedding_dimension)\n",
        "    ])\n",
        "\n",
        "    # Compute embeddings for movies.\n",
        "    self.item_embeddings = tf.keras.Sequential([\n",
        "      tf.keras.layers.experimental.preprocessing.StringLookup(\n",
        "        vocabulary=unique_item_ids, mask_token=None),\n",
        "      tf.keras.layers.Embedding(len(unique_item_ids) + 1, embedding_dimension)\n",
        "    ])\n",
        "\n",
        "    # Compute predictions.\n",
        "    self.ratings = tf.keras.Sequential([\n",
        "      # Learn multiple dense layers.\n",
        "      tf.keras.layers.Dense(256, activation=\"relu\"),\n",
        "      tf.keras.layers.Dense(64, activation=\"relu\"),\n",
        "      # Make rating predictions in the final layer.\n",
        "      tf.keras.layers.Dense(1)\n",
        "  ])\n",
        "\n",
        "  def call(self, inputs):\n",
        "\n",
        "    user_id, item_id= inputs\n",
        "\n",
        "    user_embedding = self.user_embeddings(user_id)\n",
        "    item_embedding = self.item_embeddings(item_id)\n",
        "\n",
        "    return self.ratings(tf.concat([user_embedding, item_embedding], axis=1))"
      ],
      "execution_count": null,
      "outputs": []
    },
    {
      "cell_type": "code",
      "metadata": {
        "id": "3Fs-rW-o33OO"
      },
      "source": [
        "task_rank = tfrs.tasks.Ranking(\n",
        "  loss = tf.keras.losses.MeanSquaredError(),\n",
        "  metrics=[tf.keras.metrics.RootMeanSquaredError()]\n",
        ")"
      ],
      "execution_count": null,
      "outputs": []
    },
    {
      "cell_type": "markdown",
      "metadata": {
        "id": "NFSQyIY6A_pK"
      },
      "source": [
        "# Instantiate and train model with ranking"
      ]
    },
    {
      "cell_type": "code",
      "metadata": {
        "id": "tERqmzrx_bDQ"
      },
      "source": [
        "# base version of the sameincluding ranking\n",
        "class ToteOldTaxModelRank(tfrs.models.Model):\n",
        "\n",
        "  def __init__(self):\n",
        "    super().__init__()\n",
        "    self.ranking_model: tf.keras.Model = RankingModel()\n",
        "    self.task: tf.keras.layers.Layer = tfrs.tasks.Ranking(\n",
        "      loss = tf.keras.losses.MeanSquaredError(),\n",
        "      metrics=[tf.keras.metrics.RootMeanSquaredError()]\n",
        "    )\n",
        "\n",
        "  def compute_loss(self, features: Dict[Text, tf.Tensor], training=False) -> tf.Tensor:\n",
        "    rating_predictions = self.ranking_model((features[\"USER_ID\"], features[\"ITEM_ID\"]))\n",
        "\n",
        "    # The task computes the loss and the metrics.\n",
        "    return self.task(labels=features[\"user_rating\"], predictions=rating_predictions)"
      ],
      "execution_count": null,
      "outputs": []
    },
    {
      "cell_type": "code",
      "metadata": {
        "id": "dpEcic4eETn2"
      },
      "source": [
        "#instantiate version of model\n",
        "model_rank = ToteOldTaxModelRank()\n",
        "model_rank.compile(optimizer=tf.keras.optimizers.Adagrad(learning_rate=0.1))"
      ],
      "execution_count": null,
      "outputs": []
    },
    {
      "cell_type": "code",
      "metadata": {
        "id": "Ss7Mye_eErl9"
      },
      "source": [
        "cached_train_rank = train_rank.shuffle(100_000).batch(8192).cache()\n",
        "cached_test_rank = test_rank.batch(4096).cache()"
      ],
      "execution_count": null,
      "outputs": []
    },
    {
      "cell_type": "code",
      "metadata": {
        "colab": {
          "base_uri": "https://localhost:8080/"
        },
        "id": "SHw9zZpME53M",
        "outputId": "75a25c97-a08f-448a-9655-6d7b7f3184e8"
      },
      "source": [
        "# train model\n",
        "model_rank.fit(cached_train_rank, epochs=3)"
      ],
      "execution_count": null,
      "outputs": [
        {
          "output_type": "stream",
          "text": [
            "Epoch 1/3\n",
            "1/1 [==============================] - 1s 1s/step - root_mean_squared_error: 0.4603 - loss: 0.2119 - regularization_loss: 0.0000e+00 - total_loss: 0.2119\n",
            "Epoch 2/3\n",
            "1/1 [==============================] - 0s 17ms/step - root_mean_squared_error: 0.4153 - loss: 0.1725 - regularization_loss: 0.0000e+00 - total_loss: 0.1725\n",
            "Epoch 3/3\n",
            "1/1 [==============================] - 0s 21ms/step - root_mean_squared_error: 0.4142 - loss: 0.1715 - regularization_loss: 0.0000e+00 - total_loss: 0.1715\n"
          ],
          "name": "stdout"
        },
        {
          "output_type": "execute_result",
          "data": {
            "text/plain": [
              "<tensorflow.python.keras.callbacks.History at 0x7f1e2ad7fed0>"
            ]
          },
          "metadata": {
            "tags": []
          },
          "execution_count": 34
        }
      ]
    },
    {
      "cell_type": "code",
      "metadata": {
        "colab": {
          "base_uri": "https://localhost:8080/"
        },
        "id": "tEo1lMHvFQX9",
        "outputId": "481bf928-b5de-4425-998d-c460bbdab393"
      },
      "source": [
        "# now check ability of model to assess\n",
        "model_rank.evaluate(cached_test_rank, return_dict=True)"
      ],
      "execution_count": null,
      "outputs": [
        {
          "output_type": "stream",
          "text": [
            "1/1 [==============================] - 0s 222ms/step - root_mean_squared_error: 0.3979 - loss: 0.1583 - regularization_loss: 0.0000e+00 - total_loss: 0.1583\n"
          ],
          "name": "stdout"
        },
        {
          "output_type": "execute_result",
          "data": {
            "text/plain": [
              "{'loss': 0.15831612050533295,\n",
              " 'regularization_loss': 0,\n",
              " 'root_mean_squared_error': 0.3978895843029022,\n",
              " 'total_loss': 0.15831612050533295}"
            ]
          },
          "metadata": {
            "tags": []
          },
          "execution_count": 35
        }
      ]
    },
    {
      "cell_type": "code",
      "metadata": {
        "id": "mUVZLPF6QSud"
      },
      "source": [],
      "execution_count": null,
      "outputs": []
    },
    {
      "cell_type": "markdown",
      "metadata": {
        "id": "1afdS62FQ3GE"
      },
      "source": [
        "# Comvine ranking and Retrieval into single model"
      ]
    },
    {
      "cell_type": "code",
      "metadata": {
        "id": "ehPMoyJqRTI7"
      },
      "source": [
        "# start with query tower, determine dimensions of candidate and query representation\n",
        "embedding_dimension = 32"
      ],
      "execution_count": null,
      "outputs": []
    },
    {
      "cell_type": "code",
      "metadata": {
        "id": "hH2gF1KARMJ9"
      },
      "source": [
        "user_model = tf.keras.Sequential([\n",
        "  tf.keras.layers.experimental.preprocessing.StringLookup(\n",
        "      vocabulary=unique_user_ids, mask_token=None),\n",
        "  # We add an additional embedding to account for unknown tokens.\n",
        "  tf.keras.layers.Embedding(len(unique_user_ids) + 1, embedding_dimension)\n",
        "])"
      ],
      "execution_count": null,
      "outputs": []
    },
    {
      "cell_type": "code",
      "metadata": {
        "id": "qIf98NwCQ_AL"
      },
      "source": [
        "# do same for item model\n",
        "item_model = tf.keras.Sequential([\n",
        "  tf.keras.layers.experimental.preprocessing.StringLookup(\n",
        "      vocabulary=unique_item_ids, mask_token=None),\n",
        "  tf.keras.layers.Embedding(len(unique_item_ids) + 1, embedding_dimension)\n",
        "])"
      ],
      "execution_count": null,
      "outputs": []
    },
    {
      "cell_type": "markdown",
      "metadata": {
        "id": "wie2nG74RYVQ"
      },
      "source": [
        "However, we now have 2 tasks instead of a single one like before. First is to predict ratings, second to retrieve the best reccomendations"
      ]
    },
    {
      "cell_type": "code",
      "metadata": {
        "colab": {
          "base_uri": "https://localhost:8080/"
        },
        "id": "HY01PE4QRX3e",
        "outputId": "b1b001d7-e6ed-4460-b963-cb9da492cb89"
      },
      "source": [
        "tfrs.tasks.Ranking(\n",
        "    loss=tf.keras.losses.MeanSquaredError(),\n",
        "    metrics=[tf.keras.metrics.RootMeanSquaredError()],\n",
        ")"
      ],
      "execution_count": null,
      "outputs": [
        {
          "output_type": "execute_result",
          "data": {
            "text/plain": [
              "<tensorflow_recommenders.tasks.ranking.Ranking at 0x7f1e29abedd0>"
            ]
          },
          "metadata": {
            "tags": []
          },
          "execution_count": 39
        }
      ]
    },
    {
      "cell_type": "code",
      "metadata": {
        "colab": {
          "base_uri": "https://localhost:8080/"
        },
        "id": "61NB1I1eRfOi",
        "outputId": "204f2156-3e20-4156-d6d9-c1c1e45c5e50"
      },
      "source": [
        "tfrs.tasks.Retrieval(\n",
        "    metrics=tfrs.metrics.FactorizedTopK(\n",
        "        candidates=items.batch(128)\n",
        "    )\n",
        ")"
      ],
      "execution_count": null,
      "outputs": [
        {
          "output_type": "execute_result",
          "data": {
            "text/plain": [
              "<tensorflow_recommenders.tasks.retrieval.Retrieval at 0x7f1e29af0490>"
            ]
          },
          "metadata": {
            "tags": []
          },
          "execution_count": 41
        }
      ]
    },
    {
      "cell_type": "markdown",
      "metadata": {
        "id": "Qqq4bpPmR360"
      },
      "source": [
        "NOW we put everything together in a single model class"
      ]
    },
    {
      "cell_type": "code",
      "metadata": {
        "id": "gL0W1uC3R3EO"
      },
      "source": [
        "class ToteJointModel(tfrs.models.Model):\n",
        "\n",
        "  def __init__(self, rating_weight: float, retrieval_weight: float) -> None:\n",
        "    # We take the loss weights in the constructor: this allows us to instantiate\n",
        "    # several model objects with different loss weights.\n",
        "\n",
        "    super().__init__()\n",
        "\n",
        "    embedding_dimension = 32\n",
        "\n",
        "    # User and item models.\n",
        "    self.item_model : tf.keras.layers.Layer = tf.keras.Sequential([\n",
        "      tf.keras.layers.experimental.preprocessing.StringLookup(\n",
        "          vocabulary=unique_item_ids, mask_token=None),\n",
        "      tf.keras.layers.Embedding(len(unique_item_ids) + 1, embedding_dimension)\n",
        "    ])\n",
        "    self.user_model: tf.keras.layers.Layer = tf.keras.Sequential([\n",
        "      tf.keras.layers.experimental.preprocessing.StringLookup(\n",
        "          vocabulary=unique_user_ids, mask_token=None),\n",
        "      # We add an additional embedding to account for unknown tokens.\n",
        "      tf.keras.layers.Embedding(len(unique_user_ids) + 1, embedding_dimension)\n",
        "    ])\n",
        "\n",
        "    # A small model to take in user anditem embeddings and predict ratings.\n",
        "    # We can make this as complicated as we want as long as we output a scalar\n",
        "    # as our prediction.\n",
        "    self.rating_model = tf.keras.Sequential([\n",
        "        tf.keras.layers.Dense(256, activation=\"relu\"),\n",
        "        tf.keras.layers.Dense(128, activation=\"relu\"),\n",
        "        tf.keras.layers.Dense(1),\n",
        "    ])\n",
        "\n",
        "    # The tasks.\n",
        "    self.rating_task: tf.keras.layers.Layer = tfrs.tasks.Ranking(\n",
        "        loss=tf.keras.losses.MeanSquaredError(),\n",
        "        metrics=[tf.keras.metrics.RootMeanSquaredError()],\n",
        "    )\n",
        "    self.retrieval_task: tf.keras.layers.Layer = tfrs.tasks.Retrieval(\n",
        "        metrics=tfrs.metrics.FactorizedTopK(\n",
        "            candidates=items.batch(128).map(self.item_model)\n",
        "        )\n",
        "    )\n",
        "\n",
        "    # The loss weights.\n",
        "    self.rating_weight = rating_weight\n",
        "    self.retrieval_weight = retrieval_weight\n",
        "\n",
        "  def call(self, features: Dict[Text, tf.Tensor]) -> tf.Tensor:\n",
        "    # We pick out the user features and pass them into the user model.\n",
        "    user_embeddings = self.user_model(features[\"USER_ID\"])\n",
        "    # And pick out the item ID and pass them into the movie model.\n",
        "    item_embeddings = self.item_model(features[\"ITEM_ID\"])\n",
        "\n",
        "    return (\n",
        "        user_embeddings,\n",
        "        item_embeddings,\n",
        "        # We apply the multi-layered rating model to a concatentation of\n",
        "        # user and movie embeddings.\n",
        "        self.rating_model(\n",
        "            tf.concat([user_embeddings, item_embeddings], axis=1)\n",
        "        ),\n",
        "    )\n",
        "\n",
        "  def compute_loss(self, features: Dict[Text, tf.Tensor], training=False) -> tf.Tensor:\n",
        "\n",
        "    ratings = features.pop(\"user_rating\")\n",
        "\n",
        "    user_embeddings, item_embeddings, rating_predictions = self(features)\n",
        "\n",
        "    # We compute the loss for each task.\n",
        "    rating_loss = self.rating_task(\n",
        "        labels=ratings,\n",
        "        predictions=rating_predictions,\n",
        "    )\n",
        "    retrieval_loss = self.retrieval_task(user_embeddings, item_embeddings)\n",
        "\n",
        "    # And combine them using the loss weights.\n",
        "    return (self.rating_weight * rating_loss\n",
        "\n",
        "            + self.retrieval_weight * retrieval_loss)"
      ],
      "execution_count": null,
      "outputs": []
    },
    {
      "cell_type": "markdown",
      "metadata": {
        "id": "2hanriv3T98V"
      },
      "source": [
        "start by assessing model only focused on ranking"
      ]
    },
    {
      "cell_type": "code",
      "metadata": {
        "id": "QyUFV8tUUOyO"
      },
      "source": [
        "cached_train_rank = train_rank.shuffle(100_000).batch(8192).cache()\n",
        "cached_test_rank = test_rank.batch(4096).cache()"
      ],
      "execution_count": null,
      "outputs": []
    },
    {
      "cell_type": "code",
      "metadata": {
        "id": "7HUuhcWLT5LC"
      },
      "source": [
        "model = ToteJointModel(rating_weight=1.0, retrieval_weight=0.0)\n",
        "model.compile(optimizer=tf.keras.optimizers.Adagrad(0.1))"
      ],
      "execution_count": null,
      "outputs": []
    },
    {
      "cell_type": "code",
      "metadata": {
        "colab": {
          "base_uri": "https://localhost:8080/"
        },
        "id": "IXF2yvAIUGBi",
        "outputId": "a3859797-6043-47ff-f401-2daf78ce3a06"
      },
      "source": [
        "model.fit(cached_train_rank, epochs=3)\n",
        "metrics = model.evaluate(cached_test_rank, return_dict=True)\n",
        "\n",
        "print(f\"Retrieval top-100 accuracy: {metrics['factorized_top_k/top_100_categorical_accuracy']:.3f}.\")\n",
        "print(f\"Ranking RMSE: {metrics['root_mean_squared_error']:.3f}.\")"
      ],
      "execution_count": null,
      "outputs": [
        {
          "output_type": "stream",
          "text": [
            "Epoch 1/3\n",
            "WARNING:tensorflow:From /usr/local/lib/python3.7/dist-packages/tensorflow/python/ops/array_ops.py:5049: calling gather (from tensorflow.python.ops.array_ops) with validate_indices is deprecated and will be removed in a future version.\n",
            "Instructions for updating:\n",
            "The `validate_indices` argument has no effect. Indices are always validated on CPU and never validated on GPU.\n",
            "1/1 [==============================] - 2s 2s/step - root_mean_squared_error: 0.4755 - factorized_top_k/top_1_categorical_accuracy: 0.0010 - factorized_top_k/top_5_categorical_accuracy: 0.0073 - factorized_top_k/top_10_categorical_accuracy: 0.0135 - factorized_top_k/top_50_categorical_accuracy: 0.0794 - factorized_top_k/top_100_categorical_accuracy: 0.1810 - loss: 0.2261 - regularization_loss: 0.0000e+00 - total_loss: 0.2261\n",
            "Epoch 2/3\n",
            "1/1 [==============================] - 0s 226ms/step - root_mean_squared_error: 0.4170 - factorized_top_k/top_1_categorical_accuracy: 0.0000e+00 - factorized_top_k/top_5_categorical_accuracy: 0.0062 - factorized_top_k/top_10_categorical_accuracy: 0.0135 - factorized_top_k/top_50_categorical_accuracy: 0.0794 - factorized_top_k/top_100_categorical_accuracy: 0.1836 - loss: 0.1739 - regularization_loss: 0.0000e+00 - total_loss: 0.1739\n",
            "Epoch 3/3\n",
            "1/1 [==============================] - 0s 222ms/step - root_mean_squared_error: 0.4150 - factorized_top_k/top_1_categorical_accuracy: 0.0000e+00 - factorized_top_k/top_5_categorical_accuracy: 0.0052 - factorized_top_k/top_10_categorical_accuracy: 0.0135 - factorized_top_k/top_50_categorical_accuracy: 0.0809 - factorized_top_k/top_100_categorical_accuracy: 0.1831 - loss: 0.1722 - regularization_loss: 0.0000e+00 - total_loss: 0.1722\n",
            "1/1 [==============================] - 0s 495ms/step - root_mean_squared_error: 0.3979 - factorized_top_k/top_1_categorical_accuracy: 0.0000e+00 - factorized_top_k/top_5_categorical_accuracy: 0.0062 - factorized_top_k/top_10_categorical_accuracy: 0.0228 - factorized_top_k/top_50_categorical_accuracy: 0.0726 - factorized_top_k/top_100_categorical_accuracy: 0.1660 - loss: 0.1584 - regularization_loss: 0.0000e+00 - total_loss: 0.1584\n",
            "Retrieval top-100 accuracy: 0.166.\n",
            "Ranking RMSE: 0.398.\n"
          ],
          "name": "stdout"
        }
      ]
    },
    {
      "cell_type": "markdown",
      "metadata": {
        "id": "dTchfO4vUhKm"
      },
      "source": [
        "#COMPARE WITH solution only focused on retrieval- in our case seems to improve performance of both"
      ]
    },
    {
      "cell_type": "code",
      "metadata": {
        "colab": {
          "base_uri": "https://localhost:8080/"
        },
        "id": "C4vesctMUg4J",
        "outputId": "fa8ebaf3-e55e-48b0-dc2c-581e0b5314d8"
      },
      "source": [
        "model = ToteJointModel(rating_weight=0.0, retrieval_weight=1.0)\n",
        "model.compile(optimizer=tf.keras.optimizers.Adagrad(0.1))\n",
        "model.fit(cached_train_rank, epochs=3)\n",
        "metrics = model.evaluate(cached_test_rank, return_dict=True)\n",
        "\n",
        "print(f\"Retrieval top-100 accuracy: {metrics['factorized_top_k/top_100_categorical_accuracy']:.3f}.\")\n",
        "print(f\"Ranking RMSE: {metrics['root_mean_squared_error']:.3f}.\")"
      ],
      "execution_count": null,
      "outputs": [
        {
          "output_type": "stream",
          "text": [
            "Epoch 1/3\n",
            "1/1 [==============================] - 1s 1s/step - root_mean_squared_error: 0.4696 - factorized_top_k/top_1_categorical_accuracy: 0.0000e+00 - factorized_top_k/top_5_categorical_accuracy: 5.1867e-04 - factorized_top_k/top_10_categorical_accuracy: 5.1867e-04 - factorized_top_k/top_50_categorical_accuracy: 0.0218 - factorized_top_k/top_100_categorical_accuracy: 0.1048 - loss: 14583.8369 - regularization_loss: 0.0000e+00 - total_loss: 14583.8369\n",
            "Epoch 2/3\n",
            "1/1 [==============================] - 0s 239ms/step - root_mean_squared_error: 0.4718 - factorized_top_k/top_1_categorical_accuracy: 0.0000e+00 - factorized_top_k/top_5_categorical_accuracy: 0.0062 - factorized_top_k/top_10_categorical_accuracy: 0.0233 - factorized_top_k/top_50_categorical_accuracy: 0.1955 - factorized_top_k/top_100_categorical_accuracy: 0.4274 - loss: 14546.0107 - regularization_loss: 0.0000e+00 - total_loss: 14546.0107\n",
            "Epoch 3/3\n",
            "1/1 [==============================] - 0s 230ms/step - root_mean_squared_error: 0.4786 - factorized_top_k/top_1_categorical_accuracy: 0.0000e+00 - factorized_top_k/top_5_categorical_accuracy: 0.0083 - factorized_top_k/top_10_categorical_accuracy: 0.0342 - factorized_top_k/top_50_categorical_accuracy: 0.3148 - factorized_top_k/top_100_categorical_accuracy: 0.7012 - loss: 14278.0859 - regularization_loss: 0.0000e+00 - total_loss: 14278.0859\n",
            "1/1 [==============================] - 0s 444ms/step - root_mean_squared_error: 0.4551 - factorized_top_k/top_1_categorical_accuracy: 0.0187 - factorized_top_k/top_5_categorical_accuracy: 0.1141 - factorized_top_k/top_10_categorical_accuracy: 0.2158 - factorized_top_k/top_50_categorical_accuracy: 0.5249 - factorized_top_k/top_100_categorical_accuracy: 0.6846 - loss: 2831.6521 - regularization_loss: 0.0000e+00 - total_loss: 2831.6521\n",
            "Retrieval top-100 accuracy: 0.685.\n",
            "Ranking RMSE: 0.455.\n"
          ],
          "name": "stdout"
        }
      ]
    },
    {
      "cell_type": "markdown",
      "metadata": {
        "id": "wp4Pvm4zU6XX"
      },
      "source": [
        "#TRY VERSION WITH EQUAL WEIGHTS TO BOTH TASKS. Performance improves on retrieval but similar for ranking"
      ]
    },
    {
      "cell_type": "code",
      "metadata": {
        "colab": {
          "base_uri": "https://localhost:8080/"
        },
        "id": "YNMI_uTIU82X",
        "outputId": "e33c5c82-bf09-40a4-c2a1-ac1a22075a62"
      },
      "source": [
        "model = ToteJointModel(rating_weight=1.0, retrieval_weight=1.0)\n",
        "model.compile(optimizer=tf.keras.optimizers.Adagrad(0.1))\n",
        "model.fit(cached_train_rank, epochs=3)\n",
        "metrics = model.evaluate(cached_test_rank, return_dict=True)\n",
        "\n",
        "print(f\"Retrieval top-100 accuracy: {metrics['factorized_top_k/top_100_categorical_accuracy']:.3f}.\")\n",
        "print(f\"Ranking RMSE: {metrics['root_mean_squared_error']:.3f}.\")"
      ],
      "execution_count": null,
      "outputs": [
        {
          "output_type": "stream",
          "text": [
            "Epoch 1/3\n",
            "1/1 [==============================] - 1s 1s/step - root_mean_squared_error: 0.4791 - factorized_top_k/top_1_categorical_accuracy: 0.0000e+00 - factorized_top_k/top_5_categorical_accuracy: 0.0000e+00 - factorized_top_k/top_10_categorical_accuracy: 0.0010 - factorized_top_k/top_50_categorical_accuracy: 0.0441 - factorized_top_k/top_100_categorical_accuracy: 0.1255 - loss: 14583.8369 - regularization_loss: 0.0000e+00 - total_loss: 14583.8369\n",
            "Epoch 2/3\n",
            "1/1 [==============================] - 0s 244ms/step - root_mean_squared_error: 0.4230 - factorized_top_k/top_1_categorical_accuracy: 0.0000e+00 - factorized_top_k/top_5_categorical_accuracy: 0.0052 - factorized_top_k/top_10_categorical_accuracy: 0.0119 - factorized_top_k/top_50_categorical_accuracy: 0.2194 - factorized_top_k/top_100_categorical_accuracy: 0.4658 - loss: 14544.8408 - regularization_loss: 0.0000e+00 - total_loss: 14544.8408\n",
            "Epoch 3/3\n",
            "1/1 [==============================] - 0s 222ms/step - root_mean_squared_error: 0.4171 - factorized_top_k/top_1_categorical_accuracy: 0.0000e+00 - factorized_top_k/top_5_categorical_accuracy: 0.0104 - factorized_top_k/top_10_categorical_accuracy: 0.0296 - factorized_top_k/top_50_categorical_accuracy: 0.3651 - factorized_top_k/top_100_categorical_accuracy: 0.7438 - loss: 14281.9668 - regularization_loss: 0.0000e+00 - total_loss: 14281.9668\n",
            "1/1 [==============================] - 0s 453ms/step - root_mean_squared_error: 0.4024 - factorized_top_k/top_1_categorical_accuracy: 0.0145 - factorized_top_k/top_5_categorical_accuracy: 0.1079 - factorized_top_k/top_10_categorical_accuracy: 0.2178 - factorized_top_k/top_50_categorical_accuracy: 0.5415 - factorized_top_k/top_100_categorical_accuracy: 0.7012 - loss: 2827.5720 - regularization_loss: 0.0000e+00 - total_loss: 2827.5720\n",
            "Retrieval top-100 accuracy: 0.701.\n",
            "Ranking RMSE: 0.402.\n"
          ],
          "name": "stdout"
        }
      ]
    },
    {
      "cell_type": "markdown",
      "metadata": {
        "id": "EVgui4LeVilC"
      },
      "source": [
        "Acess some reccomendations using SCANN"
      ]
    },
    {
      "cell_type": "code",
      "metadata": {
        "colab": {
          "base_uri": "https://localhost:8080/"
        },
        "id": "696AYB3RVCSO",
        "outputId": "1ad8be1c-9b39-482c-9c28-c607cb867045"
      },
      "source": [
        "scann_index = tfrs.layers.factorized_top_k.ScaNN(model.user_model)\n",
        "scann_index.index(items.batch(100).map(model.item_model), items)"
      ],
      "execution_count": null,
      "outputs": [
        {
          "output_type": "execute_result",
          "data": {
            "text/plain": [
              "<tensorflow_recommenders.layers.factorized_top_k.ScaNN at 0x7f1e20ffab50>"
            ]
          },
          "metadata": {
            "tags": []
          },
          "execution_count": 52
        }
      ]
    },
    {
      "cell_type": "code",
      "metadata": {
        "colab": {
          "base_uri": "https://localhost:8080/"
        },
        "id": "IBG3_MJLVx3a",
        "outputId": "1b080e53-9b5f-4934-eb01-b3857b82f1cb"
      },
      "source": [
        "_, reccomended_ids = scann_index(tf.constant([\"42\"]))\n",
        "print(reccomended_ids)"
      ],
      "execution_count": null,
      "outputs": [
        {
          "output_type": "stream",
          "text": [
            "tf.Tensor(\n",
            "[[b'5e92185a78f479914f171e81' b'5e92195578f479914f175996'\n",
            "  b'5e92196178f479914f176382' b'5e921d0f78f479914f1821f9'\n",
            "  b'5e92195e78f479914f176100' b'5e92195c78f479914f175f6e'\n",
            "  b'5e921b9578f479914f17c6e2' b'5e921d1b78f479914f182bb1'\n",
            "  b'5e921d2378f479914f183181' b'5e921df078f479914f185e0e']], shape=(1, 10), dtype=string)\n"
          ],
          "name": "stdout"
        }
      ]
    },
    {
      "cell_type": "code",
      "metadata": {
        "colab": {
          "base_uri": "https://localhost:8080/"
        },
        "id": "h56Gqheiary7",
        "outputId": "d51fed02-fb6c-4c53-b373-2836974b7305"
      },
      "source": [
        "_, reccomended_ids = scann_index(tf.constant([\"200\"]))\n",
        "print(reccomended_ids)"
      ],
      "execution_count": null,
      "outputs": [
        {
          "output_type": "stream",
          "text": [
            "tf.Tensor(\n",
            "[[b'5e92185a78f479914f171e81' b'5e92195578f479914f175996'\n",
            "  b'5e92196178f479914f176382' b'5e921d0f78f479914f1821f9'\n",
            "  b'5e92195e78f479914f176100' b'5e92195c78f479914f175f6e'\n",
            "  b'5e921b9578f479914f17c6e2' b'5e921d1b78f479914f182bb1'\n",
            "  b'5e921d2378f479914f183181' b'5e921df078f479914f185e0e']], shape=(1, 10), dtype=string)\n"
          ],
          "name": "stdout"
        }
      ]
    },
    {
      "cell_type": "code",
      "metadata": {
        "id": "i9-H_JRMaC18"
      },
      "source": [
        "def gallery_top_n_reccs_SCANN_model(user_index, n_reccs, model):\n",
        "    scann_index = tfrs.layers.factorized_top_k.ScaNN(model.user_model)\n",
        "    scann_index.index(items.batch(100).map(model.item_model), items)\n",
        "    _, reccomended_ids = scann_index(tf.constant([\"user_index\"]))\n",
        "    image_urls = []\n",
        "    for i in range(n_reccs):\n",
        "      item_id_n = reccomended_ids[0][i].numpy().decode()\n",
        "      item = find_item(item_id_n)\n",
        "      image_urls.append(item['header_img'])\n",
        "\n",
        "    return gallery(image_urls, '200px')"
      ],
      "execution_count": null,
      "outputs": []
    },
    {
      "cell_type": "code",
      "metadata": {
        "colab": {
          "base_uri": "https://localhost:8080/",
          "height": 483
        },
        "id": "Qn0PnTLYaO7W",
        "outputId": "2c97a742-ca69-4086-be77-aafbc04a981f"
      },
      "source": [
        "gallery_top_n_reccs_SCANN_model(100,10 , model)"
      ],
      "execution_count": null,
      "outputs": [
        {
          "output_type": "stream",
          "text": [
            "WARNING:tensorflow:6 out of the last 16 calls to <function ScannState.recreate_handle at 0x7f1e20eab5f0> triggered tf.function retracing. Tracing is expensive and the excessive number of tracings could be due to (1) creating @tf.function repeatedly in a loop, (2) passing tensors with different shapes, (3) passing Python objects instead of tensors. For (1), please define your @tf.function outside of the loop. For (2), @tf.function has experimental_relax_shapes=True option that relaxes argument shapes that can avoid unnecessary retracing. For (3), please refer to https://www.tensorflow.org/guide/function#controlling_retracing and https://www.tensorflow.org/api_docs/python/tf/function for  more details.\n"
          ],
          "name": "stdout"
        },
        {
          "output_type": "execute_result",
          "data": {
            "text/html": [
              "\n",
              "        <div style=\"display: flex; flex-flow: row wrap; text-align: center;\">\n",
              "        \n",
              "            <figure style=\"margin: 5px !important;\">\n",
              "              <img src=\"https://lp2.hm.com/hmgoepprod?set=source[/d9/65/d96582cb45e797fc97d5491b7f242186ac15be81.jpg],origin[dam],category[Ladies_skirts_denim],type[DESCRIPTIVESTILLLIFE],res[m],hmver[1]&call=url[file:/product/style]\" style=\"height: 200px\">\n",
              "            </figure>\n",
              "        \n",
              "            <figure style=\"margin: 5px !important;\">\n",
              "              <img src=\"https://lp2.hm.com/hmgoepprod?set=source[/cb/40/cb408edd1425caa3948c154bc3508383ff8777af.jpg],origin[dam],category[ladies_skirts_shortskirts],type[DESCRIPTIVESTILLLIFE],res[m],hmver[1]&call=url[file:/product/style]\" style=\"height: 200px\">\n",
              "            </figure>\n",
              "        \n",
              "            <figure style=\"margin: 5px !important;\">\n",
              "              <img src=\"https://lp2.hm.com/hmgoepprod?set=source[/fb/f0/fbf08cb038c87cab1232c20030edd9e51c895ecc.jpg],origin[dam],category[ladies_trousers],type[DESCRIPTIVESTILLLIFE],res[m],hmver[1]&call=url[file:/product/style]\" style=\"height: 200px\">\n",
              "            </figure>\n",
              "        \n",
              "            <figure style=\"margin: 5px !important;\">\n",
              "              <img src=\"https://lp2.hm.com/hmgoepprod?set=source[/84/c0/84c0661fc7f3384b8e31333f858e475f81ec8805.jpg],origin[dam],category[ladies_dresses_shortdresses],type[DESCRIPTIVESTILLLIFE],res[m],hmver[1]&call=url[file:/product/style]\" style=\"height: 200px\">\n",
              "            </figure>\n",
              "        \n",
              "            <figure style=\"margin: 5px !important;\">\n",
              "              <img src=\"https://lp2.hm.com/hmgoepprod?set=source[/23/f7/23f75d5330bb23213fb46d74b06fa0446f8f41e9.jpg],origin[dam],category[ladies_jeans_loose],type[DESCRIPTIVESTILLLIFE],res[m],hmver[1]&call=url[file:/product/style]\" style=\"height: 200px\">\n",
              "            </figure>\n",
              "        \n",
              "            <figure style=\"margin: 5px !important;\">\n",
              "              <img src=\"https://lp2.hm.com/hmgoepprod?set=source[/89/dd/89dddc320b654cf9a6fac2f528a29715af46feea.jpg],origin[dam],category[],type[DESCRIPTIVESTILLLIFE],res[m],hmver[1]&call=url[file:/product/style]\" style=\"height: 200px\">\n",
              "            </figure>\n",
              "        \n",
              "            <figure style=\"margin: 5px !important;\">\n",
              "              <img src=\"https://lp2.hm.com/hmgoepprod?set=source[/78/81/78819c573a35a5f8562238bb813c5c75101f2be0.jpg],origin[dam],category[ladies_maternity_dresses],type[DESCRIPTIVESTILLLIFE],res[m],hmver[1]&call=url[file:/product/style]\" style=\"height: 200px\">\n",
              "            </figure>\n",
              "        \n",
              "            <figure style=\"margin: 5px !important;\">\n",
              "              <img src=\"https://lp2.hm.com/hmgoepprod?set=source[/9b/28/9b28a2b30766d1468b8d1f2aacf7016e1f78af64.jpg],origin[dam],category[ladies_knitwear_dresses_skirts],type[DESCRIPTIVESTILLLIFE],res[m],hmver[1]&call=url[file:/product/style]\" style=\"height: 200px\">\n",
              "            </figure>\n",
              "        \n",
              "            <figure style=\"margin: 5px !important;\">\n",
              "              <img src=\"https://lp2.hm.com/hmgoepprod?set=source[/eb/2a/eb2ac7b11b6c62f18a4f71590280ca08109bb020.jpg],origin[dam],category[ladies_dresses_sweater],type[DESCRIPTIVESTILLLIFE],res[m],hmver[1]&call=url[file:/product/style]\" style=\"height: 200px\">\n",
              "            </figure>\n",
              "        \n",
              "            <figure style=\"margin: 5px !important;\">\n",
              "              <img src=\"https://lp2.hm.com/hmgoepprod?set=source[/6d/f9/6df911832084b9a7684ea32fe3eb2dc3ca243b5f.jpg],origin[dam],category[ladies_dresses_shortdresses],type[DESCRIPTIVESTILLLIFE],res[m],hmver[1]&call=url[file:/product/style]\" style=\"height: 200px\">\n",
              "            </figure>\n",
              "        \n",
              "        </div>\n",
              "    "
            ],
            "text/plain": [
              "<IPython.core.display.HTML object>"
            ]
          },
          "metadata": {
            "tags": []
          },
          "execution_count": 85
        }
      ]
    },
    {
      "cell_type": "code",
      "metadata": {
        "colab": {
          "base_uri": "https://localhost:8080/",
          "height": 445
        },
        "id": "R52F-v6SWBs0",
        "outputId": "a6db2a79-c13d-45a4-b31a-3ee5f15b85ba"
      },
      "source": [
        "gallery_top_n_reccs_SCANN(42,10)"
      ],
      "execution_count": null,
      "outputs": [
        {
          "output_type": "execute_result",
          "data": {
            "text/html": [
              "\n",
              "        <div style=\"display: flex; flex-flow: row wrap; text-align: center;\">\n",
              "        \n",
              "            <figure style=\"margin: 5px !important;\">\n",
              "              <img src=\"https://lp2.hm.com/hmgoepprod?set=source[/d9/65/d96582cb45e797fc97d5491b7f242186ac15be81.jpg],origin[dam],category[Ladies_skirts_denim],type[DESCRIPTIVESTILLLIFE],res[m],hmver[1]&call=url[file:/product/style]\" style=\"height: 200px\">\n",
              "            </figure>\n",
              "        \n",
              "            <figure style=\"margin: 5px !important;\">\n",
              "              <img src=\"https://lp2.hm.com/hmgoepprod?set=source[/cb/40/cb408edd1425caa3948c154bc3508383ff8777af.jpg],origin[dam],category[ladies_skirts_shortskirts],type[DESCRIPTIVESTILLLIFE],res[m],hmver[1]&call=url[file:/product/style]\" style=\"height: 200px\">\n",
              "            </figure>\n",
              "        \n",
              "            <figure style=\"margin: 5px !important;\">\n",
              "              <img src=\"https://lp2.hm.com/hmgoepprod?set=source[/fb/f0/fbf08cb038c87cab1232c20030edd9e51c895ecc.jpg],origin[dam],category[ladies_trousers],type[DESCRIPTIVESTILLLIFE],res[m],hmver[1]&call=url[file:/product/style]\" style=\"height: 200px\">\n",
              "            </figure>\n",
              "        \n",
              "            <figure style=\"margin: 5px !important;\">\n",
              "              <img src=\"https://lp2.hm.com/hmgoepprod?set=source[/84/c0/84c0661fc7f3384b8e31333f858e475f81ec8805.jpg],origin[dam],category[ladies_dresses_shortdresses],type[DESCRIPTIVESTILLLIFE],res[m],hmver[1]&call=url[file:/product/style]\" style=\"height: 200px\">\n",
              "            </figure>\n",
              "        \n",
              "            <figure style=\"margin: 5px !important;\">\n",
              "              <img src=\"https://lp2.hm.com/hmgoepprod?set=source[/23/f7/23f75d5330bb23213fb46d74b06fa0446f8f41e9.jpg],origin[dam],category[ladies_jeans_loose],type[DESCRIPTIVESTILLLIFE],res[m],hmver[1]&call=url[file:/product/style]\" style=\"height: 200px\">\n",
              "            </figure>\n",
              "        \n",
              "            <figure style=\"margin: 5px !important;\">\n",
              "              <img src=\"https://lp2.hm.com/hmgoepprod?set=source[/89/dd/89dddc320b654cf9a6fac2f528a29715af46feea.jpg],origin[dam],category[],type[DESCRIPTIVESTILLLIFE],res[m],hmver[1]&call=url[file:/product/style]\" style=\"height: 200px\">\n",
              "            </figure>\n",
              "        \n",
              "            <figure style=\"margin: 5px !important;\">\n",
              "              <img src=\"https://lp2.hm.com/hmgoepprod?set=source[/78/81/78819c573a35a5f8562238bb813c5c75101f2be0.jpg],origin[dam],category[ladies_maternity_dresses],type[DESCRIPTIVESTILLLIFE],res[m],hmver[1]&call=url[file:/product/style]\" style=\"height: 200px\">\n",
              "            </figure>\n",
              "        \n",
              "            <figure style=\"margin: 5px !important;\">\n",
              "              <img src=\"https://lp2.hm.com/hmgoepprod?set=source[/9b/28/9b28a2b30766d1468b8d1f2aacf7016e1f78af64.jpg],origin[dam],category[ladies_knitwear_dresses_skirts],type[DESCRIPTIVESTILLLIFE],res[m],hmver[1]&call=url[file:/product/style]\" style=\"height: 200px\">\n",
              "            </figure>\n",
              "        \n",
              "            <figure style=\"margin: 5px !important;\">\n",
              "              <img src=\"https://lp2.hm.com/hmgoepprod?set=source[/eb/2a/eb2ac7b11b6c62f18a4f71590280ca08109bb020.jpg],origin[dam],category[ladies_dresses_sweater],type[DESCRIPTIVESTILLLIFE],res[m],hmver[1]&call=url[file:/product/style]\" style=\"height: 200px\">\n",
              "            </figure>\n",
              "        \n",
              "            <figure style=\"margin: 5px !important;\">\n",
              "              <img src=\"https://lp2.hm.com/hmgoepprod?set=source[/6d/f9/6df911832084b9a7684ea32fe3eb2dc3ca243b5f.jpg],origin[dam],category[ladies_dresses_shortdresses],type[DESCRIPTIVESTILLLIFE],res[m],hmver[1]&call=url[file:/product/style]\" style=\"height: 200px\">\n",
              "            </figure>\n",
              "        \n",
              "        </div>\n",
              "    "
            ],
            "text/plain": [
              "<IPython.core.display.HTML object>"
            ]
          },
          "metadata": {
            "tags": []
          },
          "execution_count": 73
        }
      ]
    },
    {
      "cell_type": "code",
      "metadata": {
        "id": "nodh1Yd8ZlYE"
      },
      "source": [],
      "execution_count": null,
      "outputs": []
    },
    {
      "cell_type": "markdown",
      "metadata": {
        "id": "oodBrQoDGKZg"
      },
      "source": [
        "# Build alternative version of model including feature embeddings\n"
      ]
    },
    {
      "cell_type": "markdown",
      "metadata": {
        "id": "A0LCUNeuHEyK"
      },
      "source": [
        "we are gonna start with rank dataframe and interaction dataset rank from above since user ratings already converted\n",
        "\n",
        "\n"
      ]
    },
    {
      "cell_type": "code",
      "metadata": {
        "colab": {
          "base_uri": "https://localhost:8080/",
          "height": 205
        },
        "id": "PffyRqXJGps2",
        "outputId": "0c858aa0-1089-4d85-df13-b9e69631ac7c"
      },
      "source": [
        "rank_df.head()"
      ],
      "execution_count": null,
      "outputs": [
        {
          "output_type": "execute_result",
          "data": {
            "text/html": [
              "<div>\n",
              "<style scoped>\n",
              "    .dataframe tbody tr th:only-of-type {\n",
              "        vertical-align: middle;\n",
              "    }\n",
              "\n",
              "    .dataframe tbody tr th {\n",
              "        vertical-align: top;\n",
              "    }\n",
              "\n",
              "    .dataframe thead th {\n",
              "        text-align: right;\n",
              "    }\n",
              "</style>\n",
              "<table border=\"1\" class=\"dataframe\">\n",
              "  <thead>\n",
              "    <tr style=\"text-align: right;\">\n",
              "      <th></th>\n",
              "      <th>USER_ID</th>\n",
              "      <th>ITEM_ID</th>\n",
              "      <th>TIMESTAMP</th>\n",
              "      <th>user_rating</th>\n",
              "    </tr>\n",
              "  </thead>\n",
              "  <tbody>\n",
              "    <tr>\n",
              "      <th>0</th>\n",
              "      <td>5eb6d78a737d8c0017edc801</td>\n",
              "      <td>5e92133978f479914f162ad8</td>\n",
              "      <td>1.589150e+12</td>\n",
              "      <td>1</td>\n",
              "    </tr>\n",
              "    <tr>\n",
              "      <th>1</th>\n",
              "      <td>5eb6d78a737d8c0017edc801</td>\n",
              "      <td>5e92133878f479914f1629d9</td>\n",
              "      <td>1.589150e+12</td>\n",
              "      <td>1</td>\n",
              "    </tr>\n",
              "    <tr>\n",
              "      <th>2</th>\n",
              "      <td>5eb6d78a737d8c0017edc801</td>\n",
              "      <td>5e92154f78f479914f169b93</td>\n",
              "      <td>1.589150e+12</td>\n",
              "      <td>1</td>\n",
              "    </tr>\n",
              "    <tr>\n",
              "      <th>3</th>\n",
              "      <td>5eb6d78a737d8c0017edc801</td>\n",
              "      <td>5e92135378f479914f163b80</td>\n",
              "      <td>1.589150e+12</td>\n",
              "      <td>1</td>\n",
              "    </tr>\n",
              "    <tr>\n",
              "      <th>4</th>\n",
              "      <td>5eb6d78a737d8c0017edc801</td>\n",
              "      <td>5e92133878f479914f162a3a</td>\n",
              "      <td>1.589150e+12</td>\n",
              "      <td>1</td>\n",
              "    </tr>\n",
              "  </tbody>\n",
              "</table>\n",
              "</div>"
            ],
            "text/plain": [
              "                    USER_ID  ... user_rating\n",
              "0  5eb6d78a737d8c0017edc801  ...           1\n",
              "1  5eb6d78a737d8c0017edc801  ...           1\n",
              "2  5eb6d78a737d8c0017edc801  ...           1\n",
              "3  5eb6d78a737d8c0017edc801  ...           1\n",
              "4  5eb6d78a737d8c0017edc801  ...           1\n",
              "\n",
              "[5 rows x 4 columns]"
            ]
          },
          "metadata": {
            "tags": []
          },
          "execution_count": 364
        }
      ]
    },
    {
      "cell_type": "code",
      "metadata": {
        "id": "bAXNBjDxQybL"
      },
      "source": [
        "rank_df = interactions_dataset_df.replace(to_replace=\"WISH\" , value =1)\n",
        "rank_df = rank_df.replace(to_replace=\"DISLIKE\" , value =0)\n",
        "rank_df = rank_df.rename(columns={'EVENT_TYPE': 'user_rating'})\n",
        "rank_df.head(0)"
      ],
      "execution_count": null,
      "outputs": []
    },
    {
      "cell_type": "code",
      "metadata": {
        "id": "dCuNWGuCHLPg"
      },
      "source": [
        "ratings_plus = interaction_dataset_rank.map(lambda x: {\n",
        "    \"ITEM_ID\": x[\"ITEM_ID\"],\n",
        "    \"USER_ID\": x[\"USER_ID\"],\n",
        "    \"user_rating\": x[\"user_rating\"],\n",
        "    \"timestamp\" : x[\"TIMESTAMP\"]\n",
        "})\n",
        "\n"
      ],
      "execution_count": null,
      "outputs": []
    },
    {
      "cell_type": "code",
      "metadata": {
        "colab": {
          "base_uri": "https://localhost:8080/"
        },
        "id": "gHwipMomHdPW",
        "outputId": "d789a328-f15d-4a07-baa3-148523166096"
      },
      "source": [
        "for x in ratings_plus.take(1).as_numpy_iterator():\n",
        "  pprint.pprint(x)"
      ],
      "execution_count": null,
      "outputs": [
        {
          "output_type": "stream",
          "text": [
            "{'ITEM_ID': b'5e92133978f479914f162ad8',\n",
            " 'USER_ID': b'5eb6d78a737d8c0017edc801',\n",
            " 'timestamp': 1589150000000.0,\n",
            " 'user_rating': 1}\n"
          ],
          "name": "stdout"
        }
      ]
    },
    {
      "cell_type": "code",
      "metadata": {
        "id": "29NPfzkdHuUl"
      },
      "source": [
        "# lets define vocabulary and way to acess as did from first principes above\n",
        "item_id_lookup = tf.keras.layers.experimental.preprocessing.StringLookup()\n",
        "item_id_lookup.adapt(ratings_plus.map(lambda x: x[\"ITEM_ID\"]))"
      ],
      "execution_count": null,
      "outputs": []
    },
    {
      "cell_type": "code",
      "metadata": {
        "colab": {
          "base_uri": "https://localhost:8080/"
        },
        "id": "pl4b68mdJIcT",
        "outputId": "7eab3e8a-1a28-4fb9-88e5-98b8418f65a4"
      },
      "source": [
        "item_id_lookup.vocabulary_size()"
      ],
      "execution_count": null,
      "outputs": [
        {
          "output_type": "execute_result",
          "data": {
            "text/plain": [
              "488"
            ]
          },
          "metadata": {
            "tags": []
          },
          "execution_count": 372
        }
      ]
    },
    {
      "cell_type": "markdown",
      "metadata": {
        "id": "Lfbe6GtVIsdR"
      },
      "source": [
        "In fact, the StringLookup layer allows us to configure multiple OOV indices. If we do that, any raw value that is not in the vocabulary will be deterministically hashed to one of the OOV indices. The more such indices we have, the less likley it is that two different raw feature values will hash to the same OOV index. Consequently, if we have enough such indices the model should be able to train about as well as a model with an explicit vocabulary without the disdvantage of having to maintain the token list.\n",
        "\n",
        "We can take this to its logical extreme and rely entirely on feature hashing, with no vocabulary at all. This is implemented in the tf.keras.layers.experimental.preprocessing.Hashing layer."
      ]
    },
    {
      "cell_type": "code",
      "metadata": {
        "id": "IWey7LPNINWd"
      },
      "source": [
        "# We set up a large number of bins to reduce the chance of hash collisions.\n",
        "# we do not proceed with hashing in this case\n",
        "num_hashing_bins = 200_000\n",
        "\n",
        "item_id_hashing = tf.keras.layers.experimental.preprocessing.Hashing(\n",
        "    num_bins=num_hashing_bins\n",
        ")"
      ],
      "execution_count": null,
      "outputs": []
    },
    {
      "cell_type": "markdown",
      "metadata": {
        "id": "wY0FYmlxJhp1"
      },
      "source": [
        "When creating the embedding layer for movie titles, we are going to set the first value to the size of our title vocabulary (or the number of hashing bins). The second is up to us: the larger it is, the higher the capacity of the model, but the slower it is to fit and serve."
      ]
    },
    {
      "cell_type": "markdown",
      "metadata": {
        "id": "yeRgXYRAJuey"
      },
      "source": [
        "**NOTE THAT NOT COMPLETELY SURE EMBEDDING NEEDED SINCE ITEMS ALREADYHAVE UNIQUE IDS, BUT FOLLOWING FORMAT OF TEMPLATE FOR NOW**"
      ]
    },
    {
      "cell_type": "code",
      "metadata": {
        "id": "qUGnhMW-Jcj8"
      },
      "source": [
        "item_id_embedding = tf.keras.layers.Embedding(\n",
        "    # Let's use the explicit vocabulary lookup.\n",
        "    input_dim=item_id_lookup.vocabulary_size(),\n",
        "    output_dim=32\n",
        ")"
      ],
      "execution_count": null,
      "outputs": []
    },
    {
      "cell_type": "code",
      "metadata": {
        "id": "ONeg2yaXJm_0"
      },
      "source": [
        "item_id_model = tf.keras.Sequential([item_id_lookup, item_id_embedding])"
      ],
      "execution_count": null,
      "outputs": []
    },
    {
      "cell_type": "code",
      "metadata": {
        "id": "wJxlTJHvJ196"
      },
      "source": [
        "# REPEAT THE SAME FOR USER IDS\n",
        "user_id_lookup = tf.keras.layers.experimental.preprocessing.StringLookup()\n",
        "user_id_lookup.adapt(ratings_plus.map(lambda x: x[\"USER_ID\"]))\n",
        "\n",
        "user_id_embedding = tf.keras.layers.Embedding(user_id_lookup.vocabulary_size(), 32)\n",
        "\n",
        "user_id_model = tf.keras.Sequential([user_id_lookup, user_id_embedding])"
      ],
      "execution_count": null,
      "outputs": []
    },
    {
      "cell_type": "markdown",
      "metadata": {
        "id": "arN_FH6SKExg"
      },
      "source": [
        "# Normalize continous features"
      ]
    },
    {
      "cell_type": "code",
      "metadata": {
        "colab": {
          "base_uri": "https://localhost:8080/"
        },
        "id": "sey4bdYpKIBR",
        "outputId": "171f7e2f-440e-40cb-ac9e-0d54e30ceb31"
      },
      "source": [
        "# timesteamp normaliztion\n",
        "timestamp_normalization = tf.keras.layers.experimental.preprocessing.Normalization()\n",
        "timestamp_normalization.adapt(ratings_plus.map(lambda x: x[\"timestamp\"]).batch(1024))\n",
        "\n",
        "for x in ratings_plus.take(10).as_numpy_iterator():\n",
        "  print(f\"Normalized timestamp: {timestamp_normalization(x['timestamp'])}.\")\n"
      ],
      "execution_count": null,
      "outputs": [
        {
          "output_type": "stream",
          "text": [
            "Normalized timestamp: [[-1.0530659]].\n",
            "Normalized timestamp: [[-1.0530659]].\n",
            "Normalized timestamp: [[-1.0530659]].\n",
            "Normalized timestamp: [[-1.0530659]].\n",
            "Normalized timestamp: [[-1.0530659]].\n",
            "Normalized timestamp: [[-1.0530659]].\n",
            "Normalized timestamp: [[-1.0530659]].\n",
            "Normalized timestamp: [[-1.0530659]].\n",
            "Normalized timestamp: [[-1.0473512]].\n",
            "Normalized timestamp: [[-1.0473512]].\n"
          ],
          "name": "stdout"
        }
      ]
    },
    {
      "cell_type": "markdown",
      "metadata": {
        "id": "lGRLUTWMKoDD"
      },
      "source": [
        "Proceed with discretization instead since no reason to suspect this feature(timestamp) has continous effect. Use max and min values as below to then form embeddings"
      ]
    },
    {
      "cell_type": "code",
      "metadata": {
        "colab": {
          "base_uri": "https://localhost:8080/"
        },
        "id": "ZXdP-gJXKvz9",
        "outputId": "331bd30b-f1f1-44da-e977-4269db1e4d77"
      },
      "source": [
        "# discretize and bucketize timestampos\n",
        "max_timestamp = ratings_plus.map(lambda x: np.int(x[\"timestamp\"])).reduce(\n",
        "    tf.cast(0, tf.int32), tf.maximum).numpy().max()\n",
        "min_timestamp = ratings_plus.map(lambda x: np.int(x[\"timestamp\"])).reduce(\n",
        "    np.int32(1e9), tf.minimum).numpy().min()\n",
        "\n",
        "timestamp_buckets = np.linspace(\n",
        "    min_timestamp, max_timestamp, num=1000)\n",
        "\n",
        "print(f\"Buckets: {timestamp_buckets[:3]}\")"
      ],
      "execution_count": null,
      "outputs": [
        {
          "output_type": "stream",
          "text": [
            "Buckets: [-2.14748365e+09 -2.14533401e+09 -2.14318438e+09]\n"
          ],
          "name": "stdout"
        }
      ]
    },
    {
      "cell_type": "markdown",
      "metadata": {
        "id": "KIkZneugWmp5"
      },
      "source": [
        "Given the bucket boundaries we can transform timestamps into embedding"
      ]
    },
    {
      "cell_type": "code",
      "metadata": {
        "colab": {
          "base_uri": "https://localhost:8080/"
        },
        "id": "8knqcrV3Lvpp",
        "outputId": "f4d1d353-bb57-4f8b-c0c4-3a910740fd84"
      },
      "source": [
        "timestamp_embedding_model = tf.keras.Sequential([\n",
        "  tf.keras.layers.experimental.preprocessing.Discretization(timestamp_buckets.tolist()),\n",
        "  tf.keras.layers.Embedding(len(timestamp_buckets) + 1, 32)\n",
        "])\n",
        "\n",
        "for timestamp in ratings_plus.take(1).map(lambda x: x[\"timestamp\"]).batch(1).as_numpy_iterator():\n",
        "  print(f\"Timestamp embedding: {timestamp_embedding_model(timestamp)}.\")"
      ],
      "execution_count": null,
      "outputs": [
        {
          "output_type": "stream",
          "text": [
            "Timestamp embedding: [[-0.04622876  0.02517148 -0.0248639   0.01240172  0.02884286 -0.04648713\n",
            "  -0.01091643 -0.0013787  -0.03732798  0.0061652  -0.02928642  0.01482738\n",
            "  -0.01785966  0.00902931 -0.00846255 -0.04645826  0.02176611 -0.0388688\n",
            "  -0.00015344 -0.03232596 -0.03802253  0.00434472  0.03981825 -0.01177793\n",
            "   0.03463825 -0.02811283 -0.04282252 -0.03663028 -0.02288889  0.00028872\n",
            "   0.00138374 -0.02032625]].\n"
          ],
          "name": "stdout"
        }
      ]
    },
    {
      "cell_type": "markdown",
      "metadata": {
        "id": "6iztMEW3MCyu"
      },
      "source": [
        "# Add description as vectorized test to tokenize in items data"
      ]
    },
    {
      "cell_type": "code",
      "metadata": {
        "id": "vvckmkKIRZzy"
      },
      "source": [
        "# find corresponding descriptions and include in DF in same order as items introduced\n",
        "description_list = []\n",
        "for i in items_dataset_df[\"ITEM_ID\"]:\n",
        "  id = i\n",
        "  description_list.append( description_by_item[id])\n",
        "\n",
        "items_dataset_df[\"description\"] = description_list"
      ],
      "execution_count": null,
      "outputs": []
    },
    {
      "cell_type": "code",
      "metadata": {
        "colab": {
          "base_uri": "https://localhost:8080/",
          "height": 243
        },
        "id": "R7tjwVdpRRBB",
        "outputId": "c7649055-3ec1-46c6-85e5-408d0049da7b"
      },
      "source": [
        "items_dataset_df.head()"
      ],
      "execution_count": null,
      "outputs": [
        {
          "output_type": "execute_result",
          "data": {
            "text/html": [
              "<div>\n",
              "<style scoped>\n",
              "    .dataframe tbody tr th:only-of-type {\n",
              "        vertical-align: middle;\n",
              "    }\n",
              "\n",
              "    .dataframe tbody tr th {\n",
              "        vertical-align: top;\n",
              "    }\n",
              "\n",
              "    .dataframe thead th {\n",
              "        text-align: right;\n",
              "    }\n",
              "</style>\n",
              "<table border=\"1\" class=\"dataframe\">\n",
              "  <thead>\n",
              "    <tr style=\"text-align: right;\">\n",
              "      <th></th>\n",
              "      <th>ITEM_ID</th>\n",
              "      <th>OCCASION</th>\n",
              "      <th>PATTERN</th>\n",
              "      <th>MATERIAL</th>\n",
              "      <th>LOCATION</th>\n",
              "      <th>IMAGE</th>\n",
              "      <th>COLOR</th>\n",
              "      <th>STYLE</th>\n",
              "      <th>TEXT</th>\n",
              "      <th>FIT</th>\n",
              "      <th>SEASON</th>\n",
              "      <th>SLEEVE_LENGHT</th>\n",
              "      <th>OPENING</th>\n",
              "      <th>LENGHT</th>\n",
              "      <th>CUFF</th>\n",
              "      <th>WAISTLINE</th>\n",
              "      <th>BODY_LENGHT</th>\n",
              "      <th>COLLAR</th>\n",
              "      <th>POCKET</th>\n",
              "      <th>SILHOUETTE</th>\n",
              "      <th>LAPEL</th>\n",
              "      <th>SLEEVE_TYPE</th>\n",
              "      <th>HEM_TYPE</th>\n",
              "      <th>NECKLINE</th>\n",
              "      <th>WAIST_LEVEL</th>\n",
              "      <th>FULLNESS</th>\n",
              "      <th>description</th>\n",
              "    </tr>\n",
              "  </thead>\n",
              "  <tbody>\n",
              "    <tr>\n",
              "      <th>0</th>\n",
              "      <td>5e92133378f479914f162671</td>\n",
              "      <td>None</td>\n",
              "      <td>None</td>\n",
              "      <td>Cotton</td>\n",
              "      <td>Montreal</td>\n",
              "      <td>None</td>\n",
              "      <td>Gray</td>\n",
              "      <td>Basic</td>\n",
              "      <td>None</td>\n",
              "      <td>Loose</td>\n",
              "      <td>Fall</td>\n",
              "      <td>None</td>\n",
              "      <td>None</td>\n",
              "      <td>None</td>\n",
              "      <td>None</td>\n",
              "      <td>None</td>\n",
              "      <td>None</td>\n",
              "      <td>None</td>\n",
              "      <td>None</td>\n",
              "      <td>None</td>\n",
              "      <td>None</td>\n",
              "      <td>None</td>\n",
              "      <td>Banded</td>\n",
              "      <td>Round</td>\n",
              "      <td>None</td>\n",
              "      <td>None</td>\n",
              "      <td>BASICS</td>\n",
              "    </tr>\n",
              "    <tr>\n",
              "      <th>1</th>\n",
              "      <td>5e92133978f479914f162a9d</td>\n",
              "      <td>None</td>\n",
              "      <td>None</td>\n",
              "      <td>Cotton</td>\n",
              "      <td>Montreal</td>\n",
              "      <td>None</td>\n",
              "      <td>Purple</td>\n",
              "      <td>Basic</td>\n",
              "      <td>None</td>\n",
              "      <td>Regular</td>\n",
              "      <td>Summer</td>\n",
              "      <td>Short Sleeve</td>\n",
              "      <td>None</td>\n",
              "      <td>None</td>\n",
              "      <td>None</td>\n",
              "      <td>None</td>\n",
              "      <td>None</td>\n",
              "      <td>None</td>\n",
              "      <td>None</td>\n",
              "      <td>None</td>\n",
              "      <td>None</td>\n",
              "      <td>Set-in Sleeve</td>\n",
              "      <td>Straigth</td>\n",
              "      <td>Round</td>\n",
              "      <td>None</td>\n",
              "      <td>None</td>\n",
              "      <td>BASICS,DIVIDED</td>\n",
              "    </tr>\n",
              "    <tr>\n",
              "      <th>2</th>\n",
              "      <td>5e92133478f479914f1627b5</td>\n",
              "      <td>None</td>\n",
              "      <td>None</td>\n",
              "      <td>Cotton</td>\n",
              "      <td>Montreal</td>\n",
              "      <td>Logo</td>\n",
              "      <td>Pink</td>\n",
              "      <td>Basic</td>\n",
              "      <td>None</td>\n",
              "      <td>Regular</td>\n",
              "      <td>Summer</td>\n",
              "      <td>Short Sleeve</td>\n",
              "      <td>None</td>\n",
              "      <td>None</td>\n",
              "      <td>None</td>\n",
              "      <td>None</td>\n",
              "      <td>None</td>\n",
              "      <td>None</td>\n",
              "      <td>None</td>\n",
              "      <td>None</td>\n",
              "      <td>None</td>\n",
              "      <td>Set-in Sleeve</td>\n",
              "      <td>Straigth</td>\n",
              "      <td>Round</td>\n",
              "      <td>None</td>\n",
              "      <td>None</td>\n",
              "      <td>DIVIDED</td>\n",
              "    </tr>\n",
              "    <tr>\n",
              "      <th>3</th>\n",
              "      <td>5e92133478f479914f162791</td>\n",
              "      <td>None</td>\n",
              "      <td>None</td>\n",
              "      <td>Denim</td>\n",
              "      <td>Other</td>\n",
              "      <td>None</td>\n",
              "      <td>Black</td>\n",
              "      <td>Casual</td>\n",
              "      <td>None</td>\n",
              "      <td>Regular</td>\n",
              "      <td>Fall</td>\n",
              "      <td>None</td>\n",
              "      <td>Button</td>\n",
              "      <td>None</td>\n",
              "      <td>Plain</td>\n",
              "      <td>None</td>\n",
              "      <td>Hip Length</td>\n",
              "      <td>None</td>\n",
              "      <td>None</td>\n",
              "      <td>None</td>\n",
              "      <td>None</td>\n",
              "      <td>None</td>\n",
              "      <td>Straigth</td>\n",
              "      <td>None</td>\n",
              "      <td>None</td>\n",
              "      <td>None</td>\n",
              "      <td>L.O.G.G.</td>\n",
              "    </tr>\n",
              "    <tr>\n",
              "      <th>4</th>\n",
              "      <td>5e92133678f479914f162927</td>\n",
              "      <td>Workout</td>\n",
              "      <td>None</td>\n",
              "      <td>Cotton</td>\n",
              "      <td>Montreal</td>\n",
              "      <td>None</td>\n",
              "      <td>Black</td>\n",
              "      <td>Active wear</td>\n",
              "      <td>None</td>\n",
              "      <td>Regular</td>\n",
              "      <td>Spring</td>\n",
              "      <td>None</td>\n",
              "      <td>None</td>\n",
              "      <td>None</td>\n",
              "      <td>None</td>\n",
              "      <td>None</td>\n",
              "      <td>None</td>\n",
              "      <td>None</td>\n",
              "      <td>None</td>\n",
              "      <td>None</td>\n",
              "      <td>None</td>\n",
              "      <td>None</td>\n",
              "      <td>None</td>\n",
              "      <td>None</td>\n",
              "      <td>None</td>\n",
              "      <td>None</td>\n",
              "      <td>BASICS</td>\n",
              "    </tr>\n",
              "  </tbody>\n",
              "</table>\n",
              "</div>"
            ],
            "text/plain": [
              "                    ITEM_ID OCCASION  ... FULLNESS     description\n",
              "0  5e92133378f479914f162671     None  ...     None          BASICS\n",
              "1  5e92133978f479914f162a9d     None  ...     None  BASICS,DIVIDED\n",
              "2  5e92133478f479914f1627b5     None  ...     None         DIVIDED\n",
              "3  5e92133478f479914f162791     None  ...     None        L.O.G.G.\n",
              "4  5e92133678f479914f162927  Workout  ...     None          BASICS\n",
              "\n",
              "[5 rows x 27 columns]"
            ]
          },
          "metadata": {
            "tags": []
          },
          "execution_count": 410
        }
      ]
    },
    {
      "cell_type": "code",
      "metadata": {
        "id": "cOYANvV5Vjqd"
      },
      "source": [
        "for x in items_dataset.take(2).as_numpy_iterator():\n",
        "  pprint.pprint(x)"
      ],
      "execution_count": null,
      "outputs": []
    },
    {
      "cell_type": "code",
      "metadata": {
        "colab": {
          "base_uri": "https://localhost:8080/"
        },
        "id": "2laiP4BGXTw5",
        "outputId": "2ad6204f-d022-4ebf-ba37-6092b72bc5c6"
      },
      "source": [
        "desc_text.get_vocabulary()[1:7]"
      ],
      "execution_count": null,
      "outputs": [
        {
          "output_type": "execute_result",
          "data": {
            "text/plain": [
              "['[UNK]', 'divided', 'fashion', 'hm', 'logg', 'everyday']"
            ]
          },
          "metadata": {
            "tags": []
          },
          "execution_count": 419
        }
      ]
    },
    {
      "cell_type": "markdown",
      "metadata": {
        "id": "HWKWwKNeXctU"
      },
      "source": [
        "To finish the processing, we now need to embed the text. Because each title contains multiple words, we will get multiple embeddings for each title. For use in a donwstream model these are usually compressed into a single embedding. Models like RNNs or Transformers are useful here, but averaging all the words' embeddings together is a good starting point"
      ]
    },
    {
      "cell_type": "code",
      "metadata": {
        "id": "Ny_NQxGWXeUs"
      },
      "source": [],
      "execution_count": null,
      "outputs": []
    }
  ]
}