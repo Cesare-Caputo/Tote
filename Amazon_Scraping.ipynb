{
  "nbformat": 4,
  "nbformat_minor": 0,
  "metadata": {
    "colab": {
      "provenance": [],
      "authorship_tag": "ABX9TyN/ZxXRFszN0Rx3CIBStDW5",
      "include_colab_link": true
    },
    "kernelspec": {
      "name": "python3",
      "display_name": "Python 3"
    },
    "language_info": {
      "name": "python"
    }
  },
  "cells": [
    {
      "cell_type": "markdown",
      "metadata": {
        "id": "view-in-github",
        "colab_type": "text"
      },
      "source": [
        "<a href=\"https://colab.research.google.com/github/Cesare-Caputo/Tote/blob/main/Amazon_Scraping.ipynb\" target=\"_parent\"><img src=\"https://colab.research.google.com/assets/colab-badge.svg\" alt=\"Open In Colab\"/></a>"
      ]
    },
    {
      "cell_type": "code",
      "metadata": {
        "colab": {
          "base_uri": "https://localhost:8080/"
        },
        "id": "_M5ccKkl3q2e",
        "outputId": "6e853659-00df-48f5-e1f5-47120cbd82fa"
      },
      "source": [
        "!pip install jovian --upgrade --quiet"
      ],
      "execution_count": null,
      "outputs": [
        {
          "output_type": "stream",
          "text": [
            "\u001b[?25l\r\u001b[K     |████▊                           | 10 kB 20.5 MB/s eta 0:00:01\r\u001b[K     |█████████▌                      | 20 kB 14.3 MB/s eta 0:00:01\r\u001b[K     |██████████████▎                 | 30 kB 10.4 MB/s eta 0:00:01\r\u001b[K     |███████████████████             | 40 kB 9.2 MB/s eta 0:00:01\r\u001b[K     |███████████████████████▉        | 51 kB 5.1 MB/s eta 0:00:01\r\u001b[K     |████████████████████████████▋   | 61 kB 5.3 MB/s eta 0:00:01\r\u001b[K     |████████████████████████████████| 68 kB 2.0 MB/s \n",
            "\u001b[?25h  Building wheel for uuid (setup.py) ... \u001b[?25l\u001b[?25hdone\n"
          ],
          "name": "stdout"
        }
      ]
    },
    {
      "cell_type": "code",
      "metadata": {
        "colab": {
          "base_uri": "https://localhost:8080/"
        },
        "id": "dnTR3jdK5LPz",
        "outputId": "8d2504ca-23be-49b7-fb91-ef4a9627de2d"
      },
      "source": [
        "!pip install requests pandas bs4  --upgrade --quiet"
      ],
      "execution_count": null,
      "outputs": [
        {
          "output_type": "stream",
          "text": [
            "\u001b[K     |████████████████████████████████| 62 kB 615 kB/s \n",
            "\u001b[K     |████████████████████████████████| 11.3 MB 10.4 MB/s \n",
            "\u001b[31mERROR: pip's dependency resolver does not currently take into account all the packages that are installed. This behaviour is the source of the following dependency conflicts.\n",
            "google-colab 1.0.0 requires pandas~=1.1.0; python_version >= \"3.0\", but you have pandas 1.3.2 which is incompatible.\n",
            "google-colab 1.0.0 requires requests~=2.23.0, but you have requests 2.26.0 which is incompatible.\n",
            "datascience 0.10.6 requires folium==0.2.1, but you have folium 0.8.3 which is incompatible.\u001b[0m\n",
            "\u001b[?25h"
          ],
          "name": "stdout"
        }
      ]
    },
    {
      "cell_type": "code",
      "metadata": {
        "id": "hf4FflHv5ayI"
      },
      "source": [
        "import requests\n",
        "from bs4 import BeautifulSoup\n",
        "import pandas as pd"
      ],
      "execution_count": null,
      "outputs": []
    },
    {
      "cell_type": "code",
      "metadata": {
        "id": "nE1r3-S85sCJ"
      },
      "source": [
        "url =\"https://www.amazon.com/Best-Sellers/zgbs/ref=zg_bs_unv_ac_0_ac_1\"\n",
        "\n",
        "HEADERS ={\"User-Agent\":\"Mozilla/5.0 (Windows NT 10.0; Win64; x64; rv:66.0) Gecko/20100101 Firefox/66.0\", \"Accept-Encoding\":\"gzip, deflate\", \"Accept\":\"text/html,application/xhtml+xml,application/xml;q=0.9,*/*;q=0.8\", \"DNT\":\"1\",\"Connection\":\"close\", \"Upgrade-Insecure-Requests\":\"1\"}"
      ],
      "execution_count": null,
      "outputs": []
    },
    {
      "cell_type": "code",
      "metadata": {
        "id": "gWvU0Ito5svg"
      },
      "source": [
        "response = requests.get(url, headers=HEADERS)"
      ],
      "execution_count": null,
      "outputs": []
    },
    {
      "cell_type": "code",
      "metadata": {
        "colab": {
          "base_uri": "https://localhost:8080/"
        },
        "id": "WfPaf7BS5vvN",
        "outputId": "10989b9a-ca18-4ca0-fda8-6f98d90a96be"
      },
      "source": [
        "print(response)"
      ],
      "execution_count": null,
      "outputs": [
        {
          "output_type": "stream",
          "text": [
            "<Response [200]>\n"
          ],
          "name": "stdout"
        }
      ]
    },
    {
      "cell_type": "code",
      "metadata": {
        "colab": {
          "base_uri": "https://localhost:8080/",
          "height": 71
        },
        "id": "iEPGHMik50ZW",
        "outputId": "2fa0736c-399f-4022-8b45-3d629955bf09"
      },
      "source": [
        "response.text[:500]"
      ],
      "execution_count": null,
      "outputs": [
        {
          "output_type": "execute_result",
          "data": {
            "application/vnd.google.colaboratory.intrinsic+json": {
              "type": "string"
            },
            "text/plain": [
              "'<!doctype html><html lang=\"en-us\" class=\"a-no-js\" data-19ax5a9jf=\"dingo\"><!-- sp:feature:head-start -->\\n<head><script>var aPageStart = (new Date()).getTime();</script><meta charset=\"utf-8\"/>\\n\\n<script type=\\'text/javascript\\'>var ue_t0=ue_t0||+new Date();</script>\\n<!-- sp:feature:cs-optimization -->\\n<meta http-equiv=\\'x-dns-prefetch-control\\' content=\\'on\\'>\\n<link rel=\"dns-prefetch\" href=\"https://images-na.ssl-images-amazon.com\">\\n<link rel=\"dns-prefetch\" href=\"https://m.media-amazon.com\">\\n<link rel=\"dn'"
            ]
          },
          "metadata": {},
          "execution_count": 7
        }
      ]
    },
    {
      "cell_type": "code",
      "metadata": {
        "id": "N0Wy2Jio52HM"
      },
      "source": [
        "with open(\"bestseller.html\",\"w\") as f:\n",
        "    f.write(response.text)"
      ],
      "execution_count": null,
      "outputs": []
    },
    {
      "cell_type": "code",
      "metadata": {
        "id": "012g-eET6LM9"
      },
      "source": [
        "with open(\"bestseller.html\",\"r\") as f:\n",
        "    html_content = f.read()"
      ],
      "execution_count": null,
      "outputs": []
    },
    {
      "cell_type": "code",
      "metadata": {
        "colab": {
          "base_uri": "https://localhost:8080/",
          "height": 71
        },
        "id": "9Rq66AsO6Ncp",
        "outputId": "2f9c8912-80a3-4763-9cd4-31aae0beb5d7"
      },
      "source": [
        "html_content[:500]"
      ],
      "execution_count": null,
      "outputs": [
        {
          "output_type": "execute_result",
          "data": {
            "application/vnd.google.colaboratory.intrinsic+json": {
              "type": "string"
            },
            "text/plain": [
              "'<!doctype html><html lang=\"en-us\" class=\"a-no-js\" data-19ax5a9jf=\"dingo\"><!-- sp:feature:head-start -->\\n<head><script>var aPageStart = (new Date()).getTime();</script><meta charset=\"utf-8\"/>\\n\\n<script type=\\'text/javascript\\'>var ue_t0=ue_t0||+new Date();</script>\\n<!-- sp:feature:cs-optimization -->\\n<meta http-equiv=\\'x-dns-prefetch-control\\' content=\\'on\\'>\\n<link rel=\"dns-prefetch\" href=\"https://images-na.ssl-images-amazon.com\">\\n<link rel=\"dns-prefetch\" href=\"https://m.media-amazon.com\">\\n<link rel=\"dn'"
            ]
          },
          "metadata": {},
          "execution_count": 10
        }
      ]
    },
    {
      "cell_type": "code",
      "metadata": {
        "id": "nG1v0d1M6ReA"
      },
      "source": [
        "content = BeautifulSoup(html_content,\"html.parser\")"
      ],
      "execution_count": null,
      "outputs": []
    },
    {
      "cell_type": "code",
      "metadata": {
        "id": "tDZGUGlc6UBD"
      },
      "source": [
        "doc = content.find(\"ul\",{\"id\":\"zg_browseRoot\"})\n",
        "hearder_link_tags = doc.find_all(\"li\")"
      ],
      "execution_count": null,
      "outputs": []
    },
    {
      "cell_type": "code",
      "metadata": {
        "id": "-RGI8Org96vM"
      },
      "source": [
        "hearder_link_tags"
      ],
      "execution_count": null,
      "outputs": []
    },
    {
      "cell_type": "code",
      "metadata": {
        "id": "RRJU4Tba6XeU"
      },
      "source": [
        "############## find and get different item categories description and Url at any department\n",
        "topics_link = []\n",
        "for tag in hearder_link_tags[1:]:\n",
        "#     print(tag)\n",
        "        topics_link.append({\n",
        "        \"title\": tag.text.strip(),\n",
        "        \"url\": tag.find(\"a\")[\"href\"] })\n",
        "#################store in dictionary\n",
        "table_topics = { k:[ d.get(k) for d in topics_link]\n",
        "                   for k in set().union(*topics_link)}"
      ],
      "execution_count": null,
      "outputs": []
    },
    {
      "cell_type": "code",
      "metadata": {
        "id": "TwuBTUdE8qiS"
      },
      "source": [
        "topics_df = pd.DataFrame(table_topics)\n",
        "#topics_df.head()"
      ],
      "execution_count": null,
      "outputs": []
    },
    {
      "cell_type": "code",
      "metadata": {
        "colab": {
          "base_uri": "https://localhost:8080/"
        },
        "id": "Lf0nOd3Y64Mg",
        "outputId": "40e41bf0-8207-4a0d-bf4b-cd0d62e1a299"
      },
      "source": [
        "len(table_topics[\"url\"])"
      ],
      "execution_count": null,
      "outputs": [
        {
          "output_type": "execute_result",
          "data": {
            "text/plain": [
              "40"
            ]
          },
          "metadata": {},
          "execution_count": 15
        }
      ]
    },
    {
      "cell_type": "code",
      "metadata": {
        "id": "KY5nA9E-7Xwf"
      },
      "source": [
        "import time\n",
        "import numpy as np"
      ],
      "execution_count": null,
      "outputs": []
    },
    {
      "cell_type": "code",
      "metadata": {
        "id": "eMs2KclV7Zhr"
      },
      "source": [
        "def fetch(url):\n",
        "    ''' The function take url and headers to download and parse the page using request.get and BeautifulSoup library\n",
        "    it return a parent tag of typeBeautifulSoup object\n",
        "    Argument:\n",
        "    -url(string): web page url to be downloaded and parse\n",
        "    Return:\n",
        "    -doc(Beautiful 0bject): it's the parent tag containing the information that we need parsed from the page'''\n",
        "    HEADERS= {\"User-Agent\":\"Mozilla/5.0 (Windows NT 10.0; Win64; x64; rv:66.0) Gecko/20100101 Firefox/66.0\", \"Accept-Encoding\":\"gzip, deflate\", \"Accept\":\"text/html,application/xhtml+xml,application/xml;q=0.9,*/*;q=0.8\", \"DNT\":\"1\",\"Connection\":\"close\", \"Upgrade-Insecure-Requests\":\"1\"}\n",
        "    response = requests.get(url,headers= HEADERS)\n",
        "    if response.status_code != 200:\n",
        "        print(\"Status code:\", response.status_code)\n",
        "        raise Exception(\"Failed to link to web page \" + topic_url)\n",
        "    page_content  = BeautifulSoup(response.text,\"html.parser\")\n",
        "    doc = page_content.findAll('div', attrs={'class':'a-section a-spacing-none aok-relative'})\n",
        "    return doc"
      ],
      "execution_count": null,
      "outputs": []
    },
    {
      "cell_type": "code",
      "metadata": {
        "id": "UBKz--5f7jRj"
      },
      "source": [
        "def parse_page(table_topics,pageNo):\n",
        "    \"\"\"The function take all topic categories and number of page to parse for each topic as input, apply get request to download each\n",
        "    page, the use Beautifulsoup to parse the page. the function output are article_tags list containing all pages content, t_description\n",
        "    list containing correspponding topic or categories then an url list for corresponding Url.\n",
        "    Argument:\n",
        "    -table_topics(dict): dictionary containing topic description and url\n",
        "    -pageNo(int): number of page to parse per topic\n",
        "    Return:\n",
        "    -article_tags(list): list containing successfully parsed pages content where each index is a Beautifulsoup type\n",
        "    -t_description(list): list containing  successfully parsed topic description\n",
        "    -t_url(list): list containing successfully parsed page topic url\n",
        "    -fail_tags(list): list containing pages url that failed first parsing\n",
        "    -failed_topic(list): list contaning pages topic description that failed first parsing\n",
        "    \"\"\"\n",
        "    article_tags,t_description, t_url,fail_tags,failed_topic =[],[],[],[],[]\n",
        "    for i in range(0,len(table_topics[\"url\"])):\n",
        "         # take the url\n",
        "        topic_url = table_topics[\"url\"][i]\n",
        "        topics_description =  table_topics[\"title\"][i]\n",
        "        try:\n",
        "            for j in range(1,pageNo+1):\n",
        "                ref = topic_url.find(\"ref\")\n",
        "                url = topic_url[:ref]+\"ref=zg_bs_pg_\"+str(j)+\"?_encoding=UTF8&pg=\"+str(j)\n",
        "                time.sleep(10)\n",
        "                #use resquest to obtain HMTL page content   +str(pageNo)+\n",
        "                doc = fetch(url)\n",
        "                if len(doc)==0:\n",
        "                    print(\"failed to parse page{}\".format(url))\n",
        "                    fail_tags.append(url)\n",
        "                    failed_topic.append(topics_description)\n",
        "                else:\n",
        "                    print(\"Sucsessfully parse:\",url)\n",
        "                    article_tags.append(doc)\n",
        "                    t_description.append(topics_description)\n",
        "                    t_url.append(topic_url)\n",
        "        except Exception as e:\n",
        "            print(e)\n",
        "    return article_tags,t_description,t_url,fail_tags,failed_topic"
      ],
      "execution_count": null,
      "outputs": []
    },
    {
      "cell_type": "code",
      "metadata": {
        "id": "QDsaipmX7tIR"
      },
      "source": [
        "def reparse_failed_page(fail_page_url,failed_topic):\n",
        "    \"\"\"The function take topic categories url, and description that failed to be accessible due to captcha in the first parsing process,\n",
        "     try to fetch and parse thoses page for a second time.\n",
        "     the function return article_tags list containing all pages content, topic_description,topic_url and other pages url and topic that failed to load content again\n",
        "    Argument:\n",
        "    -fail_page_url(dict): list containing failed first parsing web page url\n",
        "    -failed_topic(int): list contaning failed first parsing ictionary containing topic description and url\n",
        "    Return:\n",
        "    -article_tags2(list): list containing successfully parsed pages content where each index is a Beautifulsoup type\n",
        "    -t_description(list): list containing  successfully parsed topic description\n",
        "    -t_url(list): list containing successfully parsed page topic url\n",
        "    -fail_p(list): list containing pages url that failed again\n",
        "    -fail_t(list): list contaning pages topic description that failed gain\n",
        "    \"\"\"\n",
        "    print(\"check if there is any failed pages,then print number:\",len(fail_page_url))\n",
        "    article_tag2, topic_url, topic_d, fail_p, fail_t = [],[],[],[],[]\n",
        "    try:\n",
        "        for i in range(len(fail_page_url)):\n",
        "            time.sleep(20)\n",
        "            doc = fetch(url)\n",
        "            if len(doc)==0:\n",
        "                print(\"page{}failed again\".format(fail_page_url[i]))\n",
        "                fail_p.append(fail_page_url[i])\n",
        "                fail_t.append(failed_topic[i])\n",
        "            else:\n",
        "                article_tag2.append(doc)\n",
        "                topic_url.append(fail_page_url[i])\n",
        "                topic_d.append(failed_topic[i])\n",
        "    except Exception as e:\n",
        "        print(e)\n",
        "    return article_tag2,topic_d,topic_url,fail_p,fail_t"
      ],
      "execution_count": null,
      "outputs": []
    },
    {
      "cell_type": "code",
      "metadata": {
        "id": "z9p60sYN7vlg"
      },
      "source": [
        "def parse(table_topics,pageNo):\n",
        "    \"\"\"The function take table_topics, and number of page to parse for ecah topic url,the main purpose of this funtion is\n",
        "     to realize a double attempt to parse maximum number of pages it can .It's a combination of result getting from first\n",
        "     and second parse.\n",
        "     Argument\n",
        "     -table_topics(dict): dictionary containing topic description and url\n",
        "     -pageNo(int): number of page to parse per topic\n",
        "     Return:\n",
        "     -all_arcticle_tag(list): list containing all successfully parsed pages content where each index is a Beautifulsoup type\n",
        "     -all_topics_description(list): list containing  all successfully parsed topic description\n",
        "     -all_topics_url(list): list containing all successfully parsed page topic url\n",
        "    \"\"\"\n",
        "    article_tags,t_description,t_url,fail_tags,failed_topic = parse_page(table_topics,pageNo)\n",
        "    if len(fail_tags)!=0:\n",
        "        article_tags2,t_description2,t_url2,fail_tags2,failed_topic2 = reparse_failed_page(fail_tags,failed_topic)\n",
        "        all_arcticle_tag = [*article_tags,*article_tags2]\n",
        "        all_topics_description = [*t_description,*t_description2]\n",
        "        all_topics_url = [*t_url,*t_url2]\n",
        "        #return all_arcticle_tag,all_topics_description,all_topics_url\n",
        "    else:\n",
        "        print(\"successfully parsed all pages\")\n",
        "        all_arcticle_tag =   article_tags\n",
        "        all_topics_description =t_description\n",
        "        all_topics_url = t_url\n",
        "       # return article_tags,t_description,t_url,fail_tags,failed_topic\n",
        "    return all_arcticle_tag,all_topics_description,all_topics_url"
      ],
      "execution_count": null,
      "outputs": []
    },
    {
      "cell_type": "code",
      "metadata": {
        "colab": {
          "base_uri": "https://localhost:8080/"
        },
        "id": "-UUa4HKA7yq6",
        "outputId": "90725349-f8f0-44d4-f4cf-40bc50097d95"
      },
      "source": [
        "all_arcticle_tag,all_topics_description,all_topics_url = parse(table_topics,5)\n"
      ],
      "execution_count": null,
      "outputs": [
        {
          "output_type": "stream",
          "text": [
            "Sucsessfully parse: https://www.amazon.com/Best-Sellers/zgbs/amazon-devices/ref=zg_bs_pg_1?_encoding=UTF8&pg=1\n",
            "Sucsessfully parse: https://www.amazon.com/Best-Sellers/zgbs/amazon-devices/ref=zg_bs_pg_2?_encoding=UTF8&pg=2\n",
            "Status code: 404\n",
            "name 'topic_url' is not defined\n",
            "Sucsessfully parse: https://www.amazon.com/Best-Sellers-Amazon-Launchpad/zgbs/boost/ref=zg_bs_pg_1?_encoding=UTF8&pg=1\n",
            "Sucsessfully parse: https://www.amazon.com/Best-Sellers-Amazon-Launchpad/zgbs/boost/ref=zg_bs_pg_2?_encoding=UTF8&pg=2\n",
            "Status code: 404\n",
            "name 'topic_url' is not defined\n",
            "Sucsessfully parse: https://www.amazon.com/Best-Sellers-Appliances/zgbs/appliances/ref=zg_bs_pg_1?_encoding=UTF8&pg=1\n",
            "Sucsessfully parse: https://www.amazon.com/Best-Sellers-Appliances/zgbs/appliances/ref=zg_bs_pg_2?_encoding=UTF8&pg=2\n",
            "Status code: 404\n",
            "name 'topic_url' is not defined\n",
            "Sucsessfully parse: https://www.amazon.com/Best-Sellers-Appstore-Android/zgbs/mobile-apps/ref=zg_bs_pg_1?_encoding=UTF8&pg=1\n",
            "Sucsessfully parse: https://www.amazon.com/Best-Sellers-Appstore-Android/zgbs/mobile-apps/ref=zg_bs_pg_2?_encoding=UTF8&pg=2\n",
            "Status code: 404\n",
            "name 'topic_url' is not defined\n",
            "Sucsessfully parse: https://www.amazon.com/Best-Sellers-Arts-Crafts-Sewing/zgbs/arts-crafts/ref=zg_bs_pg_1?_encoding=UTF8&pg=1\n",
            "Sucsessfully parse: https://www.amazon.com/Best-Sellers-Arts-Crafts-Sewing/zgbs/arts-crafts/ref=zg_bs_pg_2?_encoding=UTF8&pg=2\n",
            "Status code: 404\n",
            "name 'topic_url' is not defined\n",
            "Sucsessfully parse: https://www.amazon.com/Best-Sellers-Audible-Audiobooks/zgbs/audible/ref=zg_bs_pg_1?_encoding=UTF8&pg=1\n",
            "Sucsessfully parse: https://www.amazon.com/Best-Sellers-Audible-Audiobooks/zgbs/audible/ref=zg_bs_pg_2?_encoding=UTF8&pg=2\n",
            "Status code: 404\n",
            "name 'topic_url' is not defined\n",
            "Sucsessfully parse: https://www.amazon.com/Best-Sellers-Automotive/zgbs/automotive/ref=zg_bs_pg_1?_encoding=UTF8&pg=1\n",
            "Sucsessfully parse: https://www.amazon.com/Best-Sellers-Automotive/zgbs/automotive/ref=zg_bs_pg_2?_encoding=UTF8&pg=2\n",
            "Status code: 404\n",
            "name 'topic_url' is not defined\n",
            "Sucsessfully parse: https://www.amazon.com/Best-Sellers-Baby/zgbs/baby-products/ref=zg_bs_pg_1?_encoding=UTF8&pg=1\n",
            "Sucsessfully parse: https://www.amazon.com/Best-Sellers-Baby/zgbs/baby-products/ref=zg_bs_pg_2?_encoding=UTF8&pg=2\n",
            "Status code: 404\n",
            "name 'topic_url' is not defined\n",
            "Sucsessfully parse: https://www.amazon.com/Best-Sellers-Beauty/zgbs/beauty/ref=zg_bs_pg_1?_encoding=UTF8&pg=1\n",
            "Sucsessfully parse: https://www.amazon.com/Best-Sellers-Beauty/zgbs/beauty/ref=zg_bs_pg_2?_encoding=UTF8&pg=2\n",
            "Status code: 404\n",
            "name 'topic_url' is not defined\n",
            "Sucsessfully parse: https://www.amazon.com/best-sellers-books-Amazon/zgbs/books/ref=zg_bs_pg_1?_encoding=UTF8&pg=1\n",
            "Sucsessfully parse: https://www.amazon.com/best-sellers-books-Amazon/zgbs/books/ref=zg_bs_pg_2?_encoding=UTF8&pg=2\n",
            "Status code: 404\n",
            "name 'topic_url' is not defined\n",
            "Sucsessfully parse: https://www.amazon.com/best-sellers-music-albums/zgbs/music/ref=zg_bs_pg_1?_encoding=UTF8&pg=1\n",
            "Sucsessfully parse: https://www.amazon.com/best-sellers-music-albums/zgbs/music/ref=zg_bs_pg_2?_encoding=UTF8&pg=2\n",
            "Status code: 404\n",
            "name 'topic_url' is not defined\n",
            "Sucsessfully parse: https://www.amazon.com/best-sellers-camera-photo/zgbs/photo/ref=zg_bs_pg_1?_encoding=UTF8&pg=1\n",
            "Sucsessfully parse: https://www.amazon.com/best-sellers-camera-photo/zgbs/photo/ref=zg_bs_pg_2?_encoding=UTF8&pg=2\n",
            "Status code: 404\n",
            "name 'topic_url' is not defined\n",
            "Sucsessfully parse: https://www.amazon.com/Best-Sellers/zgbs/wireless/ref=zg_bs_pg_1?_encoding=UTF8&pg=1\n",
            "Sucsessfully parse: https://www.amazon.com/Best-Sellers/zgbs/wireless/ref=zg_bs_pg_2?_encoding=UTF8&pg=2\n",
            "Status code: 404\n",
            "name 'topic_url' is not defined\n",
            "Sucsessfully parse: https://www.amazon.com/Best-Sellers/zgbs/fashion/ref=zg_bs_pg_1?_encoding=UTF8&pg=1\n",
            "Sucsessfully parse: https://www.amazon.com/Best-Sellers/zgbs/fashion/ref=zg_bs_pg_2?_encoding=UTF8&pg=2\n",
            "Status code: 404\n",
            "name 'topic_url' is not defined\n",
            "Sucsessfully parse: https://www.amazon.com/Best-Sellers-Collectible-Coins/zgbs/coins/ref=zg_bs_pg_1?_encoding=UTF8&pg=1\n",
            "Sucsessfully parse: https://www.amazon.com/Best-Sellers-Collectible-Coins/zgbs/coins/ref=zg_bs_pg_2?_encoding=UTF8&pg=2\n",
            "Status code: 404\n",
            "name 'topic_url' is not defined\n",
            "Sucsessfully parse: https://www.amazon.com/Best-Sellers-Computers-Accessories/zgbs/pc/ref=zg_bs_pg_1?_encoding=UTF8&pg=1\n",
            "Sucsessfully parse: https://www.amazon.com/Best-Sellers-Computers-Accessories/zgbs/pc/ref=zg_bs_pg_2?_encoding=UTF8&pg=2\n",
            "Status code: 404\n",
            "name 'topic_url' is not defined\n",
            "Sucsessfully parse: https://www.amazon.com/Best-Sellers/zgbs/digital-educational-resources/ref=zg_bs_pg_1?_encoding=UTF8&pg=1\n",
            "Sucsessfully parse: https://www.amazon.com/Best-Sellers/zgbs/digital-educational-resources/ref=zg_bs_pg_2?_encoding=UTF8&pg=2\n",
            "Status code: 404\n",
            "name 'topic_url' is not defined\n",
            "failed to parse pagehttps://www.amazon.com/Best-Sellers-MP3-Downloads/zgbs/dmusic/ref=zg_bs_pg_1?_encoding=UTF8&pg=1\n",
            "failed to parse pagehttps://www.amazon.com/Best-Sellers-MP3-Downloads/zgbs/dmusic/ref=zg_bs_pg_2?_encoding=UTF8&pg=2\n",
            "Status code: 404\n",
            "name 'topic_url' is not defined\n",
            "Sucsessfully parse: https://www.amazon.com/Best-Sellers-Electronics/zgbs/electronics/ref=zg_bs_pg_1?_encoding=UTF8&pg=1\n",
            "Sucsessfully parse: https://www.amazon.com/Best-Sellers-Electronics/zgbs/electronics/ref=zg_bs_pg_2?_encoding=UTF8&pg=2\n",
            "Status code: 404\n",
            "name 'topic_url' is not defined\n",
            "Sucsessfully parse: https://www.amazon.com/Best-Sellers-Entertainment-Collectibles/zgbs/entertainment-collectibles/ref=zg_bs_pg_1?_encoding=UTF8&pg=1\n",
            "Sucsessfully parse: https://www.amazon.com/Best-Sellers-Entertainment-Collectibles/zgbs/entertainment-collectibles/ref=zg_bs_pg_2?_encoding=UTF8&pg=2\n",
            "Status code: 404\n",
            "name 'topic_url' is not defined\n",
            "Sucsessfully parse: https://www.amazon.com/Best-Sellers-Gift-Cards/zgbs/gift-cards/ref=zg_bs_pg_1?_encoding=UTF8&pg=1\n",
            "Sucsessfully parse: https://www.amazon.com/Best-Sellers-Gift-Cards/zgbs/gift-cards/ref=zg_bs_pg_2?_encoding=UTF8&pg=2\n",
            "Status code: 404\n",
            "name 'topic_url' is not defined\n",
            "Sucsessfully parse: https://www.amazon.com/Best-Sellers-Grocery-Gourmet-Food/zgbs/grocery/ref=zg_bs_pg_1?_encoding=UTF8&pg=1\n",
            "Sucsessfully parse: https://www.amazon.com/Best-Sellers-Grocery-Gourmet-Food/zgbs/grocery/ref=zg_bs_pg_2?_encoding=UTF8&pg=2\n",
            "Status code: 404\n",
            "name 'topic_url' is not defined\n",
            "Sucsessfully parse: https://www.amazon.com/Best-Sellers-Handmade/zgbs/handmade/ref=zg_bs_pg_1?_encoding=UTF8&pg=1\n",
            "Sucsessfully parse: https://www.amazon.com/Best-Sellers-Handmade/zgbs/handmade/ref=zg_bs_pg_2?_encoding=UTF8&pg=2\n",
            "Status code: 404\n",
            "name 'topic_url' is not defined\n",
            "Sucsessfully parse: https://www.amazon.com/Best-Sellers-Health-Personal-Care/zgbs/hpc/ref=zg_bs_pg_1?_encoding=UTF8&pg=1\n",
            "Sucsessfully parse: https://www.amazon.com/Best-Sellers-Health-Personal-Care/zgbs/hpc/ref=zg_bs_pg_2?_encoding=UTF8&pg=2\n",
            "Status code: 404\n",
            "name 'topic_url' is not defined\n",
            "Sucsessfully parse: https://www.amazon.com/Best-Sellers-Home-Kitchen/zgbs/home-garden/ref=zg_bs_pg_1?_encoding=UTF8&pg=1\n",
            "Sucsessfully parse: https://www.amazon.com/Best-Sellers-Home-Kitchen/zgbs/home-garden/ref=zg_bs_pg_2?_encoding=UTF8&pg=2\n",
            "Status code: 404\n",
            "name 'topic_url' is not defined\n",
            "Sucsessfully parse: https://www.amazon.com/Best-Sellers-Industrial-Scientific/zgbs/industrial/ref=zg_bs_pg_1?_encoding=UTF8&pg=1\n",
            "Sucsessfully parse: https://www.amazon.com/Best-Sellers-Industrial-Scientific/zgbs/industrial/ref=zg_bs_pg_2?_encoding=UTF8&pg=2\n",
            "Status code: 404\n",
            "name 'topic_url' is not defined\n",
            "Sucsessfully parse: https://www.amazon.com/Best-Sellers-Kindle-Store/zgbs/digital-text/ref=zg_bs_pg_1?_encoding=UTF8&pg=1\n",
            "Sucsessfully parse: https://www.amazon.com/Best-Sellers-Kindle-Store/zgbs/digital-text/ref=zg_bs_pg_2?_encoding=UTF8&pg=2\n",
            "Status code: 404\n",
            "name 'topic_url' is not defined\n",
            "Sucsessfully parse: https://www.amazon.com/Best-Sellers-Kitchen-Dining/zgbs/kitchen/ref=zg_bs_pg_1?_encoding=UTF8&pg=1\n",
            "Sucsessfully parse: https://www.amazon.com/Best-Sellers-Kitchen-Dining/zgbs/kitchen/ref=zg_bs_pg_2?_encoding=UTF8&pg=2\n",
            "Status code: 404\n",
            "name 'topic_url' is not defined\n",
            "Sucsessfully parse: https://www.amazon.com/Best-Sellers-Magazines/zgbs/magazines/ref=zg_bs_pg_1?_encoding=UTF8&pg=1\n",
            "Sucsessfully parse: https://www.amazon.com/Best-Sellers-Magazines/zgbs/magazines/ref=zg_bs_pg_2?_encoding=UTF8&pg=2\n",
            "Status code: 404\n",
            "name 'topic_url' is not defined\n",
            "Sucsessfully parse: https://www.amazon.com/best-sellers-movies-TV-DVD-Blu-ray/zgbs/movies-tv/ref=zg_bs_pg_1?_encoding=UTF8&pg=1\n",
            "Sucsessfully parse: https://www.amazon.com/best-sellers-movies-TV-DVD-Blu-ray/zgbs/movies-tv/ref=zg_bs_pg_2?_encoding=UTF8&pg=2\n",
            "Status code: 404\n",
            "name 'topic_url' is not defined\n",
            "Sucsessfully parse: https://www.amazon.com/Best-Sellers-Musical-Instruments/zgbs/musical-instruments/ref=zg_bs_pg_1?_encoding=UTF8&pg=1\n",
            "Sucsessfully parse: https://www.amazon.com/Best-Sellers-Musical-Instruments/zgbs/musical-instruments/ref=zg_bs_pg_2?_encoding=UTF8&pg=2\n",
            "Status code: 404\n",
            "name 'topic_url' is not defined\n",
            "Sucsessfully parse: https://www.amazon.com/Best-Sellers-Office-Products/zgbs/office-products/ref=zg_bs_pg_1?_encoding=UTF8&pg=1\n",
            "Sucsessfully parse: https://www.amazon.com/Best-Sellers-Office-Products/zgbs/office-products/ref=zg_bs_pg_2?_encoding=UTF8&pg=2\n",
            "Status code: 404\n",
            "name 'topic_url' is not defined\n",
            "Sucsessfully parse: https://www.amazon.com/Best-Sellers-Garden-Outdoor/zgbs/lawn-garden/ref=zg_bs_pg_1?_encoding=UTF8&pg=1\n",
            "Sucsessfully parse: https://www.amazon.com/Best-Sellers-Garden-Outdoor/zgbs/lawn-garden/ref=zg_bs_pg_2?_encoding=UTF8&pg=2\n",
            "Status code: 404\n",
            "name 'topic_url' is not defined\n",
            "Sucsessfully parse: https://www.amazon.com/Best-Sellers-Pet-Supplies/zgbs/pet-supplies/ref=zg_bs_pg_1?_encoding=UTF8&pg=1\n",
            "Sucsessfully parse: https://www.amazon.com/Best-Sellers-Pet-Supplies/zgbs/pet-supplies/ref=zg_bs_pg_2?_encoding=UTF8&pg=2\n",
            "Status code: 404\n",
            "name 'topic_url' is not defined\n",
            "Sucsessfully parse: https://www.amazon.com/best-sellers-software/zgbs/software/ref=zg_bs_pg_1?_encoding=UTF8&pg=1\n",
            "Sucsessfully parse: https://www.amazon.com/best-sellers-software/zgbs/software/ref=zg_bs_pg_2?_encoding=UTF8&pg=2\n",
            "Status code: 404\n",
            "name 'topic_url' is not defined\n",
            "Sucsessfully parse: https://www.amazon.com/Best-Sellers-Sports-Outdoors/zgbs/sporting-goods/ref=zg_bs_pg_1?_encoding=UTF8&pg=1\n",
            "Sucsessfully parse: https://www.amazon.com/Best-Sellers-Sports-Outdoors/zgbs/sporting-goods/ref=zg_bs_pg_2?_encoding=UTF8&pg=2\n",
            "Status code: 404\n",
            "name 'topic_url' is not defined\n",
            "Sucsessfully parse: https://www.amazon.com/Best-Sellers-Sports-Collectibles/zgbs/sports-collectibles/ref=zg_bs_pg_1?_encoding=UTF8&pg=1\n",
            "Sucsessfully parse: https://www.amazon.com/Best-Sellers-Sports-Collectibles/zgbs/sports-collectibles/ref=zg_bs_pg_2?_encoding=UTF8&pg=2\n",
            "Status code: 404\n",
            "name 'topic_url' is not defined\n",
            "Sucsessfully parse: https://www.amazon.com/Best-Sellers-Home-Improvement/zgbs/hi/ref=zg_bs_pg_1?_encoding=UTF8&pg=1\n",
            "Sucsessfully parse: https://www.amazon.com/Best-Sellers-Home-Improvement/zgbs/hi/ref=zg_bs_pg_2?_encoding=UTF8&pg=2\n",
            "Status code: 404\n",
            "name 'topic_url' is not defined\n",
            "Sucsessfully parse: https://www.amazon.com/Best-Sellers-Toys-Games/zgbs/toys-and-games/ref=zg_bs_pg_1?_encoding=UTF8&pg=1\n",
            "Sucsessfully parse: https://www.amazon.com/Best-Sellers-Toys-Games/zgbs/toys-and-games/ref=zg_bs_pg_2?_encoding=UTF8&pg=2\n",
            "Status code: 404\n",
            "name 'topic_url' is not defined\n",
            "Sucsessfully parse: https://www.amazon.com/best-sellers-video-games/zgbs/videogames/ref=zg_bs_pg_1?_encoding=UTF8&pg=1\n",
            "Sucsessfully parse: https://www.amazon.com/best-sellers-video-games/zgbs/videogames/ref=zg_bs_pg_2?_encoding=UTF8&pg=2\n",
            "Status code: 404\n",
            "name 'topic_url' is not defined\n",
            "check if there is any failed pages,then print number: 2\n",
            "pagehttps://www.amazon.com/Best-Sellers-MP3-Downloads/zgbs/dmusic/ref=zg_bs_pg_1?_encoding=UTF8&pg=1failed again\n",
            "pagehttps://www.amazon.com/Best-Sellers-MP3-Downloads/zgbs/dmusic/ref=zg_bs_pg_2?_encoding=UTF8&pg=2failed again\n"
          ],
          "name": "stdout"
        }
      ]
    },
    {
      "cell_type": "code",
      "metadata": {
        "colab": {
          "base_uri": "https://localhost:8080/"
        },
        "id": "x3nihNGMFQDE",
        "outputId": "50e73b9b-5c77-4190-87b3-05143ec60ea4"
      },
      "source": [
        "len(all_arcticle_tag)"
      ],
      "execution_count": null,
      "outputs": [
        {
          "output_type": "execute_result",
          "data": {
            "text/plain": [
              "78"
            ]
          },
          "metadata": {},
          "execution_count": 63
        }
      ]
    },
    {
      "cell_type": "code",
      "metadata": {
        "id": "Lp88cS8PFjjk"
      },
      "source": [
        "def get_item_url(d):\n",
        "    \"\"\"The function take a parent tag attribute as input and find for corresponding child tag(image),\n",
        "    then return item image url, and 'no image' if can't find an image\n",
        "    -d(BeautifulSoup element): parent tag\n",
        "    Return:\n",
        "    -img(float): item image url\n",
        "    \"\"\"\n",
        "    image = d.findAll(\"img\", src = True)\n",
        "    try:\n",
        "        img = image[0][\"src\"]\n",
        "    except:\n",
        "        img = 'No image'\n",
        "    return img"
      ],
      "execution_count": null,
      "outputs": []
    },
    {
      "cell_type": "code",
      "metadata": {
        "id": "E3Kwoy2QGCLl"
      },
      "source": [
        "def get_topic_url_item_description(doc,topic_description,topic_url):\n",
        "    \"\"\"The funtion takes a parent tag attribute, topic description and topic url as input, after finding the item name tags,\n",
        "    the function return the item name(description), his corresponding topic(category) and his category url\n",
        "    Argument:\n",
        "    -doc(BeautifulSoup element): parents tag\n",
        "    -topic_description(string): topic name or category\n",
        "    -topic_url(string): topic url\n",
        "    Return:\n",
        "    -item_description(string): item name\n",
        "    -topic_description(string):corresponding topic\n",
        "    - topic_url(string): corresponding topic url\"\"\"\n",
        "    name = doc.find(\"span\", attrs={'class':'zg-text-center-align'})\n",
        "    try:\n",
        "        item_description = name.find_all('img', alt=True)[0][\"alt\"]\n",
        "    except:\n",
        "        item_description = ''\n",
        "    return item_description,topic_description,topic_url"
      ],
      "execution_count": null,
      "outputs": []
    },
    {
      "cell_type": "code",
      "metadata": {
        "id": "r0huh-zKHKod"
      },
      "source": [
        "def get_item_price(d):\n",
        "    \"\"\"The function take a parent tag attribute as input and find for corresponding child tag(item price),\n",
        "    then return maximum price and minimum price for corresponding item and 0 when no price is found\n",
        "    Argument:\n",
        "    -d(BeautifulSoup element): parent tag\n",
        "    Return:\n",
        "    -min_price(float): item minimum price\n",
        "    -max_price(float): item maximum price\n",
        "    \"\"\"\n",
        "    p = d.find(\"span\",attrs={\"class\":\"a-size-base a-color-price\"})\n",
        "    try :\n",
        "        if \"-\" in p.text :\n",
        "            min_price = float(((p.text).split(\"-\")[0]).replace(\"$\",\"\"))\n",
        "            max_price = float((((p.text).split(\"-\")[1]).replace(\",\",\"\")).replace(\"$\",\"\"))\n",
        "        else :\n",
        "            min_price = float(((p.text[:5]).replace(\",\",\"\")).strip().replace(\"$\",\"\"))\n",
        "            max_price = 0.0\n",
        "    except:\n",
        "        min_price = 0.0\n",
        "        max_price = 0.0\n",
        "    return min_price,max_price"
      ],
      "execution_count": null,
      "outputs": []
    },
    {
      "cell_type": "code",
      "metadata": {
        "id": "m-mJv_ngHI9l"
      },
      "source": [
        "def get_item_rate(d):\n",
        "    \"\"\"The function take a parent tag attribute as input and find for corresponding child tag(rate),\n",
        "    then return item rating out of 5, and 0.0 when can't find a rate\n",
        "    Argument:\n",
        "    -d(BeautifulSoup element): parent tag\n",
        "    Return:\n",
        "    -rating(float): item rating out or 5\n",
        "    \"\"\"\n",
        "    rate = d.find(\"span\",attrs={\"class\":\"a-icon-alt\"})\n",
        "    try :\n",
        "        rating = float(rate.text[:3])\n",
        "    except:\n",
        "        rating = 0.0\n",
        "    return rating\n",
        "\n",
        "def get_item_review(d):\n",
        "    \"\"\"The function take a parent tag attribute as input and find for corresponding child tag(costumers review),\n",
        "    then return item review, and 0 when can't find number  of review\n",
        "    Argument:\n",
        "    -d(BeautifulSoup element): parent tag\n",
        "    Return:\n",
        "    -review(float): item costumer review\n",
        "    \"\"\"\n",
        "    review = d.find(\"a\",attrs ={\"class\":\"a-size-small a-link-normal\"})\n",
        "    try :\n",
        "        review = int((review.text).replace(\",\",\"\"))\n",
        "    except:\n",
        "        review = 0\n",
        "    return review"
      ],
      "execution_count": null,
      "outputs": []
    },
    {
      "cell_type": "code",
      "metadata": {
        "id": "3VkJq7QlFojz"
      },
      "source": [
        "def get_info(article_tags,t_description,t_url):\n",
        "    \"\"\"The function take a list of pages content which each index is a Beautiful element that will be use to find parent tag,list of topic description and  topic url then\n",
        "     the return a dictionary made of list of each item information data such as: his corresponding topic, the topic url,\n",
        "     the item description, minimum price(maximum price if exist), item rating, costumer review, and item image url\n",
        "    Argument:\n",
        "    -article_tags(list): list containing all pages content where each index is a Beautifulsoup type\n",
        "    -t_description(list): list containing  topic description\n",
        "    -t_url(list): list containing topic url\n",
        "    Return:\n",
        "    -dictionary(dict): dictionary containing all item information data taken from each parse page topic\n",
        "    \"\"\"\n",
        "    topic_description, topics_url, item, item_url = [],[],[],[]\n",
        "    minimum_price, maximum_price, rating, costuomer_review = [],[],[],[]\n",
        "\n",
        "    for idx in range(0,len(article_tags)):\n",
        "        doc = article_tags[idx]#.findAll('div', attrs={'class':'a-section a-spacing-none aok-relative'})\n",
        "        for d in doc :\n",
        "            names,topic_name,topic_url = get_topic_url_item_description(d,t_description[idx],t_url[idx])\n",
        "            min_price,max_price = get_item_price(d)\n",
        "            rate = get_item_rate(d)\n",
        "            review = get_item_review(d)\n",
        "            url = get_item_url(d)\n",
        "            ####put each item data inside corresponding list\n",
        "            item.append(names)\n",
        "            topic_description.append(topic_name)\n",
        "            topics_url.append(topic_url)\n",
        "            minimum_price.append(min_price)\n",
        "            maximum_price.append(max_price)\n",
        "            rating.append(rate)\n",
        "            costuomer_review.append(review)\n",
        "            item_url.append(url)\n",
        "    return {\n",
        "           \"Topic\": topic_description,\n",
        "           \"Topic_url\": topics_url,\n",
        "           \"Item_description\": item,\n",
        "           \"Rating out of 5\": rating,\n",
        "           \"Minimum_price\": minimum_price,\n",
        "           \"Maximum_price\": maximum_price,\n",
        "           \"Review\" :costuomer_review,\n",
        "           \"Item Url\" : item_url}"
      ],
      "execution_count": null,
      "outputs": []
    },
    {
      "cell_type": "code",
      "metadata": {
        "id": "zrissrZFGOxQ"
      },
      "source": [
        "data = get_info(all_arcticle_tag,all_topics_description,all_topics_url)"
      ],
      "execution_count": null,
      "outputs": []
    },
    {
      "cell_type": "code",
      "metadata": {
        "id": "VtFIX40wGS-p"
      },
      "source": [
        "dataframe = pd.DataFrame(data)"
      ],
      "execution_count": null,
      "outputs": []
    },
    {
      "cell_type": "code",
      "metadata": {
        "colab": {
          "base_uri": "https://localhost:8080/"
        },
        "id": "CPoP9LaGHPqX",
        "outputId": "8d36c8b5-0b90-4530-92d1-f022ccbb1f31"
      },
      "source": [
        "print(dataframe.head())\n"
      ],
      "execution_count": null,
      "outputs": [
        {
          "output_type": "stream",
          "text": [
            "                          Topic  ...                                           Item Url\n",
            "0  Amazon Devices & Accessories  ...  https://images-na.ssl-images-amazon.com/images...\n",
            "1  Amazon Devices & Accessories  ...  https://images-na.ssl-images-amazon.com/images...\n",
            "2  Amazon Devices & Accessories  ...  https://images-na.ssl-images-amazon.com/images...\n",
            "3  Amazon Devices & Accessories  ...  https://images-na.ssl-images-amazon.com/images...\n",
            "4  Amazon Devices & Accessories  ...  https://images-na.ssl-images-amazon.com/images...\n",
            "\n",
            "[5 rows x 8 columns]\n"
          ],
          "name": "stdout"
        }
      ]
    },
    {
      "cell_type": "code",
      "metadata": {
        "id": "Ca15uCTrHgH7"
      },
      "source": [
        "clothes_df = dataframe[dataframe['Topic']== 'Clothing, Shoes & Jewelry' ]"
      ],
      "execution_count": null,
      "outputs": []
    },
    {
      "cell_type": "code",
      "metadata": {
        "colab": {
          "base_uri": "https://localhost:8080/"
        },
        "id": "YBoS25_eHsNd",
        "outputId": "dcef1f8c-5fa0-4fad-e4a5-72b391a83b96"
      },
      "source": [
        "print(clothes_df.head())"
      ],
      "execution_count": null,
      "outputs": [
        {
          "output_type": "stream",
          "text": [
            "                          Topic  ...                                           Item Url\n",
            "1300  Clothing, Shoes & Jewelry  ...  https://images-na.ssl-images-amazon.com/images...\n",
            "1301  Clothing, Shoes & Jewelry  ...  https://images-na.ssl-images-amazon.com/images...\n",
            "1302  Clothing, Shoes & Jewelry  ...  https://images-na.ssl-images-amazon.com/images...\n",
            "1303  Clothing, Shoes & Jewelry  ...  https://images-na.ssl-images-amazon.com/images...\n",
            "1304  Clothing, Shoes & Jewelry  ...  https://images-na.ssl-images-amazon.com/images...\n",
            "\n",
            "[5 rows x 8 columns]\n"
          ],
          "name": "stdout"
        }
      ]
    },
    {
      "cell_type": "code",
      "metadata": {
        "colab": {
          "base_uri": "https://localhost:8080/"
        },
        "id": "w6l7mq22H0-v",
        "outputId": "d29353aa-65e4-405d-b359-20cb4eaeb4a7"
      },
      "source": [
        "clothes_df.columns"
      ],
      "execution_count": null,
      "outputs": [
        {
          "output_type": "execute_result",
          "data": {
            "text/plain": [
              "Index(['Topic', 'Topic_url', 'Item_description', 'Rating out of 5',\n",
              "       'Minimum_price', 'Maximum_price', 'Review', 'Item Url'],\n",
              "      dtype='object')"
            ]
          },
          "metadata": {},
          "execution_count": 86
        }
      ]
    },
    {
      "cell_type": "code",
      "metadata": {
        "colab": {
          "base_uri": "https://localhost:8080/"
        },
        "id": "xF7FJPwQH7B0",
        "outputId": "ddaaf550-fa06-4b53-bd1f-59e5117ba329"
      },
      "source": [
        "clothes_df.shape"
      ],
      "execution_count": null,
      "outputs": [
        {
          "output_type": "execute_result",
          "data": {
            "text/plain": [
              "(100, 8)"
            ]
          },
          "metadata": {},
          "execution_count": 87
        }
      ]
    },
    {
      "cell_type": "code",
      "metadata": {
        "colab": {
          "base_uri": "https://localhost:8080/",
          "height": 300
        },
        "id": "Be5PZuWVIkZI",
        "outputId": "3183a5cf-2db5-4018-cb7b-37a51309d8c0"
      },
      "source": [
        "#!pip uninstall pandas\n",
        "!pip install pandas==1.1.5"
      ],
      "execution_count": null,
      "outputs": [
        {
          "output_type": "stream",
          "text": [
            "Collecting pandas==1.1.5\n",
            "  Downloading pandas-1.1.5-cp37-cp37m-manylinux1_x86_64.whl (9.5 MB)\n",
            "\u001b[K     |████████████████████████████████| 9.5 MB 5.1 MB/s \n",
            "\u001b[?25hRequirement already satisfied: numpy>=1.15.4 in /usr/local/lib/python3.7/dist-packages (from pandas==1.1.5) (1.19.5)\n",
            "Requirement already satisfied: pytz>=2017.2 in /usr/local/lib/python3.7/dist-packages (from pandas==1.1.5) (2018.9)\n",
            "Requirement already satisfied: python-dateutil>=2.7.3 in /usr/local/lib/python3.7/dist-packages (from pandas==1.1.5) (2.8.2)\n",
            "Requirement already satisfied: six>=1.5 in /usr/local/lib/python3.7/dist-packages (from python-dateutil>=2.7.3->pandas==1.1.5) (1.15.0)\n",
            "Installing collected packages: pandas\n",
            "\u001b[31mERROR: pip's dependency resolver does not currently take into account all the packages that are installed. This behaviour is the source of the following dependency conflicts.\n",
            "google-colab 1.0.0 requires requests~=2.23.0, but you have requests 2.26.0 which is incompatible.\u001b[0m\n",
            "Successfully installed pandas-1.1.5\n"
          ],
          "name": "stdout"
        },
        {
          "output_type": "display_data",
          "data": {
            "application/vnd.colab-display-data+json": {
              "pip_warning": {
                "packages": [
                  "pandas"
                ]
              }
            }
          },
          "metadata": {}
        }
      ]
    },
    {
      "cell_type": "code",
      "metadata": {
        "id": "URDEFIdFIZKp"
      },
      "source": [
        "clothes_df.to_csv('amazon_bestsellers_100.csv')"
      ],
      "execution_count": null,
      "outputs": []
    }
  ]
}